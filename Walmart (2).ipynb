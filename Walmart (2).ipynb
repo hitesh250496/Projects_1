{
  "nbformat": 4,
  "nbformat_minor": 0,
  "metadata": {
    "colab": {
      "name": "Walmart.ipynb",
      "provenance": [],
      "collapsed_sections": []
    },
    "kernelspec": {
      "name": "python3",
      "display_name": "Python 3"
    }
  },
  "cells": [
    {
      "cell_type": "code",
      "metadata": {
        "id": "YjOjetkX8-LZ",
        "colab_type": "code",
        "colab": {
          "base_uri": "https://localhost:8080/",
          "height": 122
        },
        "outputId": "155f0838-9e3f-417b-f9a2-ec3cddb4e294"
      },
      "source": [
        "from google.colab import drive\n",
        "drive.mount('/gdrive')"
      ],
      "execution_count": 1,
      "outputs": [
        {
          "output_type": "stream",
          "text": [
            "Go to this URL in a browser: https://accounts.google.com/o/oauth2/auth?client_id=947318989803-6bn6qk8qdgf4n4g3pfee6491hc0brc4i.apps.googleusercontent.com&redirect_uri=urn%3aietf%3awg%3aoauth%3a2.0%3aoob&scope=email%20https%3a%2f%2fwww.googleapis.com%2fauth%2fdocs.test%20https%3a%2f%2fwww.googleapis.com%2fauth%2fdrive%20https%3a%2f%2fwww.googleapis.com%2fauth%2fdrive.photos.readonly%20https%3a%2f%2fwww.googleapis.com%2fauth%2fpeopleapi.readonly&response_type=code\n",
            "\n",
            "Enter your authorization code:\n",
            "··········\n",
            "Mounted at /gdrive\n"
          ],
          "name": "stdout"
        }
      ]
    },
    {
      "cell_type": "markdown",
      "metadata": {
        "id": "lIUTVcHOBhIq",
        "colab_type": "text"
      },
      "source": [
        ""
      ]
    },
    {
      "cell_type": "code",
      "metadata": {
        "id": "DqJy5zoyBpMK",
        "colab_type": "code",
        "colab": {}
      },
      "source": [
        "import os\n",
        "os.chdir(\"/gdrive/My Drive/Walmart\")"
      ],
      "execution_count": 6,
      "outputs": []
    },
    {
      "cell_type": "code",
      "metadata": {
        "id": "JGS9mhvJB54K",
        "colab_type": "code",
        "colab": {}
      },
      "source": [
        "import pandas as pd \n",
        "import numpy as np\n",
        "\n",
        "key=pd.read_csv(\"key.csv\")\n",
        "train=pd.read_csv(\"train.csv\")\n",
        "test=pd.read_csv(\"test.csv\")\n",
        "weather=pd.read_csv(\"weather.csv\")"
      ],
      "execution_count": 7,
      "outputs": []
    },
    {
      "cell_type": "markdown",
      "metadata": {
        "id": "daWb5Mr6ZIK6",
        "colab_type": "text"
      },
      "source": [
        "* In weather dataset there are some missing and trace value which are denoted by 'M' & 'T'. There I have replace by the maximum value of data and then the columns are converted into float format. Because it will be easy to handle the data for futher analysis. \n",
        "* The strip() method removes any leading (spaces at the beginning) and trailing (spaces at the end) characters (space is the default leading character to remove).\n",
        "* Construct an IntervalIndex from an array-like of tuples."
      ]
    },
    {
      "cell_type": "code",
      "metadata": {
        "id": "XJfZXZhZCmS_",
        "colab_type": "code",
        "colab": {}
      },
      "source": [
        "\n",
        "\n",
        "weather[\"tmax\"] = weather[\"tmax\"].str.strip()\n",
        "weather[\"tmax\"].replace({\"M\": \"55555\", \"T\": \"99999\"}, inplace=True)\n",
        "weather[\"tmax\"] = weather[\"tmax\"].astype('float64')\n",
        "\n",
        "bins = pd.IntervalIndex.from_tuples([(-20, 0), (0,20),(20,40),(40,60),(60,100),(100,130), (55554, 55556)])\n",
        "weather[\"tmax_bin\"] = pd.cut(weather[\"tmax\"], bins)\n",
        "\n",
        "\n",
        "weather[\"tmin\"] = weather[\"tmin\"].str.strip()\n",
        "weather[\"tmin\"].replace({\"M\": \"55555\", \"T\": \"99999\"}, inplace=True)\n",
        "weather[\"tmin\"] = weather[\"tmin\"].astype('float64')\n",
        "\n",
        "bins = pd.IntervalIndex.from_tuples([(-30, 0), (0,20),(20,40),(40,60),(60,100), (55554, 55556)])\n",
        "weather[\"tmin_bin\"] = pd.cut(weather[\"tmin\"], bins)\n",
        "\n",
        "\n",
        "weather[\"tavg\"] = weather[\"tavg\"].str.strip()\n",
        "weather[\"tavg\"].replace({\"M\": \"55555\", \"T\": \"99999\"}, inplace=True)\n",
        "weather[\"tavg\"] = weather[\"tavg\"].astype('float64')\n",
        "\n",
        "bins = pd.IntervalIndex.from_tuples([(-20, 0), (0,20),(20,40),(40,60),(60,100), (55554, 55556)])\n",
        "weather[\"tavg_bin\"] = pd.cut(weather[\"tavg\"], bins)\n",
        "\n",
        "\n",
        "weather[\"depart\"] = weather[\"depart\"].str.strip()\n",
        "weather[\"depart\"].replace({\"M\": \"55555\", \"T\": \"99999\"}, inplace=True)\n",
        "weather[\"depart\"] = weather[\"depart\"].astype('float64')\n",
        "\n",
        "bins = pd.IntervalIndex.from_tuples([(-40,-20),(-20,0),(0,20),(20,40),(40,60),(60,100),(55554,55556)])\n",
        "weather[\"depart_bin\"]= pd.cut(weather[\"depart\"],bins)\n",
        "\n",
        "\n",
        "weather[\"dewpoint\"] = weather[\"dewpoint\"].str.strip()\n",
        "weather[\"dewpoint\"].replace({\"M\": \"55555\", \"T\": \"99999\"}, inplace=True)\n",
        "weather[\"dewpoint\"] = weather[\"dewpoint\"].astype('float64')\n",
        "\n",
        "bins = pd.IntervalIndex.from_tuples([(-30,-20),(-20,0),(0,20),(20,40),(40,60),(60,100),(55554,55556)])\n",
        "weather[\"dewpoint_bin\"]= pd.cut(weather[\"dewpoint\"],bins)\n",
        "\n",
        "\n",
        "weather[\"wetbulb\"] = weather[\"wetbulb\"].str.strip()\n",
        "weather[\"wetbulb\"].replace({\"M\": \"55555\", \"T\": \"99999\"}, inplace=True)\n",
        "weather[\"wetbulb\"] = weather[\"wetbulb\"].astype('float64')\n",
        "\n",
        "bins = pd.IntervalIndex.from_tuples([(-20,-10),(-10,0),(0,20),(20,40),(40,60),(60,100),(55554,55556)])\n",
        "weather[\"wetbulb_bin\"]= pd.cut(weather[\"wetbulb\"],bins)\n",
        "\n",
        "\n",
        "weather[\"heat\"] = weather[\"heat\"].str.strip()\n",
        "weather[\"heat\"].replace({\"M\": \"55555\", \"T\": \"99999\"}, inplace=True)\n",
        "weather[\"heat\"] = weather[\"heat\"].astype('float64')\n",
        "\n",
        "bins = pd.IntervalIndex.from_tuples([(-1,0),(0,20),(20,40),(40,60),(60,80),(80,100),(55554,55556)])\n",
        "weather[\"heat_bin\"]= pd.cut(weather[\"heat\"],bins)\n",
        "\n",
        "\n",
        "weather[\"cool\"] = weather[\"cool\"].str.strip()\n",
        "weather[\"cool\"].replace({\"M\": \"55555\", \"T\": \"99999\"}, inplace=True)\n",
        "weather[\"cool\"] = weather[\"cool\"].astype('float64')\n",
        "\n",
        "bins = pd.IntervalIndex.from_tuples([(-1,0),(0,1),(1,10),(10,20),(20,40),(55554,55556)])\n",
        "weather[\"cool_bin\"]= pd.cut(weather[\"cool\"],bins)\n",
        "\n",
        "\n",
        "weather[\"snowfall\"] = weather[\"snowfall\"].str.strip()\n",
        "weather[\"snowfall\"].replace({\"M\": \"55555\",\"T\": \"99999\"}, inplace=True)\n",
        "weather[\"snowfall\"] = weather[\"snowfall\"].astype('float64')\n",
        "\n",
        "bins= pd.IntervalIndex.from_tuples([(-1,0),(0,1),(1,10),(10,20),(20,40),(40,60),(60,100),(55554,55556),(99998,100000)])\n",
        "weather[\"snowfall_bin\"]=pd.cut(weather[\"snowfall\"],bins)\n",
        "\n",
        "\n",
        "weather[\"preciptotal\"] = weather[\"preciptotal\"].str.strip()\n",
        "weather[\"preciptotal\"].replace({\"M\": \"55555\", \"T\": \"99999\"}, inplace=True)\n",
        "weather[\"preciptotal\"] = weather[\"preciptotal\"].astype('float64')\n",
        "\n",
        "bins= pd.IntervalIndex.from_tuples([(-1,0),(0.0,0),(0,1),(1,10),(55554,55556),(99998,100000)])\n",
        "weather[\"preciptotal_bin\"]=pd.cut(weather[\"preciptotal\"],bins)\n",
        "\n",
        "\n",
        "weather[\"stnpressure\"] = weather[\"stnpressure\"].str.strip()\n",
        "weather[\"stnpressure\"].replace({\"M\": \"55555\", \"T\": \"99999\"}, inplace=True)\n",
        "weather[\"stnpressure\"] = weather[\"stnpressure\"].astype('float64')\n",
        "\n",
        "bins= pd.IntervalIndex.from_tuples([(0,10),(10,20),(20,30),(30,40),(40,60),(60,100),(55554,55556)])\n",
        "weather[\"stnpressure_bin\"]=pd.cut(weather[\"stnpressure\"],bins)\n",
        "\n",
        "\n",
        "weather[\"sealevel\"] = weather[\"sealevel\"].str.strip()\n",
        "weather[\"sealevel\"].replace({\"M\": \"55555\", \"T\": \"99999\"}, inplace=True)\n",
        "weather[\"sealevel\"] = weather[\"sealevel\"].astype('float64')\n",
        "\n",
        "bins= pd.IntervalIndex.from_tuples([(0,10),(10,20),(20,30),(30,40),(40,60),(60,100),(55554,55556)])\n",
        "weather[\"sealevel_bin\"]=pd.cut(weather[\"sealevel\"],bins)\n",
        "\n",
        "\n",
        "weather[\"resultspeed\"] = weather[\"resultspeed\"].str.strip()\n",
        "weather[\"resultspeed\"].replace({\"M\": \"55555\", \"T\": \"99999\"}, inplace=True)\n",
        "weather[\"resultspeed\"] = weather[\"resultspeed\"].astype('float64')\n",
        "\n",
        "bins= pd.IntervalIndex.from_tuples([(0,10),(10,20),(20,30),(30,40),(40,60),(60,100),(55554,55556)])\n",
        "weather[\"resultspeed_bin\"]=pd.cut(weather[\"resultspeed\"],bins)\n",
        "\n",
        "\n",
        "\n",
        "weather[\"resultdir\"] = weather[\"resultdir\"].str.strip()\n",
        "weather[\"resultdir\"].replace({\"M\": \"55555\", \"T\": \"99999\"}, inplace=True)\n",
        "weather[\"resultdir\"] = weather[\"resultdir\"].astype('float64')\n",
        "\n",
        "bins= pd.IntervalIndex.from_tuples([(0,10),(10,20),(20,30),(30,40),(40,60),(60,100),(55554,55556)])\n",
        "weather[\"resultdir_bin\"]=pd.cut(weather[\"resultdir\"],bins)\n",
        "\n",
        "weather[\"avgspeed\"] = weather[\"avgspeed\"].str.strip()\n",
        "weather[\"avgspeed\"].replace({\"M\": \"55555\", \"T\": \"99999\"}, inplace=True)\n",
        "weather[\"avgspeed\"] = weather[\"avgspeed\"].astype('float64')\n",
        "\n",
        "bins= pd.IntervalIndex.from_tuples([(0,10),(10,20),(20,30),(30,40),(40,60),(60,100),(55554,55556)])\n",
        "weather[\"avgspeed_bin\"]=pd.cut(weather[\"avgspeed\"],bins)"
      ],
      "execution_count": 8,
      "outputs": []
    },
    {
      "cell_type": "markdown",
      "metadata": {
        "id": "nnpOA38yakUF",
        "colab_type": "text"
      },
      "source": [
        "* Removed those original columns where present 'T' and 'M'.\n"
      ]
    },
    {
      "cell_type": "code",
      "metadata": {
        "id": "Vs-KAbB-BOmE",
        "colab_type": "code",
        "colab": {}
      },
      "source": [
        "\n",
        "weather = weather.drop(columns=['tmax','tmin','tavg','depart','dewpoint','wetbulb','heat','cool','snowfall','preciptotal',\n",
        "                                'stnpressure','sealevel','resultspeed','resultdir',\n",
        "                                'avgspeed','sunrise','sunset','codesum'])\n",
        "\n"
      ],
      "execution_count": 9,
      "outputs": []
    },
    {
      "cell_type": "markdown",
      "metadata": {
        "id": "YkYOEbgQbKf1",
        "colab_type": "text"
      },
      "source": [
        "* We merge key.csv and weather .csv\n",
        "* Also merge key_weather and train.scv"
      ]
    },
    {
      "cell_type": "code",
      "metadata": {
        "id": "SsRr7kirbFi2",
        "colab_type": "code",
        "colab": {}
      },
      "source": [
        "\n",
        "key_weather = key.merge(weather,on=\"station_nbr\")\n",
        "\n",
        "key_weather_train=key_weather.merge(train, on=[\"date\",\"store_nbr\"])"
      ],
      "execution_count": 10,
      "outputs": []
    },
    {
      "cell_type": "markdown",
      "metadata": {
        "id": "AB0yRD1GN8Gv",
        "colab_type": "text"
      },
      "source": [
        "* Using to_datetime() we change format of date column \n",
        "* create separate columns of date ,month ,year"
      ]
    },
    {
      "cell_type": "code",
      "metadata": {
        "id": "xVInoI-sBOWM",
        "colab_type": "code",
        "colab": {}
      },
      "source": [
        "\n",
        "\n",
        "\n",
        "\n",
        "key_weather_train['date'] = pd.to_datetime(key_weather_train['date'],\n",
        "                 format='%Y-%m-%d')\n",
        "\n",
        "key_weather_train['year'] = key_weather_train['date'].dt.year\n",
        "key_weather_train['month'] = key_weather_train['date'].dt.month\n",
        "key_weather_train['day'] = key_weather_train['date'].dt.day\n"
      ],
      "execution_count": 11,
      "outputs": []
    },
    {
      "cell_type": "markdown",
      "metadata": {
        "id": "4NLmQkrVt5iR",
        "colab_type": "text"
      },
      "source": [
        "* Drop original 'date' and 'station_nbr' columns"
      ]
    },
    {
      "cell_type": "code",
      "metadata": {
        "id": "B5e56T9EtxV3",
        "colab_type": "code",
        "colab": {}
      },
      "source": [
        "\n",
        "\n",
        "key_weather_train=key_weather_train.drop(columns=['date','station_nbr'])"
      ],
      "execution_count": 12,
      "outputs": []
    },
    {
      "cell_type": "markdown",
      "metadata": {
        "id": "yqkPnl4Vfq9-",
        "colab_type": "text"
      },
      "source": [
        "* 'store_nbr' and 'item_nbr' both columns datatypes are int64 threfore we convert into category"
      ]
    },
    {
      "cell_type": "code",
      "metadata": {
        "id": "oZATuQMwBkWM",
        "colab_type": "code",
        "colab": {}
      },
      "source": [
        "\n",
        "\n",
        "key_weather_train['item_nbr']=key_weather_train['item_nbr'].astype('category')\n",
        "\n",
        "key_weather_train['store_nbr']=key_weather_train['store_nbr'].astype('category')"
      ],
      "execution_count": 13,
      "outputs": []
    },
    {
      "cell_type": "markdown",
      "metadata": {
        "id": "NYVRM6pdrjWr",
        "colab_type": "text"
      },
      "source": [
        "\n",
        " * All columns convert as type category  "
      ]
    },
    {
      "cell_type": "code",
      "metadata": {
        "id": "UM6TwkY7Cgge",
        "colab_type": "code",
        "colab": {}
      },
      "source": [
        "\n",
        "key_weather_train['tmax_bin'] = key_weather_train['tmax_bin'].astype('category')\n",
        "key_weather_train['tmin_bin'] = key_weather_train['tmin_bin'].astype('category')\n",
        "key_weather_train['tavg_bin'] = key_weather_train['tavg_bin'].astype('category')\n",
        "key_weather_train['depart_bin'] = key_weather_train['depart_bin'].astype('category')\n",
        "key_weather_train['dewpoint_bin'] = key_weather_train['dewpoint_bin'].astype('category')\n",
        "key_weather_train['wetbulb_bin'] = key_weather_train['wetbulb_bin'].astype('category')\n",
        "key_weather_train['heat_bin'] = key_weather_train['heat_bin'].astype('category')\n",
        "key_weather_train['cool_bin'] = key_weather_train['cool_bin'].astype('category')\n",
        "key_weather_train['snowfall_bin'] = key_weather_train['snowfall_bin'].astype('category')\n",
        "key_weather_train['preciptotal_bin'] = key_weather_train['preciptotal_bin'].astype('category')\n",
        "key_weather_train['stnpressure_bin'] = key_weather_train['stnpressure_bin'].astype('category')\n",
        "key_weather_train['sealevel_bin'] = key_weather_train['sealevel_bin'].astype('category')\n",
        "key_weather_train['resultspeed_bin'] = key_weather_train['resultspeed_bin'].astype('category')\n",
        "key_weather_train['resultdir_bin'] = key_weather_train['resultdir_bin'].astype('category')\n",
        "key_weather_train['avgspeed_bin'] = key_weather_train['avgspeed_bin'].astype('category')"
      ],
      "execution_count": 14,
      "outputs": []
    },
    {
      "cell_type": "markdown",
      "metadata": {
        "id": "MZvSA4xGr5SG",
        "colab_type": "text"
      },
      "source": [
        "* Save key_weather_train as .csv"
      ]
    },
    {
      "cell_type": "code",
      "metadata": {
        "id": "4r9eLqiR4rQi",
        "colab_type": "code",
        "colab": {}
      },
      "source": [
        "\n",
        "key_weather_train.to_csv(r'C:\\hitesh\\walmart\\key_weather_train.csv')"
      ],
      "execution_count": 52,
      "outputs": []
    },
    {
      "cell_type": "markdown",
      "metadata": {
        "id": "fvcdWvQBsHEV",
        "colab_type": "text"
      },
      "source": [
        "* Also merge key_weather and test.scv"
      ]
    },
    {
      "cell_type": "code",
      "metadata": {
        "id": "_Zc7oxiz4rqY",
        "colab_type": "code",
        "colab": {
          "base_uri": "https://localhost:8080/",
          "height": 309
        },
        "outputId": "2ce99ee0-6fdf-424c-b2ab-e8ce93e9cd3c"
      },
      "source": [
        "\n",
        "key_weather_test=key_weather.merge(test, on=[\"date\",\"store_nbr\"])\n",
        "key_weather_test.head()"
      ],
      "execution_count": 16,
      "outputs": [
        {
          "output_type": "execute_result",
          "data": {
            "text/html": [
              "<div>\n",
              "<style scoped>\n",
              "    .dataframe tbody tr th:only-of-type {\n",
              "        vertical-align: middle;\n",
              "    }\n",
              "\n",
              "    .dataframe tbody tr th {\n",
              "        vertical-align: top;\n",
              "    }\n",
              "\n",
              "    .dataframe thead th {\n",
              "        text-align: right;\n",
              "    }\n",
              "</style>\n",
              "<table border=\"1\" class=\"dataframe\">\n",
              "  <thead>\n",
              "    <tr style=\"text-align: right;\">\n",
              "      <th></th>\n",
              "      <th>store_nbr</th>\n",
              "      <th>station_nbr</th>\n",
              "      <th>date</th>\n",
              "      <th>tmax_bin</th>\n",
              "      <th>tmin_bin</th>\n",
              "      <th>tavg_bin</th>\n",
              "      <th>depart_bin</th>\n",
              "      <th>dewpoint_bin</th>\n",
              "      <th>wetbulb_bin</th>\n",
              "      <th>heat_bin</th>\n",
              "      <th>cool_bin</th>\n",
              "      <th>snowfall_bin</th>\n",
              "      <th>preciptotal_bin</th>\n",
              "      <th>stnpressure_bin</th>\n",
              "      <th>sealevel_bin</th>\n",
              "      <th>resultspeed_bin</th>\n",
              "      <th>resultdir_bin</th>\n",
              "      <th>avgspeed_bin</th>\n",
              "      <th>item_nbr</th>\n",
              "    </tr>\n",
              "  </thead>\n",
              "  <tbody>\n",
              "    <tr>\n",
              "      <th>0</th>\n",
              "      <td>1</td>\n",
              "      <td>1</td>\n",
              "      <td>2013-06-04</td>\n",
              "      <td>(60, 100]</td>\n",
              "      <td>(40, 60]</td>\n",
              "      <td>(60, 100]</td>\n",
              "      <td>(55554, 55556]</td>\n",
              "      <td>(40, 60]</td>\n",
              "      <td>(40, 60]</td>\n",
              "      <td>(0, 20]</td>\n",
              "      <td>(-1, 0]</td>\n",
              "      <td>(55554, 55556]</td>\n",
              "      <td>(-1.0, 0.0]</td>\n",
              "      <td>(20, 30]</td>\n",
              "      <td>(20, 30]</td>\n",
              "      <td>(0, 10]</td>\n",
              "      <td>(30, 40]</td>\n",
              "      <td>(0, 10]</td>\n",
              "      <td>1</td>\n",
              "    </tr>\n",
              "    <tr>\n",
              "      <th>1</th>\n",
              "      <td>1</td>\n",
              "      <td>1</td>\n",
              "      <td>2013-06-04</td>\n",
              "      <td>(60, 100]</td>\n",
              "      <td>(40, 60]</td>\n",
              "      <td>(60, 100]</td>\n",
              "      <td>(55554, 55556]</td>\n",
              "      <td>(40, 60]</td>\n",
              "      <td>(40, 60]</td>\n",
              "      <td>(0, 20]</td>\n",
              "      <td>(-1, 0]</td>\n",
              "      <td>(55554, 55556]</td>\n",
              "      <td>(-1.0, 0.0]</td>\n",
              "      <td>(20, 30]</td>\n",
              "      <td>(20, 30]</td>\n",
              "      <td>(0, 10]</td>\n",
              "      <td>(30, 40]</td>\n",
              "      <td>(0, 10]</td>\n",
              "      <td>2</td>\n",
              "    </tr>\n",
              "    <tr>\n",
              "      <th>2</th>\n",
              "      <td>1</td>\n",
              "      <td>1</td>\n",
              "      <td>2013-06-04</td>\n",
              "      <td>(60, 100]</td>\n",
              "      <td>(40, 60]</td>\n",
              "      <td>(60, 100]</td>\n",
              "      <td>(55554, 55556]</td>\n",
              "      <td>(40, 60]</td>\n",
              "      <td>(40, 60]</td>\n",
              "      <td>(0, 20]</td>\n",
              "      <td>(-1, 0]</td>\n",
              "      <td>(55554, 55556]</td>\n",
              "      <td>(-1.0, 0.0]</td>\n",
              "      <td>(20, 30]</td>\n",
              "      <td>(20, 30]</td>\n",
              "      <td>(0, 10]</td>\n",
              "      <td>(30, 40]</td>\n",
              "      <td>(0, 10]</td>\n",
              "      <td>3</td>\n",
              "    </tr>\n",
              "    <tr>\n",
              "      <th>3</th>\n",
              "      <td>1</td>\n",
              "      <td>1</td>\n",
              "      <td>2013-06-04</td>\n",
              "      <td>(60, 100]</td>\n",
              "      <td>(40, 60]</td>\n",
              "      <td>(60, 100]</td>\n",
              "      <td>(55554, 55556]</td>\n",
              "      <td>(40, 60]</td>\n",
              "      <td>(40, 60]</td>\n",
              "      <td>(0, 20]</td>\n",
              "      <td>(-1, 0]</td>\n",
              "      <td>(55554, 55556]</td>\n",
              "      <td>(-1.0, 0.0]</td>\n",
              "      <td>(20, 30]</td>\n",
              "      <td>(20, 30]</td>\n",
              "      <td>(0, 10]</td>\n",
              "      <td>(30, 40]</td>\n",
              "      <td>(0, 10]</td>\n",
              "      <td>4</td>\n",
              "    </tr>\n",
              "    <tr>\n",
              "      <th>4</th>\n",
              "      <td>1</td>\n",
              "      <td>1</td>\n",
              "      <td>2013-06-04</td>\n",
              "      <td>(60, 100]</td>\n",
              "      <td>(40, 60]</td>\n",
              "      <td>(60, 100]</td>\n",
              "      <td>(55554, 55556]</td>\n",
              "      <td>(40, 60]</td>\n",
              "      <td>(40, 60]</td>\n",
              "      <td>(0, 20]</td>\n",
              "      <td>(-1, 0]</td>\n",
              "      <td>(55554, 55556]</td>\n",
              "      <td>(-1.0, 0.0]</td>\n",
              "      <td>(20, 30]</td>\n",
              "      <td>(20, 30]</td>\n",
              "      <td>(0, 10]</td>\n",
              "      <td>(30, 40]</td>\n",
              "      <td>(0, 10]</td>\n",
              "      <td>5</td>\n",
              "    </tr>\n",
              "  </tbody>\n",
              "</table>\n",
              "</div>"
            ],
            "text/plain": [
              "   store_nbr  station_nbr        date  ... resultdir_bin avgspeed_bin item_nbr\n",
              "0          1            1  2013-06-04  ...      (30, 40]      (0, 10]        1\n",
              "1          1            1  2013-06-04  ...      (30, 40]      (0, 10]        2\n",
              "2          1            1  2013-06-04  ...      (30, 40]      (0, 10]        3\n",
              "3          1            1  2013-06-04  ...      (30, 40]      (0, 10]        4\n",
              "4          1            1  2013-06-04  ...      (30, 40]      (0, 10]        5\n",
              "\n",
              "[5 rows x 19 columns]"
            ]
          },
          "metadata": {
            "tags": []
          },
          "execution_count": 16
        }
      ]
    },
    {
      "cell_type": "markdown",
      "metadata": {
        "id": "TJXInG5StkZq",
        "colab_type": "text"
      },
      "source": [
        "* Using to_datetime() we change format of date column \n",
        "* create separate columns of date ,month ,year"
      ]
    },
    {
      "cell_type": "code",
      "metadata": {
        "id": "QY7GxMQQ4rTZ",
        "colab_type": "code",
        "colab": {}
      },
      "source": [
        "\n",
        "\n",
        "key_weather_test['date'] = pd.to_datetime(key_weather_test['date'],\n",
        "                 format='%Y-%m-%d')\n",
        "\n",
        "key_weather_test['year'] = key_weather_test['date'].dt.year\n",
        "key_weather_test['month'] = key_weather_test['date'].dt.month\n",
        "key_weather_test['day'] = key_weather_test['date'].dt.day"
      ],
      "execution_count": 17,
      "outputs": []
    },
    {
      "cell_type": "markdown",
      "metadata": {
        "id": "gxMZ-Ms3unFP",
        "colab_type": "text"
      },
      "source": [
        "* Drop original 'date' and 'station_nbr' columns"
      ]
    },
    {
      "cell_type": "code",
      "metadata": {
        "id": "ikHlxYnB4rNb",
        "colab_type": "code",
        "colab": {}
      },
      "source": [
        "\n",
        "\n",
        "key_weather_test=key_weather_test.drop(columns=['date','station_nbr'])\n",
        "\n"
      ],
      "execution_count": 18,
      "outputs": []
    },
    {
      "cell_type": "markdown",
      "metadata": {
        "id": "sEPuBQoHuW_n",
        "colab_type": "text"
      },
      "source": [
        " * 'store_nbr' and 'item_nbr' both columns datatypes are int64 threfore we convert into category"
      ]
    },
    {
      "cell_type": "code",
      "metadata": {
        "id": "AIZJUKS-uVOg",
        "colab_type": "code",
        "colab": {}
      },
      "source": [
        "\n",
        "\n",
        "key_weather_test['item_nbr']=key_weather_test['item_nbr'].astype('category')\n",
        "\n",
        "key_weather_test['store_nbr']=key_weather_test['store_nbr'].astype('category')"
      ],
      "execution_count": 19,
      "outputs": []
    },
    {
      "cell_type": "markdown",
      "metadata": {
        "id": "0iCw451RvXKR",
        "colab_type": "text"
      },
      "source": [
        "* Save 'key_weather_test' file as .csv"
      ]
    },
    {
      "cell_type": "code",
      "metadata": {
        "id": "wXxyl2v75MhP",
        "colab_type": "code",
        "colab": {}
      },
      "source": [
        "\n",
        "key_weather_test.to_csv(r'C:\\hitesh\\walmart\\key_weather_test.csv')"
      ],
      "execution_count": null,
      "outputs": []
    },
    {
      "cell_type": "markdown",
      "metadata": {
        "id": "vRJN4JCgvxKI",
        "colab_type": "text"
      },
      "source": [
        " * All columns convert as type category "
      ]
    },
    {
      "cell_type": "code",
      "metadata": {
        "id": "NCtRVpCHCkm6",
        "colab_type": "code",
        "colab": {}
      },
      "source": [
        "\n",
        "key_weather_test['tmax_bin'] = key_weather_test['tmax_bin'].astype('category')\n",
        "key_weather_test['tmin_bin'] =key_weather_test['tmin_bin'].astype('category')\n",
        "key_weather_test['tavg_bin'] = key_weather_test['tavg_bin'].astype('category')\n",
        "key_weather_test['depart_bin'] = key_weather_test['depart_bin'].astype('category')\n",
        "key_weather_test['dewpoint_bin'] = key_weather_test['dewpoint_bin'].astype('category')\n",
        "key_weather_test['wetbulb_bin'] = key_weather_test['wetbulb_bin'].astype('category')\n",
        "key_weather_test['heat_bin'] = key_weather_test['heat_bin'].astype('category')\n",
        "key_weather_test['cool_bin'] = key_weather_test['cool_bin'].astype('category')\n",
        "key_weather_test['snowfall_bin'] = key_weather_test['snowfall_bin'].astype('category')\n",
        "key_weather_test['preciptotal_bin'] = key_weather_test['preciptotal_bin'].astype('category')\n",
        "key_weather_test['stnpressure_bin'] = key_weather_test['stnpressure_bin'].astype('category')\n",
        "key_weather_test['sealevel_bin'] = key_weather_test['sealevel_bin'].astype('category')\n",
        "key_weather_test['resultspeed_bin'] = key_weather_test['resultspeed_bin'].astype('category')\n",
        "key_weather_test['resultdir_bin'] = key_weather_test['resultdir_bin'].astype('category')\n",
        "key_weather_test['avgspeed_bin'] = key_weather_test['avgspeed_bin'].astype('category')"
      ],
      "execution_count": 20,
      "outputs": []
    },
    {
      "cell_type": "markdown",
      "metadata": {
        "id": "3IMvDW4cv2Rf",
        "colab_type": "text"
      },
      "source": [
        " * Install H2O library"
      ]
    },
    {
      "cell_type": "code",
      "metadata": {
        "id": "RwLyz0Im52KQ",
        "colab_type": "code",
        "colab": {
          "base_uri": "https://localhost:8080/",
          "height": 340
        },
        "outputId": "226caf8a-df9f-4c99-fcb8-7c4fb88e1098"
      },
      "source": [
        "!pip install h2o"
      ],
      "execution_count": 21,
      "outputs": [
        {
          "output_type": "stream",
          "text": [
            "Collecting h2o\n",
            "\u001b[?25l  Downloading https://files.pythonhosted.org/packages/b0/e7/b7057e4a6832f3bec0cb36fda4913bf84a6dc610c92a2d3543442f4154a1/h2o-3.30.1.1.tar.gz (129.3MB)\n",
            "\u001b[K     |████████████████████████████████| 129.3MB 84kB/s \n",
            "\u001b[?25hRequirement already satisfied: requests in /usr/local/lib/python3.6/dist-packages (from h2o) (2.23.0)\n",
            "Requirement already satisfied: tabulate in /usr/local/lib/python3.6/dist-packages (from h2o) (0.8.7)\n",
            "Requirement already satisfied: future in /usr/local/lib/python3.6/dist-packages (from h2o) (0.16.0)\n",
            "Collecting colorama>=0.3.8\n",
            "  Downloading https://files.pythonhosted.org/packages/c9/dc/45cdef1b4d119eb96316b3117e6d5708a08029992b2fee2c143c7a0a5cc5/colorama-0.4.3-py2.py3-none-any.whl\n",
            "Requirement already satisfied: idna<3,>=2.5 in /usr/local/lib/python3.6/dist-packages (from requests->h2o) (2.10)\n",
            "Requirement already satisfied: chardet<4,>=3.0.2 in /usr/local/lib/python3.6/dist-packages (from requests->h2o) (3.0.4)\n",
            "Requirement already satisfied: certifi>=2017.4.17 in /usr/local/lib/python3.6/dist-packages (from requests->h2o) (2020.6.20)\n",
            "Requirement already satisfied: urllib3!=1.25.0,!=1.25.1,<1.26,>=1.21.1 in /usr/local/lib/python3.6/dist-packages (from requests->h2o) (1.24.3)\n",
            "Building wheels for collected packages: h2o\n",
            "  Building wheel for h2o (setup.py) ... \u001b[?25l\u001b[?25hdone\n",
            "  Created wheel for h2o: filename=h2o-3.30.1.1-py2.py3-none-any.whl size=129358603 sha256=d4f112c1e6d64b781d582c2db712ba54c5dfc05c1b323e21ab0df773d7758349\n",
            "  Stored in directory: /root/.cache/pip/wheels/33/ac/52/165c35d747abdb629c3c9fb7e087f360c662d8cb58824caed8\n",
            "Successfully built h2o\n",
            "Installing collected packages: colorama, h2o\n",
            "Successfully installed colorama-0.4.3 h2o-3.30.1.1\n"
          ],
          "name": "stdout"
        }
      ]
    },
    {
      "cell_type": "markdown",
      "metadata": {
        "id": "hclbV0xqwBal",
        "colab_type": "text"
      },
      "source": [
        "* Import H2O "
      ]
    },
    {
      "cell_type": "code",
      "metadata": {
        "id": "e9-ZsC8QKAAW",
        "colab_type": "code",
        "colab": {
          "base_uri": "https://localhost:8080/",
          "height": 545
        },
        "outputId": "093eee47-9c88-4e24-87a8-55317da43958"
      },
      "source": [
        "import h2o\n",
        "h2o.init()"
      ],
      "execution_count": 22,
      "outputs": [
        {
          "output_type": "stream",
          "text": [
            "Checking whether there is an H2O instance running at http://localhost:54321 ..... not found.\n",
            "Attempting to start a local H2O server...\n",
            "  Java Version: openjdk version \"11.0.8\" 2020-07-14; OpenJDK Runtime Environment (build 11.0.8+10-post-Ubuntu-0ubuntu118.04.1); OpenJDK 64-Bit Server VM (build 11.0.8+10-post-Ubuntu-0ubuntu118.04.1, mixed mode, sharing)\n",
            "  Starting server from /usr/local/lib/python3.6/dist-packages/h2o/backend/bin/h2o.jar\n",
            "  Ice root: /tmp/tmpu1t5x3ah\n",
            "  JVM stdout: /tmp/tmpu1t5x3ah/h2o_unknownUser_started_from_python.out\n",
            "  JVM stderr: /tmp/tmpu1t5x3ah/h2o_unknownUser_started_from_python.err\n",
            "  Server is running at http://127.0.0.1:54321\n",
            "Connecting to H2O server at http://127.0.0.1:54321 ... successful.\n"
          ],
          "name": "stdout"
        },
        {
          "output_type": "display_data",
          "data": {
            "text/html": [
              "<div style=\"overflow:auto\"><table style=\"width:50%\"><tr><td>H2O_cluster_uptime:</td>\n",
              "<td>02 secs</td></tr>\n",
              "<tr><td>H2O_cluster_timezone:</td>\n",
              "<td>Etc/UTC</td></tr>\n",
              "<tr><td>H2O_data_parsing_timezone:</td>\n",
              "<td>UTC</td></tr>\n",
              "<tr><td>H2O_cluster_version:</td>\n",
              "<td>3.30.1.1</td></tr>\n",
              "<tr><td>H2O_cluster_version_age:</td>\n",
              "<td>2 days </td></tr>\n",
              "<tr><td>H2O_cluster_name:</td>\n",
              "<td>H2O_from_python_unknownUser_nbr1cx</td></tr>\n",
              "<tr><td>H2O_cluster_total_nodes:</td>\n",
              "<td>1</td></tr>\n",
              "<tr><td>H2O_cluster_free_memory:</td>\n",
              "<td>3.180 Gb</td></tr>\n",
              "<tr><td>H2O_cluster_total_cores:</td>\n",
              "<td>2</td></tr>\n",
              "<tr><td>H2O_cluster_allowed_cores:</td>\n",
              "<td>2</td></tr>\n",
              "<tr><td>H2O_cluster_status:</td>\n",
              "<td>accepting new members, healthy</td></tr>\n",
              "<tr><td>H2O_connection_url:</td>\n",
              "<td>http://127.0.0.1:54321</td></tr>\n",
              "<tr><td>H2O_connection_proxy:</td>\n",
              "<td>{\"http\": null, \"https\": null}</td></tr>\n",
              "<tr><td>H2O_internal_security:</td>\n",
              "<td>False</td></tr>\n",
              "<tr><td>H2O_API_Extensions:</td>\n",
              "<td>Amazon S3, XGBoost, Algos, AutoML, Core V3, TargetEncoder, Core V4</td></tr>\n",
              "<tr><td>Python_version:</td>\n",
              "<td>3.6.9 final</td></tr></table></div>"
            ],
            "text/plain": [
              "--------------------------  ------------------------------------------------------------------\n",
              "H2O_cluster_uptime:         02 secs\n",
              "H2O_cluster_timezone:       Etc/UTC\n",
              "H2O_data_parsing_timezone:  UTC\n",
              "H2O_cluster_version:        3.30.1.1\n",
              "H2O_cluster_version_age:    2 days\n",
              "H2O_cluster_name:           H2O_from_python_unknownUser_nbr1cx\n",
              "H2O_cluster_total_nodes:    1\n",
              "H2O_cluster_free_memory:    3.180 Gb\n",
              "H2O_cluster_total_cores:    2\n",
              "H2O_cluster_allowed_cores:  2\n",
              "H2O_cluster_status:         accepting new members, healthy\n",
              "H2O_connection_url:         http://127.0.0.1:54321\n",
              "H2O_connection_proxy:       {\"http\": null, \"https\": null}\n",
              "H2O_internal_security:      False\n",
              "H2O_API_Extensions:         Amazon S3, XGBoost, Algos, AutoML, Core V3, TargetEncoder, Core V4\n",
              "Python_version:             3.6.9 final\n",
              "--------------------------  ------------------------------------------------------------------"
            ]
          },
          "metadata": {
            "tags": []
          }
        }
      ]
    },
    {
      "cell_type": "markdown",
      "metadata": {
        "id": "JRkwKjyKwXKl",
        "colab_type": "text"
      },
      "source": [
        "* Import os for import operating system to give my drive path"
      ]
    },
    {
      "cell_type": "code",
      "metadata": {
        "id": "kLLJKm6BJ-H1",
        "colab_type": "code",
        "colab": {}
      },
      "source": [
        "import os\n",
        "os.chdir(\"/gdrive/My Drive\")"
      ],
      "execution_count": 23,
      "outputs": []
    },
    {
      "cell_type": "code",
      "metadata": {
        "id": "nly5Nv73UccU",
        "colab_type": "code",
        "colab": {
          "base_uri": "https://localhost:8080/",
          "height": 408
        },
        "outputId": "026cef5f-0cfa-4972-c9b4-7b2f02d9d1bb"
      },
      "source": [
        "\n",
        "\n",
        "df = h2o.import_file (\"key_weather_train.csv\")\n",
        "df.types\n",
        "df.col_names"
      ],
      "execution_count": 24,
      "outputs": [
        {
          "output_type": "stream",
          "text": [
            "Parse progress: |█████████████████████████████████████████████████████████| 100%\n"
          ],
          "name": "stdout"
        },
        {
          "output_type": "execute_result",
          "data": {
            "text/plain": [
              "['C1',\n",
              " 'store_nbr',\n",
              " 'tmax_bin',\n",
              " 'tmin_bin',\n",
              " 'tavg_bin',\n",
              " 'depart_bin',\n",
              " 'dewpoint_bin',\n",
              " 'wetbulb_bin',\n",
              " 'heat_bin',\n",
              " 'cool_bin',\n",
              " 'snowfall_bin',\n",
              " 'preciptotal_bin',\n",
              " 'stnpressure_bin',\n",
              " 'sealevel_bin',\n",
              " 'resultspeed_bin',\n",
              " 'resultdir_bin',\n",
              " 'avgspeed_bin',\n",
              " 'item_nbr',\n",
              " 'units',\n",
              " 'year',\n",
              " 'month',\n",
              " 'day']"
            ]
          },
          "metadata": {
            "tags": []
          },
          "execution_count": 24
        }
      ]
    },
    {
      "cell_type": "markdown",
      "metadata": {
        "id": "leHVNQ1fZT38",
        "colab_type": "text"
      },
      "source": [
        "* Here the data is separate into X and Y,X contains all features,Y contain response varialble named as 'units'."
      ]
    },
    {
      "cell_type": "code",
      "metadata": {
        "id": "wWnkzEl1UySl",
        "colab_type": "code",
        "colab": {}
      },
      "source": [
        "y = 'units'\n",
        "x = df.drop(['units'])\n",
        "x=x.col_names\n"
      ],
      "execution_count": 25,
      "outputs": []
    },
    {
      "cell_type": "code",
      "metadata": {
        "id": "z61Ulw3mU1h7",
        "colab_type": "code",
        "colab": {}
      },
      "source": [
        "df['tmax_bin'] = df['tmax_bin'].asfactor()\n",
        "df['tmin_bin'] = df['tmin_bin'].asfactor()\n",
        "df['tavg_bin'] = df['tavg_bin'].asfactor()\n",
        "df['depart_bin'] = df['depart_bin'].asfactor()\n",
        "df['dewpoint_bin'] = df['dewpoint_bin'].asfactor()\n",
        "df['wetbulb_bin'] = df['wetbulb_bin'].asfactor()\n",
        "df['heat_bin'] = df['heat_bin'].asfactor()\n",
        "df['cool_bin'] = df['cool_bin'].asfactor()\n",
        "df['snowfall_bin'] = df['snowfall_bin'].asfactor()\n",
        "df['preciptotal_bin'] = df['preciptotal_bin'].asfactor()\n",
        "df['stnpressure_bin'] = df['stnpressure_bin'].asfactor()\n",
        "df['sealevel_bin'] = df['sealevel_bin'].asfactor()\n",
        "df['resultspeed_bin'] = df['resultspeed_bin'].asfactor()\n",
        "df['resultdir_bin'] = df['resultdir_bin'].asfactor()\n",
        "df['avgspeed_bin'] = df['avgspeed_bin'].asfactor()"
      ],
      "execution_count": 26,
      "outputs": []
    },
    {
      "cell_type": "markdown",
      "metadata": {
        "id": "MDQfFDnDxEF8",
        "colab_type": "text"
      },
      "source": [
        "* train test split in H2O"
      ]
    },
    {
      "cell_type": "code",
      "metadata": {
        "id": "pF2nqHsiU4CK",
        "colab_type": "code",
        "colab": {
          "base_uri": "https://localhost:8080/",
          "height": 68
        },
        "outputId": "49124180-9ac1-4788-c77f-c587231281e0"
      },
      "source": [
        "\n",
        "train,  test = df.split_frame(ratios=[.8])\n",
        "\n",
        "print(df.shape)\n",
        "print(train.shape)\n",
        "print(test.shape)\n"
      ],
      "execution_count": 27,
      "outputs": [
        {
          "output_type": "stream",
          "text": [
            "(90459, 22)\n",
            "(72483, 22)\n",
            "(17976, 22)\n"
          ],
          "name": "stdout"
        }
      ]
    },
    {
      "cell_type": "markdown",
      "metadata": {
        "id": "nHSB91E-xKFd",
        "colab_type": "text"
      },
      "source": [
        " * H2OGeneralizedLinearEstimator"
      ]
    },
    {
      "cell_type": "code",
      "metadata": {
        "id": "1mTShpezU6QO",
        "colab_type": "code",
        "colab": {
          "base_uri": "https://localhost:8080/",
          "height": 360
        },
        "outputId": "8a8f3fc1-68e2-4890-ba66-5060769ea09f"
      },
      "source": [
        "\n",
        "\n",
        "from h2o.estimators.glm import H2OGeneralizedLinearEstimator\n",
        "\n",
        "glm_lin = H2OGeneralizedLinearEstimator(family = \"gaussian\")\n",
        "glm_lin.train(x=x, y= y, training_frame=train, validation_frame=test, model_id=\"glm_lin\")\n",
        "y_pred = glm_lin.predict(test_data=test)\n",
        "\n",
        "y_pred_df = y_pred.as_data_frame()\n",
        "\n",
        "#view result values\n",
        "glm_lin.model_performance(test)"
      ],
      "execution_count": 28,
      "outputs": [
        {
          "output_type": "stream",
          "text": [
            "/usr/local/lib/python3.6/dist-packages/h2o/estimators/estimator_base.py:200: RuntimeWarning: Dropping bad and constant columns: [store_nbr, snowfall_bin, depart_bin]\n",
            "  warnings.warn(mesg[\"message\"], RuntimeWarning)\n"
          ],
          "name": "stderr"
        },
        {
          "output_type": "stream",
          "text": [
            "glm Model Build progress: |███████████████████████████████████████████████| 100%\n",
            "glm prediction progress: |████████████████████████████████████████████████| 100%\n",
            "\n",
            "ModelMetricsRegressionGLM: glm\n",
            "** Reported on test data. **\n",
            "\n",
            "MSE: 12.291510510564647\n",
            "RMSE: 3.5059250577507566\n",
            "MAE: 0.7789254880316424\n",
            "RMSLE: 0.5187555884816001\n",
            "R^2: 0.01404799792814082\n",
            "Mean Residual Deviance: 12.291510510564647\n",
            "Null degrees of freedom: 17975\n",
            "Residual degrees of freedom: 17939\n",
            "Null deviance: 224111.3264260679\n",
            "Residual deviance: 220952.1929379101\n",
            "AIC: 96189.8231244006\n"
          ],
          "name": "stdout"
        },
        {
          "output_type": "execute_result",
          "data": {
            "text/plain": [
              ""
            ]
          },
          "metadata": {
            "tags": []
          },
          "execution_count": 28
        }
      ]
    },
    {
      "cell_type": "code",
      "metadata": {
        "id": "qs5jp1mK-8iP",
        "colab_type": "code",
        "colab": {}
      },
      "source": [
        ""
      ],
      "execution_count": null,
      "outputs": []
    },
    {
      "cell_type": "markdown",
      "metadata": {
        "id": "RDiaWeUwxdLk",
        "colab_type": "text"
      },
      "source": [
        "* H2OGradientBoostingEstimator :  Gradient Boosting Machine\n"
      ]
    },
    {
      "cell_type": "code",
      "metadata": {
        "id": "816hr4GQVF-L",
        "colab_type": "code",
        "colab": {
          "base_uri": "https://localhost:8080/",
          "height": 204
        },
        "outputId": "1a2bfc71-acf7-4925-8b58-c0553814fd8d"
      },
      "source": [
        "\n",
        "\n",
        "from h2o.estimators.gbm import H2OGradientBoostingEstimator\n",
        "\n",
        "h2o_gbm = H2OGradientBoostingEstimator(ignore_const_cols=False)\n",
        "h2o_gbm.train(x=x, y= y, training_frame=train, \n",
        "                   validation_frame=test, model_id=\"h2o_gbm\")\n",
        "\n",
        "y_pred = h2o_gbm.predict(test_data=test)\n",
        "\n",
        "y_pred_df = y_pred.as_data_frame()\n",
        "#view result values\n",
        "h2o_gbm.model_performance(test)\n"
      ],
      "execution_count": 29,
      "outputs": [
        {
          "output_type": "stream",
          "text": [
            "gbm Model Build progress: |███████████████████████████████████████████████| 100%\n",
            "gbm prediction progress: |████████████████████████████████████████████████| 100%\n",
            "\n",
            "ModelMetricsRegression: gbm\n",
            "** Reported on test data. **\n",
            "\n",
            "MSE: 3.93888259434194\n",
            "RMSE: 1.984661833749503\n",
            "MAE: 0.2372709560515083\n",
            "RMSLE: 0.1610197444964188\n",
            "Mean Residual Deviance: 3.93888259434194\n"
          ],
          "name": "stdout"
        },
        {
          "output_type": "execute_result",
          "data": {
            "text/plain": [
              ""
            ]
          },
          "metadata": {
            "tags": []
          },
          "execution_count": 29
        }
      ]
    },
    {
      "cell_type": "code",
      "metadata": {
        "id": "P_rCZqXVxjsJ",
        "colab_type": "code",
        "colab": {}
      },
      "source": [
        ""
      ],
      "execution_count": null,
      "outputs": []
    },
    {
      "cell_type": "markdown",
      "metadata": {
        "id": "uIavlhgSbUFz",
        "colab_type": "text"
      },
      "source": [
        "# From above analysis here we compare rmsle of both the algorithm here we found GBM is best."
      ]
    },
    {
      "cell_type": "markdown",
      "metadata": {
        "id": "XTYFUBuuxqlj",
        "colab_type": "text"
      },
      "source": [
        "* Best model fit on whole test dataset."
      ]
    },
    {
      "cell_type": "code",
      "metadata": {
        "id": "Hg_kOseA_F7i",
        "colab_type": "code",
        "colab": {
          "base_uri": "https://localhost:8080/",
          "height": 457
        },
        "outputId": "6c5717b7-d6a6-46b5-aba2-cb4bc8639d9d"
      },
      "source": [
        "test2=h2o.import_file(\"key_weather_test.csv\")\n",
        "test2.head()"
      ],
      "execution_count": 30,
      "outputs": [
        {
          "output_type": "stream",
          "text": [
            "Parse progress: |█████████████████████████████████████████████████████████| 100%\n"
          ],
          "name": "stdout"
        },
        {
          "output_type": "display_data",
          "data": {
            "text/html": [
              "<table>\n",
              "<thead>\n",
              "<tr><th style=\"text-align: right;\">  C1</th><th style=\"text-align: right;\">  store_nbr</th><th>tmax_bin  </th><th>tmin_bin  </th><th>tavg_bin  </th><th>depart_bin    </th><th>dewpoint_bin  </th><th>wetbulb_bin  </th><th>heat_bin  </th><th>cool_bin  </th><th>snowfall_bin  </th><th>preciptotal_bin  </th><th>stnpressure_bin  </th><th>sealevel_bin  </th><th>resultspeed_bin  </th><th>resultdir_bin  </th><th>avgspeed_bin  </th><th style=\"text-align: right;\">  item_nbr</th><th style=\"text-align: right;\">  year</th><th style=\"text-align: right;\">  month</th><th style=\"text-align: right;\">  day</th></tr>\n",
              "</thead>\n",
              "<tbody>\n",
              "<tr><td style=\"text-align: right;\">   0</td><td style=\"text-align: right;\">          1</td><td>(60, 100] </td><td>(40, 60]  </td><td>(60, 100] </td><td>(55554, 55556]</td><td>(40, 60]      </td><td>(40, 60]     </td><td>(0, 20]   </td><td>(-1, 0]   </td><td>(55554, 55556]</td><td>(-1.0, 0.0]      </td><td>(20, 30]         </td><td>(20, 30]      </td><td>(0, 10]          </td><td>(30, 40]       </td><td>(0, 10]       </td><td style=\"text-align: right;\">         1</td><td style=\"text-align: right;\">  2013</td><td style=\"text-align: right;\">      6</td><td style=\"text-align: right;\">    4</td></tr>\n",
              "<tr><td style=\"text-align: right;\">   1</td><td style=\"text-align: right;\">          1</td><td>(60, 100] </td><td>(40, 60]  </td><td>(60, 100] </td><td>(55554, 55556]</td><td>(40, 60]      </td><td>(40, 60]     </td><td>(0, 20]   </td><td>(-1, 0]   </td><td>(55554, 55556]</td><td>(-1.0, 0.0]      </td><td>(20, 30]         </td><td>(20, 30]      </td><td>(0, 10]          </td><td>(30, 40]       </td><td>(0, 10]       </td><td style=\"text-align: right;\">         2</td><td style=\"text-align: right;\">  2013</td><td style=\"text-align: right;\">      6</td><td style=\"text-align: right;\">    4</td></tr>\n",
              "<tr><td style=\"text-align: right;\">   2</td><td style=\"text-align: right;\">          1</td><td>(60, 100] </td><td>(40, 60]  </td><td>(60, 100] </td><td>(55554, 55556]</td><td>(40, 60]      </td><td>(40, 60]     </td><td>(0, 20]   </td><td>(-1, 0]   </td><td>(55554, 55556]</td><td>(-1.0, 0.0]      </td><td>(20, 30]         </td><td>(20, 30]      </td><td>(0, 10]          </td><td>(30, 40]       </td><td>(0, 10]       </td><td style=\"text-align: right;\">         3</td><td style=\"text-align: right;\">  2013</td><td style=\"text-align: right;\">      6</td><td style=\"text-align: right;\">    4</td></tr>\n",
              "<tr><td style=\"text-align: right;\">   3</td><td style=\"text-align: right;\">          1</td><td>(60, 100] </td><td>(40, 60]  </td><td>(60, 100] </td><td>(55554, 55556]</td><td>(40, 60]      </td><td>(40, 60]     </td><td>(0, 20]   </td><td>(-1, 0]   </td><td>(55554, 55556]</td><td>(-1.0, 0.0]      </td><td>(20, 30]         </td><td>(20, 30]      </td><td>(0, 10]          </td><td>(30, 40]       </td><td>(0, 10]       </td><td style=\"text-align: right;\">         4</td><td style=\"text-align: right;\">  2013</td><td style=\"text-align: right;\">      6</td><td style=\"text-align: right;\">    4</td></tr>\n",
              "<tr><td style=\"text-align: right;\">   4</td><td style=\"text-align: right;\">          1</td><td>(60, 100] </td><td>(40, 60]  </td><td>(60, 100] </td><td>(55554, 55556]</td><td>(40, 60]      </td><td>(40, 60]     </td><td>(0, 20]   </td><td>(-1, 0]   </td><td>(55554, 55556]</td><td>(-1.0, 0.0]      </td><td>(20, 30]         </td><td>(20, 30]      </td><td>(0, 10]          </td><td>(30, 40]       </td><td>(0, 10]       </td><td style=\"text-align: right;\">         5</td><td style=\"text-align: right;\">  2013</td><td style=\"text-align: right;\">      6</td><td style=\"text-align: right;\">    4</td></tr>\n",
              "<tr><td style=\"text-align: right;\">   5</td><td style=\"text-align: right;\">          1</td><td>(60, 100] </td><td>(40, 60]  </td><td>(60, 100] </td><td>(55554, 55556]</td><td>(40, 60]      </td><td>(40, 60]     </td><td>(0, 20]   </td><td>(-1, 0]   </td><td>(55554, 55556]</td><td>(-1.0, 0.0]      </td><td>(20, 30]         </td><td>(20, 30]      </td><td>(0, 10]          </td><td>(30, 40]       </td><td>(0, 10]       </td><td style=\"text-align: right;\">         6</td><td style=\"text-align: right;\">  2013</td><td style=\"text-align: right;\">      6</td><td style=\"text-align: right;\">    4</td></tr>\n",
              "<tr><td style=\"text-align: right;\">   6</td><td style=\"text-align: right;\">          1</td><td>(60, 100] </td><td>(40, 60]  </td><td>(60, 100] </td><td>(55554, 55556]</td><td>(40, 60]      </td><td>(40, 60]     </td><td>(0, 20]   </td><td>(-1, 0]   </td><td>(55554, 55556]</td><td>(-1.0, 0.0]      </td><td>(20, 30]         </td><td>(20, 30]      </td><td>(0, 10]          </td><td>(30, 40]       </td><td>(0, 10]       </td><td style=\"text-align: right;\">         7</td><td style=\"text-align: right;\">  2013</td><td style=\"text-align: right;\">      6</td><td style=\"text-align: right;\">    4</td></tr>\n",
              "<tr><td style=\"text-align: right;\">   7</td><td style=\"text-align: right;\">          1</td><td>(60, 100] </td><td>(40, 60]  </td><td>(60, 100] </td><td>(55554, 55556]</td><td>(40, 60]      </td><td>(40, 60]     </td><td>(0, 20]   </td><td>(-1, 0]   </td><td>(55554, 55556]</td><td>(-1.0, 0.0]      </td><td>(20, 30]         </td><td>(20, 30]      </td><td>(0, 10]          </td><td>(30, 40]       </td><td>(0, 10]       </td><td style=\"text-align: right;\">         8</td><td style=\"text-align: right;\">  2013</td><td style=\"text-align: right;\">      6</td><td style=\"text-align: right;\">    4</td></tr>\n",
              "<tr><td style=\"text-align: right;\">   8</td><td style=\"text-align: right;\">          1</td><td>(60, 100] </td><td>(40, 60]  </td><td>(60, 100] </td><td>(55554, 55556]</td><td>(40, 60]      </td><td>(40, 60]     </td><td>(0, 20]   </td><td>(-1, 0]   </td><td>(55554, 55556]</td><td>(-1.0, 0.0]      </td><td>(20, 30]         </td><td>(20, 30]      </td><td>(0, 10]          </td><td>(30, 40]       </td><td>(0, 10]       </td><td style=\"text-align: right;\">         9</td><td style=\"text-align: right;\">  2013</td><td style=\"text-align: right;\">      6</td><td style=\"text-align: right;\">    4</td></tr>\n",
              "<tr><td style=\"text-align: right;\">   9</td><td style=\"text-align: right;\">          1</td><td>(60, 100] </td><td>(40, 60]  </td><td>(60, 100] </td><td>(55554, 55556]</td><td>(40, 60]      </td><td>(40, 60]     </td><td>(0, 20]   </td><td>(-1, 0]   </td><td>(55554, 55556]</td><td>(-1.0, 0.0]      </td><td>(20, 30]         </td><td>(20, 30]      </td><td>(0, 10]          </td><td>(30, 40]       </td><td>(0, 10]       </td><td style=\"text-align: right;\">        10</td><td style=\"text-align: right;\">  2013</td><td style=\"text-align: right;\">      6</td><td style=\"text-align: right;\">    4</td></tr>\n",
              "</tbody>\n",
              "</table>"
            ]
          },
          "metadata": {
            "tags": []
          }
        },
        {
          "output_type": "execute_result",
          "data": {
            "text/plain": [
              ""
            ]
          },
          "metadata": {
            "tags": []
          },
          "execution_count": 30
        }
      ]
    },
    {
      "cell_type": "code",
      "metadata": {
        "id": "Ey2R1S3X_IYX",
        "colab_type": "code",
        "colab": {
          "base_uri": "https://localhost:8080/",
          "height": 559
        },
        "outputId": "ad5e08d5-5fd4-492f-9732-55bf16288c92"
      },
      "source": [
        "y_pred = h2o_gbm.predict(test_data=test2)\n",
        "y_pred"
      ],
      "execution_count": 31,
      "outputs": [
        {
          "output_type": "stream",
          "text": [
            "gbm prediction progress: |████████████████████████████████████████████████| 100%\n"
          ],
          "name": "stdout"
        },
        {
          "output_type": "stream",
          "text": [
            "/usr/local/lib/python3.6/dist-packages/h2o/job.py:70: UserWarning: Test/Validation dataset column 'tmax_bin' has levels not trained on: [(100, 130]]\n",
            "  warnings.warn(w)\n",
            "/usr/local/lib/python3.6/dist-packages/h2o/job.py:70: UserWarning: Test/Validation dataset column 'tavg_bin' has levels not trained on: [(-20, 0]]\n",
            "  warnings.warn(w)\n",
            "/usr/local/lib/python3.6/dist-packages/h2o/job.py:70: UserWarning: Test/Validation dataset column 'depart_bin' has levels not trained on: [(-20, 0], (-40, -20], (0, 20], (20, 40]]\n",
            "  warnings.warn(w)\n",
            "/usr/local/lib/python3.6/dist-packages/h2o/job.py:70: UserWarning: Test/Validation dataset column 'wetbulb_bin' has levels not trained on: [(-10, 0]]\n",
            "  warnings.warn(w)\n",
            "/usr/local/lib/python3.6/dist-packages/h2o/job.py:70: UserWarning: Test/Validation dataset column 'heat_bin' has levels not trained on: [(60, 80]]\n",
            "  warnings.warn(w)\n",
            "/usr/local/lib/python3.6/dist-packages/h2o/job.py:70: UserWarning: Test/Validation dataset column 'snowfall_bin' has levels not trained on: [(-1, 0], (0, 1], (1, 10], (10, 20], (99998, 100000]]\n",
            "  warnings.warn(w)\n",
            "/usr/local/lib/python3.6/dist-packages/h2o/job.py:70: UserWarning: Test/Validation dataset column 'resultspeed_bin' has levels not trained on: [(0.0, 10.0], (10.0, 20.0], (20, 30]]\n",
            "  warnings.warn(w)\n",
            "/usr/local/lib/python3.6/dist-packages/h2o/job.py:70: UserWarning: Test/Validation dataset column 'avgspeed_bin' has levels not trained on: [(20, 30]]\n",
            "  warnings.warn(w)\n"
          ],
          "name": "stderr"
        },
        {
          "output_type": "display_data",
          "data": {
            "text/html": [
              "<table>\n",
              "<thead>\n",
              "<tr><th style=\"text-align: right;\">    predict</th></tr>\n",
              "</thead>\n",
              "<tbody>\n",
              "<tr><td style=\"text-align: right;\">-0.0167364 </td></tr>\n",
              "<tr><td style=\"text-align: right;\">-0.0167364 </td></tr>\n",
              "<tr><td style=\"text-align: right;\">-0.0167364 </td></tr>\n",
              "<tr><td style=\"text-align: right;\">-0.0167364 </td></tr>\n",
              "<tr><td style=\"text-align: right;\">-0.0167364 </td></tr>\n",
              "<tr><td style=\"text-align: right;\">-0.0167364 </td></tr>\n",
              "<tr><td style=\"text-align: right;\">-0.0167364 </td></tr>\n",
              "<tr><td style=\"text-align: right;\">-0.0167364 </td></tr>\n",
              "<tr><td style=\"text-align: right;\">13.2303    </td></tr>\n",
              "<tr><td style=\"text-align: right;\">-0.00836399</td></tr>\n",
              "</tbody>\n",
              "</table>"
            ]
          },
          "metadata": {
            "tags": []
          }
        },
        {
          "output_type": "execute_result",
          "data": {
            "text/plain": [
              ""
            ]
          },
          "metadata": {
            "tags": []
          },
          "execution_count": 31
        }
      ]
    },
    {
      "cell_type": "markdown",
      "metadata": {
        "id": "iuXdR_DryGNL",
        "colab_type": "text"
      },
      "source": [
        "* y_pred convert into pandas dataframe"
      ]
    },
    {
      "cell_type": "code",
      "metadata": {
        "id": "bIQ5eCWJDrlU",
        "colab_type": "code",
        "colab": {
          "base_uri": "https://localhost:8080/",
          "height": 204
        },
        "outputId": "9c11f038-7698-4cea-eae0-fc747f3218dc"
      },
      "source": [
        "\n",
        "y_pred_pd = y_pred.as_data_frame()\n",
        "y_pred_pd.head()"
      ],
      "execution_count": 32,
      "outputs": [
        {
          "output_type": "execute_result",
          "data": {
            "text/html": [
              "<div>\n",
              "<style scoped>\n",
              "    .dataframe tbody tr th:only-of-type {\n",
              "        vertical-align: middle;\n",
              "    }\n",
              "\n",
              "    .dataframe tbody tr th {\n",
              "        vertical-align: top;\n",
              "    }\n",
              "\n",
              "    .dataframe thead th {\n",
              "        text-align: right;\n",
              "    }\n",
              "</style>\n",
              "<table border=\"1\" class=\"dataframe\">\n",
              "  <thead>\n",
              "    <tr style=\"text-align: right;\">\n",
              "      <th></th>\n",
              "      <th>predict</th>\n",
              "    </tr>\n",
              "  </thead>\n",
              "  <tbody>\n",
              "    <tr>\n",
              "      <th>0</th>\n",
              "      <td>-0.016736</td>\n",
              "    </tr>\n",
              "    <tr>\n",
              "      <th>1</th>\n",
              "      <td>-0.016736</td>\n",
              "    </tr>\n",
              "    <tr>\n",
              "      <th>2</th>\n",
              "      <td>-0.016736</td>\n",
              "    </tr>\n",
              "    <tr>\n",
              "      <th>3</th>\n",
              "      <td>-0.016736</td>\n",
              "    </tr>\n",
              "    <tr>\n",
              "      <th>4</th>\n",
              "      <td>-0.016736</td>\n",
              "    </tr>\n",
              "  </tbody>\n",
              "</table>\n",
              "</div>"
            ],
            "text/plain": [
              "    predict\n",
              "0 -0.016736\n",
              "1 -0.016736\n",
              "2 -0.016736\n",
              "3 -0.016736\n",
              "4 -0.016736"
            ]
          },
          "metadata": {
            "tags": []
          },
          "execution_count": 32
        }
      ]
    },
    {
      "cell_type": "code",
      "metadata": {
        "id": "93K5X9BSERys",
        "colab_type": "code",
        "colab": {
          "base_uri": "https://localhost:8080/",
          "height": 34
        },
        "outputId": "b2fd9070-0f3b-4414-de34-c219e49f514f"
      },
      "source": [
        "y_pred_pd.shape"
      ],
      "execution_count": 33,
      "outputs": [
        {
          "output_type": "execute_result",
          "data": {
            "text/plain": [
              "(526917, 1)"
            ]
          },
          "metadata": {
            "tags": []
          },
          "execution_count": 33
        }
      ]
    },
    {
      "cell_type": "code",
      "metadata": {
        "id": "n07Kbf0pCGSj",
        "colab_type": "code",
        "colab": {}
      },
      "source": [
        "import os\n",
        "os.chdir(\"/gdrive/My Drive/Walmart\")"
      ],
      "execution_count": 34,
      "outputs": []
    },
    {
      "cell_type": "markdown",
      "metadata": {
        "id": "Yfk9cCVmyfiD",
        "colab_type": "text"
      },
      "source": [
        "* Import submission.csv file "
      ]
    },
    {
      "cell_type": "code",
      "metadata": {
        "id": "tSuZhnTYB8dS",
        "colab_type": "code",
        "colab": {
          "base_uri": "https://localhost:8080/",
          "height": 204
        },
        "outputId": "89f967d1-4754-497f-9f53-f61d5d8b8274"
      },
      "source": [
        "\n",
        "sub=pd.read_csv(\"sampleSubmission.csv\")\n",
        "sub.head()"
      ],
      "execution_count": 35,
      "outputs": [
        {
          "output_type": "execute_result",
          "data": {
            "text/html": [
              "<div>\n",
              "<style scoped>\n",
              "    .dataframe tbody tr th:only-of-type {\n",
              "        vertical-align: middle;\n",
              "    }\n",
              "\n",
              "    .dataframe tbody tr th {\n",
              "        vertical-align: top;\n",
              "    }\n",
              "\n",
              "    .dataframe thead th {\n",
              "        text-align: right;\n",
              "    }\n",
              "</style>\n",
              "<table border=\"1\" class=\"dataframe\">\n",
              "  <thead>\n",
              "    <tr style=\"text-align: right;\">\n",
              "      <th></th>\n",
              "      <th>id</th>\n",
              "      <th>units</th>\n",
              "    </tr>\n",
              "  </thead>\n",
              "  <tbody>\n",
              "    <tr>\n",
              "      <th>0</th>\n",
              "      <td>2_1_2013-04-01</td>\n",
              "      <td>0</td>\n",
              "    </tr>\n",
              "    <tr>\n",
              "      <th>1</th>\n",
              "      <td>2_2_2013-04-01</td>\n",
              "      <td>0</td>\n",
              "    </tr>\n",
              "    <tr>\n",
              "      <th>2</th>\n",
              "      <td>2_3_2013-04-01</td>\n",
              "      <td>0</td>\n",
              "    </tr>\n",
              "    <tr>\n",
              "      <th>3</th>\n",
              "      <td>2_4_2013-04-01</td>\n",
              "      <td>0</td>\n",
              "    </tr>\n",
              "    <tr>\n",
              "      <th>4</th>\n",
              "      <td>2_5_2013-04-01</td>\n",
              "      <td>0</td>\n",
              "    </tr>\n",
              "  </tbody>\n",
              "</table>\n",
              "</div>"
            ],
            "text/plain": [
              "               id  units\n",
              "0  2_1_2013-04-01      0\n",
              "1  2_2_2013-04-01      0\n",
              "2  2_3_2013-04-01      0\n",
              "3  2_4_2013-04-01      0\n",
              "4  2_5_2013-04-01      0"
            ]
          },
          "metadata": {
            "tags": []
          },
          "execution_count": 35
        }
      ]
    },
    {
      "cell_type": "markdown",
      "metadata": {
        "id": "0Kz5QtFRy6aE",
        "colab_type": "text"
      },
      "source": [
        "* y_pred_pd convert datatype into integer "
      ]
    },
    {
      "cell_type": "code",
      "metadata": {
        "id": "QH8C-e5XKkT3",
        "colab_type": "code",
        "colab": {
          "base_uri": "https://localhost:8080/",
          "height": 204
        },
        "outputId": "195e20f4-6935-444b-90fa-ff81e0c1d7c0"
      },
      "source": [
        "y_pred_pd.predict = y_pred_pd.predict.astype(int)\n",
        "y_pred_pd.head()"
      ],
      "execution_count": 36,
      "outputs": [
        {
          "output_type": "execute_result",
          "data": {
            "text/html": [
              "<div>\n",
              "<style scoped>\n",
              "    .dataframe tbody tr th:only-of-type {\n",
              "        vertical-align: middle;\n",
              "    }\n",
              "\n",
              "    .dataframe tbody tr th {\n",
              "        vertical-align: top;\n",
              "    }\n",
              "\n",
              "    .dataframe thead th {\n",
              "        text-align: right;\n",
              "    }\n",
              "</style>\n",
              "<table border=\"1\" class=\"dataframe\">\n",
              "  <thead>\n",
              "    <tr style=\"text-align: right;\">\n",
              "      <th></th>\n",
              "      <th>predict</th>\n",
              "    </tr>\n",
              "  </thead>\n",
              "  <tbody>\n",
              "    <tr>\n",
              "      <th>0</th>\n",
              "      <td>0</td>\n",
              "    </tr>\n",
              "    <tr>\n",
              "      <th>1</th>\n",
              "      <td>0</td>\n",
              "    </tr>\n",
              "    <tr>\n",
              "      <th>2</th>\n",
              "      <td>0</td>\n",
              "    </tr>\n",
              "    <tr>\n",
              "      <th>3</th>\n",
              "      <td>0</td>\n",
              "    </tr>\n",
              "    <tr>\n",
              "      <th>4</th>\n",
              "      <td>0</td>\n",
              "    </tr>\n",
              "  </tbody>\n",
              "</table>\n",
              "</div>"
            ],
            "text/plain": [
              "   predict\n",
              "0        0\n",
              "1        0\n",
              "2        0\n",
              "3        0\n",
              "4        0"
            ]
          },
          "metadata": {
            "tags": []
          },
          "execution_count": 36
        }
      ]
    },
    {
      "cell_type": "markdown",
      "metadata": {
        "id": "v2iDbFjRzgKS",
        "colab_type": "text"
      },
      "source": [
        "* To avoid negative values: negative values are replace by zero "
      ]
    },
    {
      "cell_type": "code",
      "metadata": {
        "id": "u-vVPah2MlRR",
        "colab_type": "code",
        "colab": {
          "base_uri": "https://localhost:8080/",
          "height": 419
        },
        "outputId": "3cafb99a-107e-4af3-871f-deca4c4de8d1"
      },
      "source": [
        "y_pred_pd[y_pred_pd < 0] = 0\n",
        "y_pred_pd"
      ],
      "execution_count": 37,
      "outputs": [
        {
          "output_type": "execute_result",
          "data": {
            "text/html": [
              "<div>\n",
              "<style scoped>\n",
              "    .dataframe tbody tr th:only-of-type {\n",
              "        vertical-align: middle;\n",
              "    }\n",
              "\n",
              "    .dataframe tbody tr th {\n",
              "        vertical-align: top;\n",
              "    }\n",
              "\n",
              "    .dataframe thead th {\n",
              "        text-align: right;\n",
              "    }\n",
              "</style>\n",
              "<table border=\"1\" class=\"dataframe\">\n",
              "  <thead>\n",
              "    <tr style=\"text-align: right;\">\n",
              "      <th></th>\n",
              "      <th>predict</th>\n",
              "    </tr>\n",
              "  </thead>\n",
              "  <tbody>\n",
              "    <tr>\n",
              "      <th>0</th>\n",
              "      <td>0</td>\n",
              "    </tr>\n",
              "    <tr>\n",
              "      <th>1</th>\n",
              "      <td>0</td>\n",
              "    </tr>\n",
              "    <tr>\n",
              "      <th>2</th>\n",
              "      <td>0</td>\n",
              "    </tr>\n",
              "    <tr>\n",
              "      <th>3</th>\n",
              "      <td>0</td>\n",
              "    </tr>\n",
              "    <tr>\n",
              "      <th>4</th>\n",
              "      <td>0</td>\n",
              "    </tr>\n",
              "    <tr>\n",
              "      <th>...</th>\n",
              "      <td>...</td>\n",
              "    </tr>\n",
              "    <tr>\n",
              "      <th>526912</th>\n",
              "      <td>0</td>\n",
              "    </tr>\n",
              "    <tr>\n",
              "      <th>526913</th>\n",
              "      <td>0</td>\n",
              "    </tr>\n",
              "    <tr>\n",
              "      <th>526914</th>\n",
              "      <td>0</td>\n",
              "    </tr>\n",
              "    <tr>\n",
              "      <th>526915</th>\n",
              "      <td>0</td>\n",
              "    </tr>\n",
              "    <tr>\n",
              "      <th>526916</th>\n",
              "      <td>0</td>\n",
              "    </tr>\n",
              "  </tbody>\n",
              "</table>\n",
              "<p>526917 rows × 1 columns</p>\n",
              "</div>"
            ],
            "text/plain": [
              "        predict\n",
              "0             0\n",
              "1             0\n",
              "2             0\n",
              "3             0\n",
              "4             0\n",
              "...         ...\n",
              "526912        0\n",
              "526913        0\n",
              "526914        0\n",
              "526915        0\n",
              "526916        0\n",
              "\n",
              "[526917 rows x 1 columns]"
            ]
          },
          "metadata": {
            "tags": []
          },
          "execution_count": 37
        }
      ]
    },
    {
      "cell_type": "markdown",
      "metadata": {
        "id": "PaMkSziIz67J",
        "colab_type": "text"
      },
      "source": [
        "* Create final submission dataframe"
      ]
    },
    {
      "cell_type": "code",
      "metadata": {
        "id": "Fx9_UuKyF8jj",
        "colab_type": "code",
        "colab": {
          "base_uri": "https://localhost:8080/",
          "height": 204
        },
        "outputId": "96f87afe-3337-44e8-a0ad-62e9d93eb294"
      },
      "source": [
        "id = sub['id']\n",
        "units = y_pred_pd['predict']\n",
        "import pandas as pd\n",
        "submit = pd.DataFrame({'id':id, 'units':units})\n",
        "submit.head()"
      ],
      "execution_count": 38,
      "outputs": [
        {
          "output_type": "execute_result",
          "data": {
            "text/html": [
              "<div>\n",
              "<style scoped>\n",
              "    .dataframe tbody tr th:only-of-type {\n",
              "        vertical-align: middle;\n",
              "    }\n",
              "\n",
              "    .dataframe tbody tr th {\n",
              "        vertical-align: top;\n",
              "    }\n",
              "\n",
              "    .dataframe thead th {\n",
              "        text-align: right;\n",
              "    }\n",
              "</style>\n",
              "<table border=\"1\" class=\"dataframe\">\n",
              "  <thead>\n",
              "    <tr style=\"text-align: right;\">\n",
              "      <th></th>\n",
              "      <th>id</th>\n",
              "      <th>units</th>\n",
              "    </tr>\n",
              "  </thead>\n",
              "  <tbody>\n",
              "    <tr>\n",
              "      <th>0</th>\n",
              "      <td>2_1_2013-04-01</td>\n",
              "      <td>0</td>\n",
              "    </tr>\n",
              "    <tr>\n",
              "      <th>1</th>\n",
              "      <td>2_2_2013-04-01</td>\n",
              "      <td>0</td>\n",
              "    </tr>\n",
              "    <tr>\n",
              "      <th>2</th>\n",
              "      <td>2_3_2013-04-01</td>\n",
              "      <td>0</td>\n",
              "    </tr>\n",
              "    <tr>\n",
              "      <th>3</th>\n",
              "      <td>2_4_2013-04-01</td>\n",
              "      <td>0</td>\n",
              "    </tr>\n",
              "    <tr>\n",
              "      <th>4</th>\n",
              "      <td>2_5_2013-04-01</td>\n",
              "      <td>0</td>\n",
              "    </tr>\n",
              "  </tbody>\n",
              "</table>\n",
              "</div>"
            ],
            "text/plain": [
              "               id  units\n",
              "0  2_1_2013-04-01      0\n",
              "1  2_2_2013-04-01      0\n",
              "2  2_3_2013-04-01      0\n",
              "3  2_4_2013-04-01      0\n",
              "4  2_5_2013-04-01      0"
            ]
          },
          "metadata": {
            "tags": []
          },
          "execution_count": 38
        }
      ]
    },
    {
      "cell_type": "code",
      "metadata": {
        "id": "Ia8UWte4IWOI",
        "colab_type": "code",
        "colab": {}
      },
      "source": [
        "submit.to_csv(\"Walmart_gbm.csv\",index=False)"
      ],
      "execution_count": null,
      "outputs": []
    },
    {
      "cell_type": "code",
      "metadata": {
        "id": "sNu7efvv_rUP",
        "colab_type": "code",
        "colab": {}
      },
      "source": [
        "\n",
        "\n"
      ],
      "execution_count": null,
      "outputs": []
    },
    {
      "cell_type": "markdown",
      "metadata": {
        "id": "PfAIz5gS0MeC",
        "colab_type": "text"
      },
      "source": [
        " # H2OGridSearch"
      ]
    },
    {
      "cell_type": "code",
      "metadata": {
        "id": "2faXD89_VQFv",
        "colab_type": "code",
        "colab": {
          "base_uri": "https://localhost:8080/",
          "height": 34
        },
        "outputId": "d2ff7af4-77d0-4aed-87da-e69a06be9c45"
      },
      "source": [
        "\n",
        "from h2o.estimators.gbm import H2OGradientBoostingEstimator\n",
        "\n",
        "\n",
        "\n",
        "from h2o.grid.grid_search import H2OGridSearch\n",
        "\n",
        "gbm_params1 = {'learn_rate': [0.01, 0.1,0.2,0.3],\n",
        "                'max_depth': [50, 100, 150],\n",
        "                'sample_rate': [0.8, 1.0],\n",
        "                'col_sample_rate': [0.2, 0.5, 1.0]}\n",
        "\n",
        "\n",
        "gbm_grid1 = H2OGridSearch(model=H2OGradientBoostingEstimator,\n",
        "                          grid_id='gbm_grid1',\n",
        "                          hyper_params=gbm_params1)\n",
        "gbm_grid1.train(x=x, y=y,\n",
        "                training_frame=train,\n",
        "                validation_frame=test,\n",
        "                ntrees=100,\n",
        "                seed=1)\n",
        "\n"
      ],
      "execution_count": 39,
      "outputs": [
        {
          "output_type": "stream",
          "text": [
            "gbm Grid Build progress: |████████████████████████████████████████████████| 100%\n"
          ],
          "name": "stdout"
        }
      ]
    },
    {
      "cell_type": "markdown",
      "metadata": {
        "id": "eNrlu-P50TMY",
        "colab_type": "text"
      },
      "source": [
        "* Get the grid results, sorted by validation mse"
      ]
    },
    {
      "cell_type": "code",
      "metadata": {
        "id": "tGCAodEceOo3",
        "colab_type": "code",
        "colab": {
          "base_uri": "https://localhost:8080/",
          "height": 1000
        },
        "outputId": "fa82af12-4040-4665-e4d4-b5dcb32c2c68"
      },
      "source": [
        "\n",
        "gbm_gridperf1 = gbm_grid1.get_grid(sort_by=\"mse\",decreasing=True)\n",
        "gbm_gridperf1.mse()\n",
        "\n"
      ],
      "execution_count": 40,
      "outputs": [
        {
          "output_type": "execute_result",
          "data": {
            "text/plain": [
              "{'gbm_grid1_model_1': 8.068659371555965,\n",
              " 'gbm_grid1_model_10': 2.1772395444075943,\n",
              " 'gbm_grid1_model_11': 1.2041187402402842,\n",
              " 'gbm_grid1_model_12': 0.49981094297966844,\n",
              " 'gbm_grid1_model_13': 8.068659371555965,\n",
              " 'gbm_grid1_model_14': 4.870229882769248,\n",
              " 'gbm_grid1_model_15': 4.517702024187356,\n",
              " 'gbm_grid1_model_16': 3.4917824667732824,\n",
              " 'gbm_grid1_model_17': 1.17156085283241,\n",
              " 'gbm_grid1_model_18': 0.7096391941819015,\n",
              " 'gbm_grid1_model_19': 2.77750032546416,\n",
              " 'gbm_grid1_model_2': 4.870229882769248,\n",
              " 'gbm_grid1_model_20': 1.3503988809780505,\n",
              " 'gbm_grid1_model_21': 0.8459925188616798,\n",
              " 'gbm_grid1_model_22': 2.1772395444075943,\n",
              " 'gbm_grid1_model_23': 1.2041187402402842,\n",
              " 'gbm_grid1_model_24': 0.49981094297966844,\n",
              " 'gbm_grid1_model_25': 8.068659371555965,\n",
              " 'gbm_grid1_model_26': 4.870229882769248,\n",
              " 'gbm_grid1_model_27': 4.517702024187356,\n",
              " 'gbm_grid1_model_28': 3.4917824667732824,\n",
              " 'gbm_grid1_model_29': 1.17156085283241,\n",
              " 'gbm_grid1_model_3': 4.517702024187356,\n",
              " 'gbm_grid1_model_30': 0.7096391941819015,\n",
              " 'gbm_grid1_model_31': 2.77750032546416,\n",
              " 'gbm_grid1_model_32': 1.3503988809780505,\n",
              " 'gbm_grid1_model_33': 0.8459925188616798,\n",
              " 'gbm_grid1_model_34': 2.1772395444075943,\n",
              " 'gbm_grid1_model_35': 1.2041187402402842,\n",
              " 'gbm_grid1_model_36': 0.49981094297966844,\n",
              " 'gbm_grid1_model_37': 7.793270184681757,\n",
              " 'gbm_grid1_model_38': 4.608870385939822,\n",
              " 'gbm_grid1_model_39': 4.3700441625775985,\n",
              " 'gbm_grid1_model_4': 3.4917824667732824,\n",
              " 'gbm_grid1_model_40': 3.1982812851584335,\n",
              " 'gbm_grid1_model_41': 1.2835064565489238,\n",
              " 'gbm_grid1_model_42': 1.113452027802534,\n",
              " 'gbm_grid1_model_43': 2.5492871080664328,\n",
              " 'gbm_grid1_model_44': 1.2415815425569579,\n",
              " 'gbm_grid1_model_45': 1.1564505782548955,\n",
              " 'gbm_grid1_model_46': 2.458475663857161,\n",
              " 'gbm_grid1_model_47': 1.2045110737352958,\n",
              " 'gbm_grid1_model_48': 1.01439031561982,\n",
              " 'gbm_grid1_model_49': 7.793270184681757,\n",
              " 'gbm_grid1_model_5': 1.17156085283241,\n",
              " 'gbm_grid1_model_50': 4.608870385939822,\n",
              " 'gbm_grid1_model_51': 4.3700441625775985,\n",
              " 'gbm_grid1_model_52': 3.1982812851584335,\n",
              " 'gbm_grid1_model_53': 1.2835064565489238,\n",
              " 'gbm_grid1_model_54': 1.1134520278025335,\n",
              " 'gbm_grid1_model_55': 2.5492871080664328,\n",
              " 'gbm_grid1_model_56': 1.2415815425569579,\n",
              " 'gbm_grid1_model_57': 1.1564505782548955,\n",
              " 'gbm_grid1_model_58': 2.458475663857161,\n",
              " 'gbm_grid1_model_59': 1.1392099215756177,\n",
              " 'gbm_grid1_model_6': 0.7072936641244737,\n",
              " 'gbm_grid1_model_60': 1.01439031561982,\n",
              " 'gbm_grid1_model_61': 7.793270184681757,\n",
              " 'gbm_grid1_model_62': 4.608870385939822,\n",
              " 'gbm_grid1_model_63': 4.3700441625775985,\n",
              " 'gbm_grid1_model_64': 3.1982812851584335,\n",
              " 'gbm_grid1_model_65': 1.2835064565489238,\n",
              " 'gbm_grid1_model_66': 1.1134520278025335,\n",
              " 'gbm_grid1_model_67': 2.5492871080664328,\n",
              " 'gbm_grid1_model_68': 1.2415815425569579,\n",
              " 'gbm_grid1_model_69': 1.1564505782548955,\n",
              " 'gbm_grid1_model_7': 2.77750032546416,\n",
              " 'gbm_grid1_model_70': 2.458475663857161,\n",
              " 'gbm_grid1_model_71': 1.1392099215756177,\n",
              " 'gbm_grid1_model_72': 1.01439031561982,\n",
              " 'gbm_grid1_model_8': 1.3503988809780505,\n",
              " 'gbm_grid1_model_9': 0.8459925188616798}"
            ]
          },
          "metadata": {
            "tags": []
          },
          "execution_count": 40
        }
      ]
    },
    {
      "cell_type": "code",
      "metadata": {
        "id": "JoA1mqS47MFI",
        "colab_type": "code",
        "colab": {
          "base_uri": "https://localhost:8080/",
          "height": 272
        },
        "outputId": "02b91dcd-043b-463e-c283-38bda2bac2ce"
      },
      "source": [
        "gbm_gridperf1.predict"
      ],
      "execution_count": 48,
      "outputs": [
        {
          "output_type": "stream",
          "text": [
            "      col_sample_rate  ...           model_ids                mse\n",
            "0                 0.2  ...   gbm_grid1_model_1  7.848354259595316\n",
            "1                 0.2  ...  gbm_grid1_model_13  7.848354259595316\n",
            "2                 0.2  ...  gbm_grid1_model_25  7.848354259595316\n",
            "3                 0.2  ...  gbm_grid1_model_37  7.744940901937348\n",
            "4                 0.2  ...  gbm_grid1_model_49  7.744940901937348\n",
            ".. ..             ...  ...                 ...                ...\n",
            "67                0.2  ...  gbm_grid1_model_55  4.498669734527445\n",
            "68                0.2  ...  gbm_grid1_model_67  4.498669734527445\n",
            "69                0.2  ...  gbm_grid1_model_19  4.429378223242266\n",
            "70                0.2  ...  gbm_grid1_model_31  4.429378223242266\n",
            "71                0.2  ...   gbm_grid1_model_7  4.429378223242266\n",
            "\n",
            "[72 rows x 7 columns]\n"
          ],
          "name": "stdout"
        },
        {
          "output_type": "execute_result",
          "data": {
            "text/plain": [
              "<bound method H2OGridSearch.predict of >"
            ]
          },
          "metadata": {
            "tags": []
          },
          "execution_count": 48
        }
      ]
    },
    {
      "cell_type": "markdown",
      "metadata": {
        "id": "qUtmX1fb0Yiw",
        "colab_type": "text"
      },
      "source": [
        "* Grab the top GBM model, chosen by validation MSE"
      ]
    },
    {
      "cell_type": "code",
      "metadata": {
        "id": "kVgb1fLKjE6p",
        "colab_type": "code",
        "colab": {
          "base_uri": "https://localhost:8080/",
          "height": 1000
        },
        "outputId": "ab762743-8940-4a6e-d552-8b4122e57d85"
      },
      "source": [
        " \n",
        "best_gbm1 = gbm_gridperf1.models[0]\n",
        "best_gbm1\n",
        "\n",
        "\n"
      ],
      "execution_count": 41,
      "outputs": [
        {
          "output_type": "stream",
          "text": [
            "Model Details\n",
            "=============\n",
            "H2OGradientBoostingEstimator :  Gradient Boosting Machine\n",
            "Model Key:  gbm_grid1_model_1\n",
            "\n",
            "\n",
            "Model Summary: \n"
          ],
          "name": "stdout"
        },
        {
          "output_type": "display_data",
          "data": {
            "text/html": [
              "<div>\n",
              "<style scoped>\n",
              "    .dataframe tbody tr th:only-of-type {\n",
              "        vertical-align: middle;\n",
              "    }\n",
              "\n",
              "    .dataframe tbody tr th {\n",
              "        vertical-align: top;\n",
              "    }\n",
              "\n",
              "    .dataframe thead th {\n",
              "        text-align: right;\n",
              "    }\n",
              "</style>\n",
              "<table border=\"1\" class=\"dataframe\">\n",
              "  <thead>\n",
              "    <tr style=\"text-align: right;\">\n",
              "      <th></th>\n",
              "      <th></th>\n",
              "      <th>number_of_trees</th>\n",
              "      <th>number_of_internal_trees</th>\n",
              "      <th>model_size_in_bytes</th>\n",
              "      <th>min_depth</th>\n",
              "      <th>max_depth</th>\n",
              "      <th>mean_depth</th>\n",
              "      <th>min_leaves</th>\n",
              "      <th>max_leaves</th>\n",
              "      <th>mean_leaves</th>\n",
              "    </tr>\n",
              "  </thead>\n",
              "  <tbody>\n",
              "    <tr>\n",
              "      <th>0</th>\n",
              "      <td></td>\n",
              "      <td>100.0</td>\n",
              "      <td>100.0</td>\n",
              "      <td>2055527.0</td>\n",
              "      <td>24.0</td>\n",
              "      <td>37.0</td>\n",
              "      <td>26.68</td>\n",
              "      <td>1.0</td>\n",
              "      <td>2496.0</td>\n",
              "      <td>1633.6</td>\n",
              "    </tr>\n",
              "  </tbody>\n",
              "</table>\n",
              "</div>"
            ],
            "text/plain": [
              "     number_of_trees  ...  max_leaves  mean_leaves\n",
              "0              100.0  ...      2496.0       1633.6\n",
              "\n",
              "[1 rows x 10 columns]"
            ]
          },
          "metadata": {
            "tags": []
          }
        },
        {
          "output_type": "stream",
          "text": [
            "\n",
            "\n",
            "ModelMetricsRegression: gbm\n",
            "** Reported on train data. **\n",
            "\n",
            "MSE: 8.068659371555965\n",
            "RMSE: 2.840538570686194\n",
            "MAE: 0.5161748370466506\n",
            "RMSLE: 0.31856744093643374\n",
            "Mean Residual Deviance: 8.068659371555965\n",
            "\n",
            "ModelMetricsRegression: gbm\n",
            "** Reported on validation data. **\n",
            "\n",
            "MSE: 7.848354259595316\n",
            "RMSE: 2.8014914348602455\n",
            "MAE: 0.5134343239079053\n",
            "RMSLE: 0.3242698387763548\n",
            "Mean Residual Deviance: 7.848354259595316\n",
            "\n",
            "Scoring History: \n"
          ],
          "name": "stdout"
        },
        {
          "output_type": "display_data",
          "data": {
            "text/html": [
              "<div>\n",
              "<style scoped>\n",
              "    .dataframe tbody tr th:only-of-type {\n",
              "        vertical-align: middle;\n",
              "    }\n",
              "\n",
              "    .dataframe tbody tr th {\n",
              "        vertical-align: top;\n",
              "    }\n",
              "\n",
              "    .dataframe thead th {\n",
              "        text-align: right;\n",
              "    }\n",
              "</style>\n",
              "<table border=\"1\" class=\"dataframe\">\n",
              "  <thead>\n",
              "    <tr style=\"text-align: right;\">\n",
              "      <th></th>\n",
              "      <th></th>\n",
              "      <th>timestamp</th>\n",
              "      <th>duration</th>\n",
              "      <th>number_of_trees</th>\n",
              "      <th>training_rmse</th>\n",
              "      <th>training_mae</th>\n",
              "      <th>training_deviance</th>\n",
              "      <th>validation_rmse</th>\n",
              "      <th>validation_mae</th>\n",
              "      <th>validation_deviance</th>\n",
              "    </tr>\n",
              "  </thead>\n",
              "  <tbody>\n",
              "    <tr>\n",
              "      <th>0</th>\n",
              "      <td></td>\n",
              "      <td>2020-08-13 07:27:46</td>\n",
              "      <td>0.019 sec</td>\n",
              "      <td>0.0</td>\n",
              "      <td>3.716059</td>\n",
              "      <td>0.723811</td>\n",
              "      <td>13.809092</td>\n",
              "      <td>3.530900</td>\n",
              "      <td>0.699891</td>\n",
              "      <td>12.467252</td>\n",
              "    </tr>\n",
              "    <tr>\n",
              "      <th>1</th>\n",
              "      <td></td>\n",
              "      <td>2020-08-13 07:27:46</td>\n",
              "      <td>0.587 sec</td>\n",
              "      <td>1.0</td>\n",
              "      <td>3.711972</td>\n",
              "      <td>0.722833</td>\n",
              "      <td>13.778736</td>\n",
              "      <td>3.528574</td>\n",
              "      <td>0.698997</td>\n",
              "      <td>12.450833</td>\n",
              "    </tr>\n",
              "    <tr>\n",
              "      <th>2</th>\n",
              "      <td></td>\n",
              "      <td>2020-08-13 07:27:47</td>\n",
              "      <td>1.094 sec</td>\n",
              "      <td>2.0</td>\n",
              "      <td>3.691206</td>\n",
              "      <td>0.718042</td>\n",
              "      <td>13.625005</td>\n",
              "      <td>3.508560</td>\n",
              "      <td>0.694301</td>\n",
              "      <td>12.309992</td>\n",
              "    </tr>\n",
              "    <tr>\n",
              "      <th>3</th>\n",
              "      <td></td>\n",
              "      <td>2020-08-13 07:27:47</td>\n",
              "      <td>1.584 sec</td>\n",
              "      <td>3.0</td>\n",
              "      <td>3.685893</td>\n",
              "      <td>0.716878</td>\n",
              "      <td>13.585808</td>\n",
              "      <td>3.504587</td>\n",
              "      <td>0.693309</td>\n",
              "      <td>12.282130</td>\n",
              "    </tr>\n",
              "    <tr>\n",
              "      <th>4</th>\n",
              "      <td></td>\n",
              "      <td>2020-08-13 07:27:48</td>\n",
              "      <td>2.009 sec</td>\n",
              "      <td>4.0</td>\n",
              "      <td>3.672763</td>\n",
              "      <td>0.713999</td>\n",
              "      <td>13.489190</td>\n",
              "      <td>3.492805</td>\n",
              "      <td>0.690710</td>\n",
              "      <td>12.199689</td>\n",
              "    </tr>\n",
              "    <tr>\n",
              "      <th>5</th>\n",
              "      <td></td>\n",
              "      <td>2020-08-13 07:27:48</td>\n",
              "      <td>2.369 sec</td>\n",
              "      <td>5.0</td>\n",
              "      <td>3.668795</td>\n",
              "      <td>0.712972</td>\n",
              "      <td>13.460056</td>\n",
              "      <td>3.490102</td>\n",
              "      <td>0.689867</td>\n",
              "      <td>12.180812</td>\n",
              "    </tr>\n",
              "    <tr>\n",
              "      <th>6</th>\n",
              "      <td></td>\n",
              "      <td>2020-08-13 07:27:48</td>\n",
              "      <td>2.711 sec</td>\n",
              "      <td>6.0</td>\n",
              "      <td>3.654319</td>\n",
              "      <td>0.709706</td>\n",
              "      <td>13.354051</td>\n",
              "      <td>3.477426</td>\n",
              "      <td>0.686826</td>\n",
              "      <td>12.092493</td>\n",
              "    </tr>\n",
              "    <tr>\n",
              "      <th>7</th>\n",
              "      <td></td>\n",
              "      <td>2020-08-13 07:27:49</td>\n",
              "      <td>3.068 sec</td>\n",
              "      <td>7.0</td>\n",
              "      <td>3.646896</td>\n",
              "      <td>0.708025</td>\n",
              "      <td>13.299852</td>\n",
              "      <td>3.472592</td>\n",
              "      <td>0.685315</td>\n",
              "      <td>12.058894</td>\n",
              "    </tr>\n",
              "    <tr>\n",
              "      <th>8</th>\n",
              "      <td></td>\n",
              "      <td>2020-08-13 07:27:49</td>\n",
              "      <td>3.402 sec</td>\n",
              "      <td>8.0</td>\n",
              "      <td>3.630019</td>\n",
              "      <td>0.703630</td>\n",
              "      <td>13.177035</td>\n",
              "      <td>3.455560</td>\n",
              "      <td>0.681092</td>\n",
              "      <td>11.940898</td>\n",
              "    </tr>\n",
              "    <tr>\n",
              "      <th>9</th>\n",
              "      <td></td>\n",
              "      <td>2020-08-13 07:27:49</td>\n",
              "      <td>3.699 sec</td>\n",
              "      <td>9.0</td>\n",
              "      <td>3.625628</td>\n",
              "      <td>0.702612</td>\n",
              "      <td>13.145181</td>\n",
              "      <td>3.452228</td>\n",
              "      <td>0.680354</td>\n",
              "      <td>11.917880</td>\n",
              "    </tr>\n",
              "    <tr>\n",
              "      <th>10</th>\n",
              "      <td></td>\n",
              "      <td>2020-08-13 07:27:53</td>\n",
              "      <td>7.756 sec</td>\n",
              "      <td>26.0</td>\n",
              "      <td>3.458911</td>\n",
              "      <td>0.664102</td>\n",
              "      <td>11.964064</td>\n",
              "      <td>3.314347</td>\n",
              "      <td>0.644929</td>\n",
              "      <td>10.984894</td>\n",
              "    </tr>\n",
              "    <tr>\n",
              "      <th>11</th>\n",
              "      <td></td>\n",
              "      <td>2020-08-13 07:27:57</td>\n",
              "      <td>11.808 sec</td>\n",
              "      <td>46.0</td>\n",
              "      <td>3.269727</td>\n",
              "      <td>0.618321</td>\n",
              "      <td>10.691117</td>\n",
              "      <td>3.151463</td>\n",
              "      <td>0.602306</td>\n",
              "      <td>9.931719</td>\n",
              "    </tr>\n",
              "    <tr>\n",
              "      <th>12</th>\n",
              "      <td></td>\n",
              "      <td>2020-08-13 07:28:02</td>\n",
              "      <td>15.934 sec</td>\n",
              "      <td>67.0</td>\n",
              "      <td>3.073173</td>\n",
              "      <td>0.571667</td>\n",
              "      <td>9.444390</td>\n",
              "      <td>2.983671</td>\n",
              "      <td>0.560603</td>\n",
              "      <td>8.902292</td>\n",
              "    </tr>\n",
              "    <tr>\n",
              "      <th>13</th>\n",
              "      <td></td>\n",
              "      <td>2020-08-13 07:28:06</td>\n",
              "      <td>20.019 sec</td>\n",
              "      <td>86.0</td>\n",
              "      <td>2.921719</td>\n",
              "      <td>0.536034</td>\n",
              "      <td>8.536444</td>\n",
              "      <td>2.861567</td>\n",
              "      <td>0.529943</td>\n",
              "      <td>8.188563</td>\n",
              "    </tr>\n",
              "    <tr>\n",
              "      <th>14</th>\n",
              "      <td></td>\n",
              "      <td>2020-08-13 07:28:09</td>\n",
              "      <td>22.954 sec</td>\n",
              "      <td>100.0</td>\n",
              "      <td>2.840539</td>\n",
              "      <td>0.516175</td>\n",
              "      <td>8.068659</td>\n",
              "      <td>2.801491</td>\n",
              "      <td>0.513434</td>\n",
              "      <td>7.848354</td>\n",
              "    </tr>\n",
              "  </tbody>\n",
              "</table>\n",
              "</div>"
            ],
            "text/plain": [
              "                timestamp  ... validation_mae  validation_deviance\n",
              "0     2020-08-13 07:27:46  ...       0.699891            12.467252\n",
              "1     2020-08-13 07:27:46  ...       0.698997            12.450833\n",
              "2     2020-08-13 07:27:47  ...       0.694301            12.309992\n",
              "3     2020-08-13 07:27:47  ...       0.693309            12.282130\n",
              "4     2020-08-13 07:27:48  ...       0.690710            12.199689\n",
              "5     2020-08-13 07:27:48  ...       0.689867            12.180812\n",
              "6     2020-08-13 07:27:48  ...       0.686826            12.092493\n",
              "7     2020-08-13 07:27:49  ...       0.685315            12.058894\n",
              "8     2020-08-13 07:27:49  ...       0.681092            11.940898\n",
              "9     2020-08-13 07:27:49  ...       0.680354            11.917880\n",
              "10    2020-08-13 07:27:53  ...       0.644929            10.984894\n",
              "11    2020-08-13 07:27:57  ...       0.602306             9.931719\n",
              "12    2020-08-13 07:28:02  ...       0.560603             8.902292\n",
              "13    2020-08-13 07:28:06  ...       0.529943             8.188563\n",
              "14    2020-08-13 07:28:09  ...       0.513434             7.848354\n",
              "\n",
              "[15 rows x 10 columns]"
            ]
          },
          "metadata": {
            "tags": []
          }
        },
        {
          "output_type": "stream",
          "text": [
            "\n",
            "Variable Importances: \n"
          ],
          "name": "stdout"
        },
        {
          "output_type": "display_data",
          "data": {
            "text/html": [
              "<div>\n",
              "<style scoped>\n",
              "    .dataframe tbody tr th:only-of-type {\n",
              "        vertical-align: middle;\n",
              "    }\n",
              "\n",
              "    .dataframe tbody tr th {\n",
              "        vertical-align: top;\n",
              "    }\n",
              "\n",
              "    .dataframe thead th {\n",
              "        text-align: right;\n",
              "    }\n",
              "</style>\n",
              "<table border=\"1\" class=\"dataframe\">\n",
              "  <thead>\n",
              "    <tr style=\"text-align: right;\">\n",
              "      <th></th>\n",
              "      <th>variable</th>\n",
              "      <th>relative_importance</th>\n",
              "      <th>scaled_importance</th>\n",
              "      <th>percentage</th>\n",
              "    </tr>\n",
              "  </thead>\n",
              "  <tbody>\n",
              "    <tr>\n",
              "      <th>0</th>\n",
              "      <td>item_nbr</td>\n",
              "      <td>1.573718e+07</td>\n",
              "      <td>1.000000</td>\n",
              "      <td>0.891020</td>\n",
              "    </tr>\n",
              "    <tr>\n",
              "      <th>1</th>\n",
              "      <td>day</td>\n",
              "      <td>3.800704e+05</td>\n",
              "      <td>0.024151</td>\n",
              "      <td>0.021519</td>\n",
              "    </tr>\n",
              "    <tr>\n",
              "      <th>2</th>\n",
              "      <td>C1</td>\n",
              "      <td>3.405043e+05</td>\n",
              "      <td>0.021637</td>\n",
              "      <td>0.019279</td>\n",
              "    </tr>\n",
              "    <tr>\n",
              "      <th>3</th>\n",
              "      <td>month</td>\n",
              "      <td>2.195703e+05</td>\n",
              "      <td>0.013952</td>\n",
              "      <td>0.012432</td>\n",
              "    </tr>\n",
              "    <tr>\n",
              "      <th>4</th>\n",
              "      <td>resultdir_bin</td>\n",
              "      <td>1.521730e+05</td>\n",
              "      <td>0.009670</td>\n",
              "      <td>0.008616</td>\n",
              "    </tr>\n",
              "    <tr>\n",
              "      <th>5</th>\n",
              "      <td>preciptotal_bin</td>\n",
              "      <td>9.987025e+04</td>\n",
              "      <td>0.006346</td>\n",
              "      <td>0.005655</td>\n",
              "    </tr>\n",
              "    <tr>\n",
              "      <th>6</th>\n",
              "      <td>dewpoint_bin</td>\n",
              "      <td>9.718713e+04</td>\n",
              "      <td>0.006176</td>\n",
              "      <td>0.005503</td>\n",
              "    </tr>\n",
              "    <tr>\n",
              "      <th>7</th>\n",
              "      <td>year</td>\n",
              "      <td>9.215499e+04</td>\n",
              "      <td>0.005856</td>\n",
              "      <td>0.005218</td>\n",
              "    </tr>\n",
              "    <tr>\n",
              "      <th>8</th>\n",
              "      <td>tmax_bin</td>\n",
              "      <td>8.936334e+04</td>\n",
              "      <td>0.005678</td>\n",
              "      <td>0.005060</td>\n",
              "    </tr>\n",
              "    <tr>\n",
              "      <th>9</th>\n",
              "      <td>tmin_bin</td>\n",
              "      <td>6.694449e+04</td>\n",
              "      <td>0.004254</td>\n",
              "      <td>0.003790</td>\n",
              "    </tr>\n",
              "    <tr>\n",
              "      <th>10</th>\n",
              "      <td>sealevel_bin</td>\n",
              "      <td>6.601021e+04</td>\n",
              "      <td>0.004195</td>\n",
              "      <td>0.003737</td>\n",
              "    </tr>\n",
              "    <tr>\n",
              "      <th>11</th>\n",
              "      <td>tavg_bin</td>\n",
              "      <td>6.590873e+04</td>\n",
              "      <td>0.004188</td>\n",
              "      <td>0.003732</td>\n",
              "    </tr>\n",
              "    <tr>\n",
              "      <th>12</th>\n",
              "      <td>stnpressure_bin</td>\n",
              "      <td>5.286970e+04</td>\n",
              "      <td>0.003360</td>\n",
              "      <td>0.002993</td>\n",
              "    </tr>\n",
              "    <tr>\n",
              "      <th>13</th>\n",
              "      <td>heat_bin</td>\n",
              "      <td>5.158068e+04</td>\n",
              "      <td>0.003278</td>\n",
              "      <td>0.002920</td>\n",
              "    </tr>\n",
              "    <tr>\n",
              "      <th>14</th>\n",
              "      <td>wetbulb_bin</td>\n",
              "      <td>5.070375e+04</td>\n",
              "      <td>0.003222</td>\n",
              "      <td>0.002871</td>\n",
              "    </tr>\n",
              "    <tr>\n",
              "      <th>15</th>\n",
              "      <td>cool_bin</td>\n",
              "      <td>4.355531e+04</td>\n",
              "      <td>0.002768</td>\n",
              "      <td>0.002466</td>\n",
              "    </tr>\n",
              "    <tr>\n",
              "      <th>16</th>\n",
              "      <td>avgspeed_bin</td>\n",
              "      <td>3.069187e+04</td>\n",
              "      <td>0.001950</td>\n",
              "      <td>0.001738</td>\n",
              "    </tr>\n",
              "    <tr>\n",
              "      <th>17</th>\n",
              "      <td>resultspeed_bin</td>\n",
              "      <td>2.563529e+04</td>\n",
              "      <td>0.001629</td>\n",
              "      <td>0.001451</td>\n",
              "    </tr>\n",
              "  </tbody>\n",
              "</table>\n",
              "</div>"
            ],
            "text/plain": [
              "           variable  relative_importance  scaled_importance  percentage\n",
              "0          item_nbr         1.573718e+07           1.000000    0.891020\n",
              "1               day         3.800704e+05           0.024151    0.021519\n",
              "2                C1         3.405043e+05           0.021637    0.019279\n",
              "3             month         2.195703e+05           0.013952    0.012432\n",
              "4     resultdir_bin         1.521730e+05           0.009670    0.008616\n",
              "5   preciptotal_bin         9.987025e+04           0.006346    0.005655\n",
              "6      dewpoint_bin         9.718713e+04           0.006176    0.005503\n",
              "7              year         9.215499e+04           0.005856    0.005218\n",
              "8          tmax_bin         8.936334e+04           0.005678    0.005060\n",
              "9          tmin_bin         6.694449e+04           0.004254    0.003790\n",
              "10     sealevel_bin         6.601021e+04           0.004195    0.003737\n",
              "11         tavg_bin         6.590873e+04           0.004188    0.003732\n",
              "12  stnpressure_bin         5.286970e+04           0.003360    0.002993\n",
              "13         heat_bin         5.158068e+04           0.003278    0.002920\n",
              "14      wetbulb_bin         5.070375e+04           0.003222    0.002871\n",
              "15         cool_bin         4.355531e+04           0.002768    0.002466\n",
              "16     avgspeed_bin         3.069187e+04           0.001950    0.001738\n",
              "17  resultspeed_bin         2.563529e+04           0.001629    0.001451"
            ]
          },
          "metadata": {
            "tags": []
          }
        },
        {
          "output_type": "execute_result",
          "data": {
            "text/plain": [
              ""
            ]
          },
          "metadata": {
            "tags": []
          },
          "execution_count": 41
        }
      ]
    },
    {
      "cell_type": "markdown",
      "metadata": {
        "id": "m0PTyo3c0idQ",
        "colab_type": "text"
      },
      "source": [
        "* Now let's evaluate the model performance on a test set\n",
        " * so we get an honest estimate of top model performance"
      ]
    },
    {
      "cell_type": "code",
      "metadata": {
        "id": "ND5m4Y2Qj_VQ",
        "colab_type": "code",
        "colab": {
          "base_uri": "https://localhost:8080/",
          "height": 170
        },
        "outputId": "098034cd-30e1-41eb-efae-3787f472dc06"
      },
      "source": [
        "\n",
        "best_gbm_perf1 = best_gbm1.model_performance(test)\n",
        "\n",
        "best_gbm_perf1"
      ],
      "execution_count": 42,
      "outputs": [
        {
          "output_type": "stream",
          "text": [
            "\n",
            "ModelMetricsRegression: gbm\n",
            "** Reported on test data. **\n",
            "\n",
            "MSE: 7.848354259595316\n",
            "RMSE: 2.8014914348602455\n",
            "MAE: 0.5134343239079053\n",
            "RMSLE: 0.3242698387763548\n",
            "Mean Residual Deviance: 7.848354259595316\n"
          ],
          "name": "stdout"
        },
        {
          "output_type": "execute_result",
          "data": {
            "text/plain": [
              ""
            ]
          },
          "metadata": {
            "tags": []
          },
          "execution_count": 42
        }
      ]
    },
    {
      "cell_type": "markdown",
      "metadata": {
        "id": "XhN6aaKh1TdF",
        "colab_type": "text"
      },
      "source": [
        "* plot 'variable_importances' graph"
      ]
    },
    {
      "cell_type": "code",
      "metadata": {
        "id": "YlPvzf6l9A43",
        "colab_type": "code",
        "colab": {
          "base_uri": "https://localhost:8080/",
          "height": 472
        },
        "outputId": "6475e4cd-331f-422f-97fa-227f86c40c81"
      },
      "source": [
        "import matplotlib.pyplot as plt\n",
        "plt.rcdefaults()\n",
        "fig, ax = plt.subplots()\n",
        "variables = best_gbm1._model_json['output']['variable_importances']['variable']\n",
        "y_pos = np.arange(len(variables))\n",
        "scaled_importance = best_gbm1._model_json['output']['variable_importances']['scaled_importance']\n",
        "ax.barh(y_pos, scaled_importance, align='center', color='green', ecolor='black')\n",
        "ax.set_yticks(y_pos)\n",
        "ax.set_yticklabels(variables)\n",
        "ax.invert_yaxis()\n",
        "ax.set_xlabel('Scaled Importance')\n",
        "ax.set_title('Variable Importance')\n",
        "plt.show()  "
      ],
      "execution_count": 43,
      "outputs": [
        {
          "output_type": "display_data",
          "data": {
            "image/png": "[encoded data removed]",
            "text/plain": [
              "<Figure size 640x480 with 1 Axes>"
            ]
          },
          "metadata": {
            "tags": []
          }
        }
      ]
    },
    {
      "cell_type": "markdown",
      "metadata": {
        "id": "EHFszBK51hua",
        "colab_type": "text"
      },
      "source": [
        "* On  'variable_importances' graph 'item_nbr' column is  importance"
      ]
    },
    {
      "cell_type": "code",
      "metadata": {
        "id": "SHbRB-1Y6a4D",
        "colab_type": "code",
        "colab": {}
      },
      "source": [
        ""
      ],
      "execution_count": null,
      "outputs": []
    }
  ]
}