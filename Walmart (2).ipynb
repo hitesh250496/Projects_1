{
  "nbformat": 4,
  "nbformat_minor": 0,
  "metadata": {
    "colab": {
      "name": "Walmart.ipynb",
      "provenance": [],
      "collapsed_sections": []
    },
    "kernelspec": {
      "name": "python3",
      "display_name": "Python 3"
    }
  },
  "cells": [
    {
      "cell_type": "code",
      "metadata": {
        "id": "YjOjetkX8-LZ",
        "colab_type": "code",
        "colab": {
          "base_uri": "https://localhost:8080/",
          "height": 34
        },
        "outputId": "9f4f7e56-bb13-4e62-d64f-280977148a76"
      },
      "source": [
        "from google.colab import drive\n",
        "drive.mount('/gdrive')"
      ],
      "execution_count": 40,
      "outputs": [
        {
          "output_type": "stream",
          "text": [
            "Drive already mounted at /gdrive; to attempt to forcibly remount, call drive.mount(\"/gdrive\", force_remount=True).\n"
          ],
          "name": "stdout"
        }
      ]
    },
    {
      "cell_type": "markdown",
      "metadata": {
        "id": "lIUTVcHOBhIq",
        "colab_type": "text"
      },
      "source": [
        ""
      ]
    },
    {
      "cell_type": "code",
      "metadata": {
        "id": "DqJy5zoyBpMK",
        "colab_type": "code",
        "colab": {}
      },
      "source": [
        "import os\n",
        "os.chdir(\"/gdrive/My Drive/Walmart\")"
      ],
      "execution_count": 41,
      "outputs": []
    },
    {
      "cell_type": "code",
      "metadata": {
        "id": "JGS9mhvJB54K",
        "colab_type": "code",
        "colab": {}
      },
      "source": [
        "import pandas as pd \n",
        "import numpy as np\n",
        "\n",
        "key=pd.read_csv(\"key.csv\")\n",
        "train=pd.read_csv(\"train.csv\")\n",
        "test=pd.read_csv(\"test.csv\")\n",
        "weather=pd.read_csv(\"weather.csv\")"
      ],
      "execution_count": 42,
      "outputs": []
    },
    {
      "cell_type": "markdown",
      "metadata": {
        "id": "daWb5Mr6ZIK6",
        "colab_type": "text"
      },
      "source": [
        "* On weather data those columns where 'T' and 'M' present replce it thats column big value .also convert those columns float type .\n",
        "* Because left side space in 'T' we used strip function ."
      ]
    },
    {
      "cell_type": "code",
      "metadata": {
        "id": "XJfZXZhZCmS_",
        "colab_type": "code",
        "colab": {}
      },
      "source": [
        "\n",
        "\n",
        "weather[\"tmax\"] = weather[\"tmax\"].str.strip()\n",
        "weather[\"tmax\"].replace({\"M\": \"55555\", \"T\": \"99999\"}, inplace=True)\n",
        "weather[\"tmax\"] = weather[\"tmax\"].astype('float64')\n",
        "\n",
        "bins = pd.IntervalIndex.from_tuples([(-20, 0), (0,20),(20,40),(40,60),(60,100),(100,130), (55554, 55556)])\n",
        "weather[\"tmax_bin\"] = pd.cut(weather[\"tmax\"], bins)\n",
        "\n",
        "\n",
        "weather[\"tmin\"] = weather[\"tmin\"].str.strip()\n",
        "weather[\"tmin\"].replace({\"M\": \"55555\", \"T\": \"99999\"}, inplace=True)\n",
        "weather[\"tmin\"] = weather[\"tmin\"].astype('float64')\n",
        "\n",
        "bins = pd.IntervalIndex.from_tuples([(-30, 0), (0,20),(20,40),(40,60),(60,100), (55554, 55556)])\n",
        "weather[\"tmin_bin\"] = pd.cut(weather[\"tmin\"], bins)\n",
        "\n",
        "\n",
        "weather[\"tavg\"] = weather[\"tavg\"].str.strip()\n",
        "weather[\"tavg\"].replace({\"M\": \"55555\", \"T\": \"99999\"}, inplace=True)\n",
        "weather[\"tavg\"] = weather[\"tavg\"].astype('float64')\n",
        "\n",
        "bins = pd.IntervalIndex.from_tuples([(-20, 0), (0,20),(20,40),(40,60),(60,100), (55554, 55556)])\n",
        "weather[\"tavg_bin\"] = pd.cut(weather[\"tavg\"], bins)\n",
        "\n",
        "\n",
        "weather[\"depart\"] = weather[\"depart\"].str.strip()\n",
        "weather[\"depart\"].replace({\"M\": \"55555\", \"T\": \"99999\"}, inplace=True)\n",
        "weather[\"depart\"] = weather[\"depart\"].astype('float64')\n",
        "\n",
        "bins = pd.IntervalIndex.from_tuples([(-40,-20),(-20,0),(0,20),(20,40),(40,60),(60,100),(55554,55556)])\n",
        "weather[\"depart_bin\"]= pd.cut(weather[\"depart\"],bins)\n",
        "\n",
        "\n",
        "weather[\"dewpoint\"] = weather[\"dewpoint\"].str.strip()\n",
        "weather[\"dewpoint\"].replace({\"M\": \"55555\", \"T\": \"99999\"}, inplace=True)\n",
        "weather[\"dewpoint\"] = weather[\"dewpoint\"].astype('float64')\n",
        "\n",
        "bins = pd.IntervalIndex.from_tuples([(-30,-20),(-20,0),(0,20),(20,40),(40,60),(60,100),(55554,55556)])\n",
        "weather[\"dewpoint_bin\"]= pd.cut(weather[\"dewpoint\"],bins)\n",
        "\n",
        "\n",
        "weather[\"wetbulb\"] = weather[\"wetbulb\"].str.strip()\n",
        "weather[\"wetbulb\"].replace({\"M\": \"55555\", \"T\": \"99999\"}, inplace=True)\n",
        "weather[\"wetbulb\"] = weather[\"wetbulb\"].astype('float64')\n",
        "\n",
        "bins = pd.IntervalIndex.from_tuples([(-20,-10),(-10,0),(0,20),(20,40),(40,60),(60,100),(55554,55556)])\n",
        "weather[\"wetbulb_bin\"]= pd.cut(weather[\"wetbulb\"],bins)\n",
        "\n",
        "\n",
        "weather[\"heat\"] = weather[\"heat\"].str.strip()\n",
        "weather[\"heat\"].replace({\"M\": \"55555\", \"T\": \"99999\"}, inplace=True)\n",
        "weather[\"heat\"] = weather[\"heat\"].astype('float64')\n",
        "\n",
        "bins = pd.IntervalIndex.from_tuples([(-1,0),(0,20),(20,40),(40,60),(60,80),(80,100),(55554,55556)])\n",
        "weather[\"heat_bin\"]= pd.cut(weather[\"heat\"],bins)\n",
        "\n",
        "\n",
        "weather[\"cool\"] = weather[\"cool\"].str.strip()\n",
        "weather[\"cool\"].replace({\"M\": \"55555\", \"T\": \"99999\"}, inplace=True)\n",
        "weather[\"cool\"] = weather[\"cool\"].astype('float64')\n",
        "\n",
        "bins = pd.IntervalIndex.from_tuples([(-1,0),(0,1),(1,10),(10,20),(20,40),(55554,55556)])\n",
        "weather[\"cool_bin\"]= pd.cut(weather[\"cool\"],bins)\n",
        "\n",
        "\n",
        "weather[\"snowfall\"] = weather[\"snowfall\"].str.strip()\n",
        "weather[\"snowfall\"].replace({\"M\": \"55555\",\"T\": \"99999\"}, inplace=True)\n",
        "weather[\"snowfall\"] = weather[\"snowfall\"].astype('float64')\n",
        "\n",
        "bins= pd.IntervalIndex.from_tuples([(-1,0),(0,1),(1,10),(10,20),(20,40),(40,60),(60,100),(55554,55556),(99998,100000)])\n",
        "weather[\"snowfall_bin\"]=pd.cut(weather[\"snowfall\"],bins)\n",
        "\n",
        "\n",
        "weather[\"preciptotal\"] = weather[\"preciptotal\"].str.strip()\n",
        "weather[\"preciptotal\"].replace({\"M\": \"55555\", \"T\": \"99999\"}, inplace=True)\n",
        "weather[\"preciptotal\"] = weather[\"preciptotal\"].astype('float64')\n",
        "\n",
        "bins= pd.IntervalIndex.from_tuples([(-1,0),(0.0,0),(0,1),(1,10),(55554,55556),(99998,100000)])\n",
        "weather[\"preciptotal_bin\"]=pd.cut(weather[\"preciptotal\"],bins)\n",
        "\n",
        "\n",
        "weather[\"stnpressure\"] = weather[\"stnpressure\"].str.strip()\n",
        "weather[\"stnpressure\"].replace({\"M\": \"55555\", \"T\": \"99999\"}, inplace=True)\n",
        "weather[\"stnpressure\"] = weather[\"stnpressure\"].astype('float64')\n",
        "\n",
        "bins= pd.IntervalIndex.from_tuples([(0,10),(10,20),(20,30),(30,40),(40,60),(60,100),(55554,55556)])\n",
        "weather[\"stnpressure_bin\"]=pd.cut(weather[\"stnpressure\"],bins)\n",
        "\n",
        "\n",
        "weather[\"sealevel\"] = weather[\"sealevel\"].str.strip()\n",
        "weather[\"sealevel\"].replace({\"M\": \"55555\", \"T\": \"99999\"}, inplace=True)\n",
        "weather[\"sealevel\"] = weather[\"sealevel\"].astype('float64')\n",
        "\n",
        "bins= pd.IntervalIndex.from_tuples([(0,10),(10,20),(20,30),(30,40),(40,60),(60,100),(55554,55556)])\n",
        "weather[\"sealevel_bin\"]=pd.cut(weather[\"sealevel\"],bins)\n",
        "\n",
        "\n",
        "weather[\"resultspeed\"] = weather[\"resultspeed\"].str.strip()\n",
        "weather[\"resultspeed\"].replace({\"M\": \"55555\", \"T\": \"99999\"}, inplace=True)\n",
        "weather[\"resultspeed\"] = weather[\"resultspeed\"].astype('float64')\n",
        "\n",
        "bins= pd.IntervalIndex.from_tuples([(0,10),(10,20),(20,30),(30,40),(40,60),(60,100),(55554,55556)])\n",
        "weather[\"resultspeed_bin\"]=pd.cut(weather[\"resultspeed\"],bins)\n",
        "\n",
        "\n",
        "\n",
        "weather[\"resultdir\"] = weather[\"resultdir\"].str.strip()\n",
        "weather[\"resultdir\"].replace({\"M\": \"55555\", \"T\": \"99999\"}, inplace=True)\n",
        "weather[\"resultdir\"] = weather[\"resultdir\"].astype('float64')\n",
        "\n",
        "bins= pd.IntervalIndex.from_tuples([(0,10),(10,20),(20,30),(30,40),(40,60),(60,100),(55554,55556)])\n",
        "weather[\"resultdir_bin\"]=pd.cut(weather[\"resultdir\"],bins)\n",
        "\n",
        "weather[\"avgspeed\"] = weather[\"avgspeed\"].str.strip()\n",
        "weather[\"avgspeed\"].replace({\"M\": \"55555\", \"T\": \"99999\"}, inplace=True)\n",
        "weather[\"avgspeed\"] = weather[\"avgspeed\"].astype('float64')\n",
        "\n",
        "bins= pd.IntervalIndex.from_tuples([(0,10),(10,20),(20,30),(30,40),(40,60),(60,100),(55554,55556)])\n",
        "weather[\"avgspeed_bin\"]=pd.cut(weather[\"avgspeed\"],bins)"
      ],
      "execution_count": 43,
      "outputs": []
    },
    {
      "cell_type": "markdown",
      "metadata": {
        "id": "nnpOA38yakUF",
        "colab_type": "text"
      },
      "source": [
        "* Rmoved those original columns where present 'T' and 'M'.\n"
      ]
    },
    {
      "cell_type": "code",
      "metadata": {
        "id": "Vs-KAbB-BOmE",
        "colab_type": "code",
        "colab": {}
      },
      "source": [
        "\n",
        "weather = weather.drop(columns=['tmax','tmin','tavg','depart','dewpoint','wetbulb','heat','cool','snowfall','preciptotal',\n",
        "                                'stnpressure','sealevel','resultspeed','resultdir',\n",
        "                                'avgspeed','sunrise','sunset','codesum'])\n",
        "\n"
      ],
      "execution_count": 44,
      "outputs": []
    },
    {
      "cell_type": "markdown",
      "metadata": {
        "id": "YkYOEbgQbKf1",
        "colab_type": "text"
      },
      "source": [
        "* We merge key.csv and weather .csv\n",
        "* Also merge key_weather and train.scv"
      ]
    },
    {
      "cell_type": "code",
      "metadata": {
        "id": "SsRr7kirbFi2",
        "colab_type": "code",
        "colab": {}
      },
      "source": [
        "\n",
        "key_weather = key.merge(weather,on=\"station_nbr\")\n",
        "\n",
        "key_weather_train=key_weather.merge(train, on=[\"date\",\"store_nbr\"])"
      ],
      "execution_count": null,
      "outputs": []
    },
    {
      "cell_type": "markdown",
      "metadata": {
        "id": "AB0yRD1GN8Gv",
        "colab_type": "text"
      },
      "source": [
        "* Using dateformat we change format of date column \n",
        "* creat separate columns of date ,month ,year"
      ]
    },
    {
      "cell_type": "code",
      "metadata": {
        "id": "xVInoI-sBOWM",
        "colab_type": "code",
        "colab": {}
      },
      "source": [
        "\n",
        "\n",
        "\n",
        "\n",
        "key_weather_train['date'] = pd.to_datetime(key_weather_train['date'],\n",
        "                 format='%Y-%m-%d')\n",
        "\n",
        "key_weather_train['year'] = key_weather_train['date'].dt.year\n",
        "key_weather_train['month'] = key_weather_train['date'].dt.month\n",
        "key_weather_train['day'] = key_weather_train['date'].dt.day\n"
      ],
      "execution_count": 45,
      "outputs": []
    },
    {
      "cell_type": "markdown",
      "metadata": {
        "id": "4NLmQkrVt5iR",
        "colab_type": "text"
      },
      "source": [
        "* Drop original 'date' and 'station_nbr' columns"
      ]
    },
    {
      "cell_type": "code",
      "metadata": {
        "id": "B5e56T9EtxV3",
        "colab_type": "code",
        "colab": {}
      },
      "source": [
        "\n",
        "\n",
        "key_weather_train=key_weather_train.drop(columns=['date','station_nbr'])"
      ],
      "execution_count": null,
      "outputs": []
    },
    {
      "cell_type": "markdown",
      "metadata": {
        "id": "yqkPnl4Vfq9-",
        "colab_type": "text"
      },
      "source": [
        "* 'store_nbr' and 'item_nbr' both columns datatypes are int64 threfore we convert into category"
      ]
    },
    {
      "cell_type": "code",
      "metadata": {
        "id": "oZATuQMwBkWM",
        "colab_type": "code",
        "colab": {}
      },
      "source": [
        "\n",
        "\n",
        "key_weather_train['item_nbr']=key_weather_train['item_nbr'].astype('category')\n",
        "\n",
        "key_weather_train['store_nbr']=key_weather_train['store_nbr'].astype('category')"
      ],
      "execution_count": 46,
      "outputs": []
    },
    {
      "cell_type": "markdown",
      "metadata": {
        "id": "NYVRM6pdrjWr",
        "colab_type": "text"
      },
      "source": [
        "\n",
        " * All columns convert as type category  "
      ]
    },
    {
      "cell_type": "code",
      "metadata": {
        "id": "UM6TwkY7Cgge",
        "colab_type": "code",
        "colab": {}
      },
      "source": [
        "\n",
        "key_weather_train['tmax_bin'] = key_weather_train['tmax_bin'].astype('category')\n",
        "key_weather_train['tmin_bin'] = key_weather_train['tmin_bin'].astype('category')\n",
        "key_weather_train['tavg_bin'] = key_weather_train['tavg_bin'].astype('category')\n",
        "key_weather_train['depart_bin'] = key_weather_train['depart_bin'].astype('category')\n",
        "key_weather_train['dewpoint_bin'] = key_weather_train['dewpoint_bin'].astype('category')\n",
        "key_weather_train['wetbulb_bin'] = key_weather_train['wetbulb_bin'].astype('category')\n",
        "key_weather_train['heat_bin'] = key_weather_train['heat_bin'].astype('category')\n",
        "key_weather_train['cool_bin'] = key_weather_train['cool_bin'].astype('category')\n",
        "key_weather_train['snowfall_bin'] = key_weather_train['snowfall_bin'].astype('category')\n",
        "key_weather_train['preciptotal_bin'] = key_weather_train['preciptotal_bin'].astype('category')\n",
        "key_weather_train['stnpressure_bin'] = key_weather_train['stnpressure_bin'].astype('category')\n",
        "key_weather_train['sealevel_bin'] = key_weather_train['sealevel_bin'].astype('category')\n",
        "key_weather_train['resultspeed_bin'] = key_weather_train['resultspeed_bin'].astype('category')\n",
        "key_weather_train['resultdir_bin'] = key_weather_train['resultdir_bin'].astype('category')\n",
        "key_weather_train['avgspeed_bin'] = key_weather_train['avgspeed_bin'].astype('category')"
      ],
      "execution_count": 48,
      "outputs": []
    },
    {
      "cell_type": "markdown",
      "metadata": {
        "id": "MZvSA4xGr5SG",
        "colab_type": "text"
      },
      "source": [
        "* Save key_weather_train as .csv"
      ]
    },
    {
      "cell_type": "code",
      "metadata": {
        "id": "4r9eLqiR4rQi",
        "colab_type": "code",
        "colab": {}
      },
      "source": [
        "\n",
        "key_weather_train.to_csv(r'C:\\hitesh\\walmart\\key_weather_train.csv')"
      ],
      "execution_count": null,
      "outputs": []
    },
    {
      "cell_type": "markdown",
      "metadata": {
        "id": "fvcdWvQBsHEV",
        "colab_type": "text"
      },
      "source": [
        "* Also merge key_weather and test.scv"
      ]
    },
    {
      "cell_type": "code",
      "metadata": {
        "id": "_Zc7oxiz4rqY",
        "colab_type": "code",
        "colab": {
          "base_uri": "https://localhost:8080/",
          "height": 309
        },
        "outputId": "e8e155e4-55a4-4014-9904-70a7279c17bc"
      },
      "source": [
        "\n",
        "key_weather_test=key_weather.merge(test, on=[\"date\",\"store_nbr\"])\n",
        "key_weather_test.head()"
      ],
      "execution_count": 53,
      "outputs": [
        {
          "output_type": "execute_result",
          "data": {
            "text/html": [
              "<div>\n",
              "<style scoped>\n",
              "    .dataframe tbody tr th:only-of-type {\n",
              "        vertical-align: middle;\n",
              "    }\n",
              "\n",
              "    .dataframe tbody tr th {\n",
              "        vertical-align: top;\n",
              "    }\n",
              "\n",
              "    .dataframe thead th {\n",
              "        text-align: right;\n",
              "    }\n",
              "</style>\n",
              "<table border=\"1\" class=\"dataframe\">\n",
              "  <thead>\n",
              "    <tr style=\"text-align: right;\">\n",
              "      <th></th>\n",
              "      <th>store_nbr</th>\n",
              "      <th>station_nbr</th>\n",
              "      <th>date</th>\n",
              "      <th>tmax_bin</th>\n",
              "      <th>tmin_bin</th>\n",
              "      <th>tavg_bin</th>\n",
              "      <th>depart_bin</th>\n",
              "      <th>dewpoint_bin</th>\n",
              "      <th>wetbulb_bin</th>\n",
              "      <th>heat_bin</th>\n",
              "      <th>cool_bin</th>\n",
              "      <th>snowfall_bin</th>\n",
              "      <th>preciptotal_bin</th>\n",
              "      <th>stnpressure_bin</th>\n",
              "      <th>sealevel_bin</th>\n",
              "      <th>resultspeed_bin</th>\n",
              "      <th>resultdir_bin</th>\n",
              "      <th>avgspeed_bin</th>\n",
              "      <th>item_nbr</th>\n",
              "    </tr>\n",
              "  </thead>\n",
              "  <tbody>\n",
              "    <tr>\n",
              "      <th>0</th>\n",
              "      <td>1</td>\n",
              "      <td>1</td>\n",
              "      <td>2013-06-04</td>\n",
              "      <td>(60, 100]</td>\n",
              "      <td>(40, 60]</td>\n",
              "      <td>(60, 100]</td>\n",
              "      <td>(55554, 55556]</td>\n",
              "      <td>(40, 60]</td>\n",
              "      <td>(40, 60]</td>\n",
              "      <td>(0, 20]</td>\n",
              "      <td>(-1, 0]</td>\n",
              "      <td>(55554, 55556]</td>\n",
              "      <td>(-1.0, 0.0]</td>\n",
              "      <td>(20, 30]</td>\n",
              "      <td>(20, 30]</td>\n",
              "      <td>(0, 10]</td>\n",
              "      <td>(30, 40]</td>\n",
              "      <td>(0, 10]</td>\n",
              "      <td>1</td>\n",
              "    </tr>\n",
              "    <tr>\n",
              "      <th>1</th>\n",
              "      <td>1</td>\n",
              "      <td>1</td>\n",
              "      <td>2013-06-04</td>\n",
              "      <td>(60, 100]</td>\n",
              "      <td>(40, 60]</td>\n",
              "      <td>(60, 100]</td>\n",
              "      <td>(55554, 55556]</td>\n",
              "      <td>(40, 60]</td>\n",
              "      <td>(40, 60]</td>\n",
              "      <td>(0, 20]</td>\n",
              "      <td>(-1, 0]</td>\n",
              "      <td>(55554, 55556]</td>\n",
              "      <td>(-1.0, 0.0]</td>\n",
              "      <td>(20, 30]</td>\n",
              "      <td>(20, 30]</td>\n",
              "      <td>(0, 10]</td>\n",
              "      <td>(30, 40]</td>\n",
              "      <td>(0, 10]</td>\n",
              "      <td>2</td>\n",
              "    </tr>\n",
              "    <tr>\n",
              "      <th>2</th>\n",
              "      <td>1</td>\n",
              "      <td>1</td>\n",
              "      <td>2013-06-04</td>\n",
              "      <td>(60, 100]</td>\n",
              "      <td>(40, 60]</td>\n",
              "      <td>(60, 100]</td>\n",
              "      <td>(55554, 55556]</td>\n",
              "      <td>(40, 60]</td>\n",
              "      <td>(40, 60]</td>\n",
              "      <td>(0, 20]</td>\n",
              "      <td>(-1, 0]</td>\n",
              "      <td>(55554, 55556]</td>\n",
              "      <td>(-1.0, 0.0]</td>\n",
              "      <td>(20, 30]</td>\n",
              "      <td>(20, 30]</td>\n",
              "      <td>(0, 10]</td>\n",
              "      <td>(30, 40]</td>\n",
              "      <td>(0, 10]</td>\n",
              "      <td>3</td>\n",
              "    </tr>\n",
              "    <tr>\n",
              "      <th>3</th>\n",
              "      <td>1</td>\n",
              "      <td>1</td>\n",
              "      <td>2013-06-04</td>\n",
              "      <td>(60, 100]</td>\n",
              "      <td>(40, 60]</td>\n",
              "      <td>(60, 100]</td>\n",
              "      <td>(55554, 55556]</td>\n",
              "      <td>(40, 60]</td>\n",
              "      <td>(40, 60]</td>\n",
              "      <td>(0, 20]</td>\n",
              "      <td>(-1, 0]</td>\n",
              "      <td>(55554, 55556]</td>\n",
              "      <td>(-1.0, 0.0]</td>\n",
              "      <td>(20, 30]</td>\n",
              "      <td>(20, 30]</td>\n",
              "      <td>(0, 10]</td>\n",
              "      <td>(30, 40]</td>\n",
              "      <td>(0, 10]</td>\n",
              "      <td>4</td>\n",
              "    </tr>\n",
              "    <tr>\n",
              "      <th>4</th>\n",
              "      <td>1</td>\n",
              "      <td>1</td>\n",
              "      <td>2013-06-04</td>\n",
              "      <td>(60, 100]</td>\n",
              "      <td>(40, 60]</td>\n",
              "      <td>(60, 100]</td>\n",
              "      <td>(55554, 55556]</td>\n",
              "      <td>(40, 60]</td>\n",
              "      <td>(40, 60]</td>\n",
              "      <td>(0, 20]</td>\n",
              "      <td>(-1, 0]</td>\n",
              "      <td>(55554, 55556]</td>\n",
              "      <td>(-1.0, 0.0]</td>\n",
              "      <td>(20, 30]</td>\n",
              "      <td>(20, 30]</td>\n",
              "      <td>(0, 10]</td>\n",
              "      <td>(30, 40]</td>\n",
              "      <td>(0, 10]</td>\n",
              "      <td>5</td>\n",
              "    </tr>\n",
              "  </tbody>\n",
              "</table>\n",
              "</div>"
            ],
            "text/plain": [
              "   store_nbr  station_nbr        date  ... resultdir_bin avgspeed_bin item_nbr\n",
              "0          1            1  2013-06-04  ...      (30, 40]      (0, 10]        1\n",
              "1          1            1  2013-06-04  ...      (30, 40]      (0, 10]        2\n",
              "2          1            1  2013-06-04  ...      (30, 40]      (0, 10]        3\n",
              "3          1            1  2013-06-04  ...      (30, 40]      (0, 10]        4\n",
              "4          1            1  2013-06-04  ...      (30, 40]      (0, 10]        5\n",
              "\n",
              "[5 rows x 19 columns]"
            ]
          },
          "metadata": {
            "tags": []
          },
          "execution_count": 53
        }
      ]
    },
    {
      "cell_type": "markdown",
      "metadata": {
        "id": "TJXInG5StkZq",
        "colab_type": "text"
      },
      "source": [
        "* Using dateformat we change format of date column \n",
        "* creat separate columns of date ,month ,year"
      ]
    },
    {
      "cell_type": "code",
      "metadata": {
        "id": "QY7GxMQQ4rTZ",
        "colab_type": "code",
        "colab": {}
      },
      "source": [
        "\n",
        "\n",
        "key_weather_test['date'] = pd.to_datetime(key_weather_test['date'],\n",
        "                 format='%Y-%m-%d')\n",
        "\n",
        "key_weather_test['year'] = key_weather_test['date'].dt.year\n",
        "key_weather_test['month'] = key_weather_test['date'].dt.month\n",
        "key_weather_test['day'] = key_weather_test['date'].dt.day"
      ],
      "execution_count": 54,
      "outputs": []
    },
    {
      "cell_type": "markdown",
      "metadata": {
        "id": "gxMZ-Ms3unFP",
        "colab_type": "text"
      },
      "source": [
        "* Drop original 'date' and 'station_nbr' columns"
      ]
    },
    {
      "cell_type": "code",
      "metadata": {
        "id": "ikHlxYnB4rNb",
        "colab_type": "code",
        "colab": {}
      },
      "source": [
        "\n",
        "\n",
        "key_weather_test=key_weather_test.drop(columns=['date','station_nbr'])\n",
        "\n"
      ],
      "execution_count": 55,
      "outputs": []
    },
    {
      "cell_type": "markdown",
      "metadata": {
        "id": "sEPuBQoHuW_n",
        "colab_type": "text"
      },
      "source": [
        " * 'store_nbr' and 'item_nbr' both columns datatypes are int64 threfore we convert into category"
      ]
    },
    {
      "cell_type": "code",
      "metadata": {
        "id": "AIZJUKS-uVOg",
        "colab_type": "code",
        "colab": {}
      },
      "source": [
        "\n",
        "\n",
        "key_weather_test['item_nbr']=key_weather_test['item_nbr'].astype('category')\n",
        "\n",
        "key_weather_test['store_nbr']=key_weather_test['store_nbr'].astype('category')"
      ],
      "execution_count": null,
      "outputs": []
    },
    {
      "cell_type": "markdown",
      "metadata": {
        "id": "0iCw451RvXKR",
        "colab_type": "text"
      },
      "source": [
        "* Save 'key_weather_test' file as .csv"
      ]
    },
    {
      "cell_type": "code",
      "metadata": {
        "id": "wXxyl2v75MhP",
        "colab_type": "code",
        "colab": {}
      },
      "source": [
        "\n",
        "key_weather_test.to_csv(r'C:\\hitesh\\walmart\\key_weather_test.csv')"
      ],
      "execution_count": null,
      "outputs": []
    },
    {
      "cell_type": "markdown",
      "metadata": {
        "id": "vRJN4JCgvxKI",
        "colab_type": "text"
      },
      "source": [
        " * All columns convert as type category "
      ]
    },
    {
      "cell_type": "code",
      "metadata": {
        "id": "NCtRVpCHCkm6",
        "colab_type": "code",
        "colab": {}
      },
      "source": [
        "\n",
        "key_weather_test['tmax_bin'] = key_weather_test['tmax_bin'].astype('category')\n",
        "key_weather_test['tmin_bin'] =key_weather_test['tmin_bin'].astype('category')\n",
        "key_weather_test['tavg_bin'] = key_weather_test['tavg_bin'].astype('category')\n",
        "key_weather_test['depart_bin'] = key_weather_test['depart_bin'].astype('category')\n",
        "key_weather_test['dewpoint_bin'] = key_weather_test['dewpoint_bin'].astype('category')\n",
        "key_weather_test['wetbulb_bin'] = key_weather_test['wetbulb_bin'].astype('category')\n",
        "key_weather_test['heat_bin'] = key_weather_test['heat_bin'].astype('category')\n",
        "key_weather_test['cool_bin'] = key_weather_test['cool_bin'].astype('category')\n",
        "key_weather_test['snowfall_bin'] = key_weather_test['snowfall_bin'].astype('category')\n",
        "key_weather_test['preciptotal_bin'] = key_weather_test['preciptotal_bin'].astype('category')\n",
        "key_weather_test['stnpressure_bin'] = key_weather_test['stnpressure_bin'].astype('category')\n",
        "key_weather_test['sealevel_bin'] = key_weather_test['sealevel_bin'].astype('category')\n",
        "key_weather_test['resultspeed_bin'] = key_weather_test['resultspeed_bin'].astype('category')\n",
        "key_weather_test['resultdir_bin'] = key_weather_test['resultdir_bin'].astype('category')\n",
        "key_weather_test['avgspeed_bin'] = key_weather_test['avgspeed_bin'].astype('category')"
      ],
      "execution_count": 56,
      "outputs": []
    },
    {
      "cell_type": "markdown",
      "metadata": {
        "id": "3IMvDW4cv2Rf",
        "colab_type": "text"
      },
      "source": [
        " * Install H2O library"
      ]
    },
    {
      "cell_type": "code",
      "metadata": {
        "id": "RwLyz0Im52KQ",
        "colab_type": "code",
        "colab": {
          "base_uri": "https://localhost:8080/",
          "height": 170
        },
        "outputId": "17d3fdd4-153d-493a-b2bf-ac31c0aa018a"
      },
      "source": [
        "!pip install h2o"
      ],
      "execution_count": 57,
      "outputs": [
        {
          "output_type": "stream",
          "text": [
            "Requirement already satisfied: h2o in /usr/local/lib/python3.6/dist-packages (3.30.0.7)\n",
            "Requirement already satisfied: colorama>=0.3.8 in /usr/local/lib/python3.6/dist-packages (from h2o) (0.4.3)\n",
            "Requirement already satisfied: requests in /usr/local/lib/python3.6/dist-packages (from h2o) (2.23.0)\n",
            "Requirement already satisfied: tabulate in /usr/local/lib/python3.6/dist-packages (from h2o) (0.8.7)\n",
            "Requirement already satisfied: future in /usr/local/lib/python3.6/dist-packages (from h2o) (0.16.0)\n",
            "Requirement already satisfied: idna<3,>=2.5 in /usr/local/lib/python3.6/dist-packages (from requests->h2o) (2.10)\n",
            "Requirement already satisfied: chardet<4,>=3.0.2 in /usr/local/lib/python3.6/dist-packages (from requests->h2o) (3.0.4)\n",
            "Requirement already satisfied: certifi>=2017.4.17 in /usr/local/lib/python3.6/dist-packages (from requests->h2o) (2020.6.20)\n",
            "Requirement already satisfied: urllib3!=1.25.0,!=1.25.1,<1.26,>=1.21.1 in /usr/local/lib/python3.6/dist-packages (from requests->h2o) (1.24.3)\n"
          ],
          "name": "stdout"
        }
      ]
    },
    {
      "cell_type": "markdown",
      "metadata": {
        "id": "hclbV0xqwBal",
        "colab_type": "text"
      },
      "source": [
        "* Import H2O "
      ]
    },
    {
      "cell_type": "code",
      "metadata": {
        "id": "e9-ZsC8QKAAW",
        "colab_type": "code",
        "colab": {
          "base_uri": "https://localhost:8080/",
          "height": 389
        },
        "outputId": "612489a1-6b0f-4bae-81e6-67bff4554ef8"
      },
      "source": [
        "import h2o\n",
        "h2o.init()"
      ],
      "execution_count": 58,
      "outputs": [
        {
          "output_type": "stream",
          "text": [
            "Checking whether there is an H2O instance running at http://localhost:54321 . connected.\n"
          ],
          "name": "stdout"
        },
        {
          "output_type": "display_data",
          "data": {
            "text/html": [
              "<div style=\"overflow:auto\"><table style=\"width:50%\"><tr><td>H2O_cluster_uptime:</td>\n",
              "<td>1 hour 23 mins</td></tr>\n",
              "<tr><td>H2O_cluster_timezone:</td>\n",
              "<td>Etc/UTC</td></tr>\n",
              "<tr><td>H2O_data_parsing_timezone:</td>\n",
              "<td>UTC</td></tr>\n",
              "<tr><td>H2O_cluster_version:</td>\n",
              "<td>3.30.0.7</td></tr>\n",
              "<tr><td>H2O_cluster_version_age:</td>\n",
              "<td>19 days </td></tr>\n",
              "<tr><td>H2O_cluster_name:</td>\n",
              "<td>H2O_from_python_unknownUser_yxwor4</td></tr>\n",
              "<tr><td>H2O_cluster_total_nodes:</td>\n",
              "<td>1</td></tr>\n",
              "<tr><td>H2O_cluster_free_memory:</td>\n",
              "<td>1.992 Gb</td></tr>\n",
              "<tr><td>H2O_cluster_total_cores:</td>\n",
              "<td>2</td></tr>\n",
              "<tr><td>H2O_cluster_allowed_cores:</td>\n",
              "<td>2</td></tr>\n",
              "<tr><td>H2O_cluster_status:</td>\n",
              "<td>locked, healthy</td></tr>\n",
              "<tr><td>H2O_connection_url:</td>\n",
              "<td>http://localhost:54321</td></tr>\n",
              "<tr><td>H2O_connection_proxy:</td>\n",
              "<td>{\"http\": null, \"https\": null}</td></tr>\n",
              "<tr><td>H2O_internal_security:</td>\n",
              "<td>False</td></tr>\n",
              "<tr><td>H2O_API_Extensions:</td>\n",
              "<td>Amazon S3, XGBoost, Algos, AutoML, Core V3, TargetEncoder, Core V4</td></tr>\n",
              "<tr><td>Python_version:</td>\n",
              "<td>3.6.9 final</td></tr></table></div>"
            ],
            "text/plain": [
              "--------------------------  ------------------------------------------------------------------\n",
              "H2O_cluster_uptime:         1 hour 23 mins\n",
              "H2O_cluster_timezone:       Etc/UTC\n",
              "H2O_data_parsing_timezone:  UTC\n",
              "H2O_cluster_version:        3.30.0.7\n",
              "H2O_cluster_version_age:    19 days\n",
              "H2O_cluster_name:           H2O_from_python_unknownUser_yxwor4\n",
              "H2O_cluster_total_nodes:    1\n",
              "H2O_cluster_free_memory:    1.992 Gb\n",
              "H2O_cluster_total_cores:    2\n",
              "H2O_cluster_allowed_cores:  2\n",
              "H2O_cluster_status:         locked, healthy\n",
              "H2O_connection_url:         http://localhost:54321\n",
              "H2O_connection_proxy:       {\"http\": null, \"https\": null}\n",
              "H2O_internal_security:      False\n",
              "H2O_API_Extensions:         Amazon S3, XGBoost, Algos, AutoML, Core V3, TargetEncoder, Core V4\n",
              "Python_version:             3.6.9 final\n",
              "--------------------------  ------------------------------------------------------------------"
            ]
          },
          "metadata": {
            "tags": []
          }
        }
      ]
    },
    {
      "cell_type": "markdown",
      "metadata": {
        "id": "JRkwKjyKwXKl",
        "colab_type": "text"
      },
      "source": [
        "* Import os for import operating system to give my drive path"
      ]
    },
    {
      "cell_type": "code",
      "metadata": {
        "id": "kLLJKm6BJ-H1",
        "colab_type": "code",
        "colab": {}
      },
      "source": [
        "import os\n",
        "os.chdir(\"/gdrive/My Drive\")"
      ],
      "execution_count": 60,
      "outputs": []
    },
    {
      "cell_type": "code",
      "metadata": {
        "id": "nly5Nv73UccU",
        "colab_type": "code",
        "colab": {
          "base_uri": "https://localhost:8080/",
          "height": 408
        },
        "outputId": "61822ded-effd-4f9e-b422-d19a9f9f8fae"
      },
      "source": [
        "\n",
        "\n",
        "df = h2o.import_file (\"key_weather_train.csv\")\n",
        "df.types\n",
        "df.col_names"
      ],
      "execution_count": 61,
      "outputs": [
        {
          "output_type": "stream",
          "text": [
            "Parse progress: |█████████████████████████████████████████████████████████| 100%\n"
          ],
          "name": "stdout"
        },
        {
          "output_type": "execute_result",
          "data": {
            "text/plain": [
              "['C1',\n",
              " 'store_nbr',\n",
              " 'tmax_bin',\n",
              " 'tmin_bin',\n",
              " 'tavg_bin',\n",
              " 'depart_bin',\n",
              " 'dewpoint_bin',\n",
              " 'wetbulb_bin',\n",
              " 'heat_bin',\n",
              " 'cool_bin',\n",
              " 'snowfall_bin',\n",
              " 'preciptotal_bin',\n",
              " 'stnpressure_bin',\n",
              " 'sealevel_bin',\n",
              " 'resultspeed_bin',\n",
              " 'resultdir_bin',\n",
              " 'avgspeed_bin',\n",
              " 'item_nbr',\n",
              " 'units',\n",
              " 'year',\n",
              " 'month',\n",
              " 'day']"
            ]
          },
          "metadata": {
            "tags": []
          },
          "execution_count": 61
        }
      ]
    },
    {
      "cell_type": "code",
      "metadata": {
        "id": "wWnkzEl1UySl",
        "colab_type": "code",
        "colab": {}
      },
      "source": [
        "y = 'units'\n",
        "x = df.drop(['units'])\n",
        "x=x.col_names\n"
      ],
      "execution_count": 62,
      "outputs": []
    },
    {
      "cell_type": "code",
      "metadata": {
        "id": "z61Ulw3mU1h7",
        "colab_type": "code",
        "colab": {}
      },
      "source": [
        "df['tmax_bin'] = df['tmax_bin'].asfactor()\n",
        "df['tmin_bin'] = df['tmin_bin'].asfactor()\n",
        "df['tavg_bin'] = df['tavg_bin'].asfactor()\n",
        "df['depart_bin'] = df['depart_bin'].asfactor()\n",
        "df['dewpoint_bin'] = df['dewpoint_bin'].asfactor()\n",
        "df['wetbulb_bin'] = df['wetbulb_bin'].asfactor()\n",
        "df['heat_bin'] = df['heat_bin'].asfactor()\n",
        "df['cool_bin'] = df['cool_bin'].asfactor()\n",
        "df['snowfall_bin'] = df['snowfall_bin'].asfactor()\n",
        "df['preciptotal_bin'] = df['preciptotal_bin'].asfactor()\n",
        "df['stnpressure_bin'] = df['stnpressure_bin'].asfactor()\n",
        "df['sealevel_bin'] = df['sealevel_bin'].asfactor()\n",
        "df['resultspeed_bin'] = df['resultspeed_bin'].asfactor()\n",
        "df['resultdir_bin'] = df['resultdir_bin'].asfactor()\n",
        "df['avgspeed_bin'] = df['avgspeed_bin'].asfactor()"
      ],
      "execution_count": 63,
      "outputs": []
    },
    {
      "cell_type": "markdown",
      "metadata": {
        "id": "MDQfFDnDxEF8",
        "colab_type": "text"
      },
      "source": [
        "* train test split in H2O"
      ]
    },
    {
      "cell_type": "code",
      "metadata": {
        "id": "pF2nqHsiU4CK",
        "colab_type": "code",
        "colab": {
          "base_uri": "https://localhost:8080/",
          "height": 68
        },
        "outputId": "2a6e225e-a29a-4385-b146-7b8fcfe138c4"
      },
      "source": [
        "\n",
        "train,  test = df.split_frame(ratios=[.8])\n",
        "\n",
        "print(df.shape)\n",
        "print(train.shape)\n",
        "print(test.shape)\n"
      ],
      "execution_count": 64,
      "outputs": [
        {
          "output_type": "stream",
          "text": [
            "(90459, 22)\n",
            "(72321, 22)\n",
            "(18138, 22)\n"
          ],
          "name": "stdout"
        }
      ]
    },
    {
      "cell_type": "markdown",
      "metadata": {
        "id": "nHSB91E-xKFd",
        "colab_type": "text"
      },
      "source": [
        " * H2OGeneralizedLinearEstimator"
      ]
    },
    {
      "cell_type": "code",
      "metadata": {
        "id": "1mTShpezU6QO",
        "colab_type": "code",
        "colab": {
          "base_uri": "https://localhost:8080/",
          "height": 360
        },
        "outputId": "0a53ea0e-b0f0-4580-c129-046985c6344c"
      },
      "source": [
        "\n",
        "\n",
        "from h2o.estimators.glm import H2OGeneralizedLinearEstimator\n",
        "\n",
        "glm_lin = H2OGeneralizedLinearEstimator(family = \"gaussian\")\n",
        "glm_lin.train(x=x, y= y, training_frame=train, validation_frame=test, model_id=\"glm_lin\")\n",
        "y_pred = glm_lin.predict(test_data=test)\n",
        "\n",
        "y_pred_df = y_pred.as_data_frame()\n",
        "\n",
        "#view result values\n",
        "glm_lin.model_performance(test)"
      ],
      "execution_count": 65,
      "outputs": [
        {
          "output_type": "stream",
          "text": [
            "/usr/local/lib/python3.6/dist-packages/h2o/estimators/estimator_base.py:200: RuntimeWarning: Dropping bad and constant columns: [store_nbr, snowfall_bin, depart_bin]\n",
            "  warnings.warn(mesg[\"message\"], RuntimeWarning)\n"
          ],
          "name": "stderr"
        },
        {
          "output_type": "stream",
          "text": [
            "glm Model Build progress: |███████████████████████████████████████████████| 100%\n",
            "glm prediction progress: |████████████████████████████████████████████████| 100%\n",
            "\n",
            "ModelMetricsRegressionGLM: glm\n",
            "** Reported on test data. **\n",
            "\n",
            "MSE: 12.570707688224696\n",
            "RMSE: 3.545519382012274\n",
            "MAE: 0.8051178287381314\n",
            "RMSLE: 0.5294046357851351\n",
            "R^2: 0.014498224338246324\n",
            "Mean Residual Deviance: 12.570707688224696\n",
            "Null degrees of freedom: 18137\n",
            "Residual degrees of freedom: 18103\n",
            "Null deviance: 231362.72264564197\n",
            "Residual deviance: 228007.49604901954\n",
            "AIC: 97459.39097114134\n"
          ],
          "name": "stdout"
        },
        {
          "output_type": "execute_result",
          "data": {
            "text/plain": [
              ""
            ]
          },
          "metadata": {
            "tags": []
          },
          "execution_count": 65
        }
      ]
    },
    {
      "cell_type": "code",
      "metadata": {
        "id": "qs5jp1mK-8iP",
        "colab_type": "code",
        "colab": {}
      },
      "source": [
        ""
      ],
      "execution_count": null,
      "outputs": []
    },
    {
      "cell_type": "markdown",
      "metadata": {
        "id": "RDiaWeUwxdLk",
        "colab_type": "text"
      },
      "source": [
        "* H2OGradientBoostingEstimator :  Gradient Boosting Machine\n"
      ]
    },
    {
      "cell_type": "code",
      "metadata": {
        "id": "816hr4GQVF-L",
        "colab_type": "code",
        "colab": {
          "base_uri": "https://localhost:8080/",
          "height": 204
        },
        "outputId": "703f3248-9ea7-4d9d-963b-3beedc70ffd8"
      },
      "source": [
        "\n",
        "\n",
        "from h2o.estimators.gbm import H2OGradientBoostingEstimator\n",
        "\n",
        "h2o_gbm = H2OGradientBoostingEstimator(ignore_const_cols=False)\n",
        "h2o_gbm.train(x=x, y= y, training_frame=train, \n",
        "                   validation_frame=test, model_id=\"h2o_gbm\")\n",
        "\n",
        "y_pred = h2o_gbm.predict(test_data=test)\n",
        "\n",
        "y_pred_df = y_pred.as_data_frame()\n",
        "#view result values\n",
        "h2o_gbm.model_performance(test)\n"
      ],
      "execution_count": 66,
      "outputs": [
        {
          "output_type": "stream",
          "text": [
            "gbm Model Build progress: |███████████████████████████████████████████████| 100%\n",
            "gbm prediction progress: |████████████████████████████████████████████████| 100%\n",
            "\n",
            "ModelMetricsRegression: gbm\n",
            "** Reported on test data. **\n",
            "\n",
            "MSE: 3.898724605831785\n",
            "RMSE: 1.974518828938277\n",
            "MAE: 0.233340279915552\n",
            "RMSLE: 0.16314980560451206\n",
            "Mean Residual Deviance: 3.898724605831785\n"
          ],
          "name": "stdout"
        },
        {
          "output_type": "execute_result",
          "data": {
            "text/plain": [
              ""
            ]
          },
          "metadata": {
            "tags": []
          },
          "execution_count": 66
        }
      ]
    },
    {
      "cell_type": "code",
      "metadata": {
        "id": "P_rCZqXVxjsJ",
        "colab_type": "code",
        "colab": {}
      },
      "source": [
        ""
      ],
      "execution_count": null,
      "outputs": []
    },
    {
      "cell_type": "markdown",
      "metadata": {
        "id": "XTYFUBuuxqlj",
        "colab_type": "text"
      },
      "source": [
        "* Import test.csv as name test2 for best model fit on whole test data "
      ]
    },
    {
      "cell_type": "code",
      "metadata": {
        "id": "Hg_kOseA_F7i",
        "colab_type": "code",
        "colab": {
          "base_uri": "https://localhost:8080/",
          "height": 457
        },
        "outputId": "7bdb71e4-baa8-450e-a500-74185ea2be51"
      },
      "source": [
        "test2=h2o.import_file(\"key_weather_test.csv\")\n",
        "test2.head()"
      ],
      "execution_count": 67,
      "outputs": [
        {
          "output_type": "stream",
          "text": [
            "Parse progress: |█████████████████████████████████████████████████████████| 100%\n"
          ],
          "name": "stdout"
        },
        {
          "output_type": "display_data",
          "data": {
            "text/html": [
              "<table>\n",
              "<thead>\n",
              "<tr><th style=\"text-align: right;\">  C1</th><th style=\"text-align: right;\">  store_nbr</th><th>tmax_bin  </th><th>tmin_bin  </th><th>tavg_bin  </th><th>depart_bin    </th><th>dewpoint_bin  </th><th>wetbulb_bin  </th><th>heat_bin  </th><th>cool_bin  </th><th>snowfall_bin  </th><th>preciptotal_bin  </th><th>stnpressure_bin  </th><th>sealevel_bin  </th><th>resultspeed_bin  </th><th>resultdir_bin  </th><th>avgspeed_bin  </th><th style=\"text-align: right;\">  item_nbr</th><th style=\"text-align: right;\">  year</th><th style=\"text-align: right;\">  month</th><th style=\"text-align: right;\">  day</th></tr>\n",
              "</thead>\n",
              "<tbody>\n",
              "<tr><td style=\"text-align: right;\">   0</td><td style=\"text-align: right;\">          1</td><td>(60, 100] </td><td>(40, 60]  </td><td>(60, 100] </td><td>(55554, 55556]</td><td>(40, 60]      </td><td>(40, 60]     </td><td>(0, 20]   </td><td>(-1, 0]   </td><td>(55554, 55556]</td><td>(-1.0, 0.0]      </td><td>(20, 30]         </td><td>(20, 30]      </td><td>(0, 10]          </td><td>(30, 40]       </td><td>(0, 10]       </td><td style=\"text-align: right;\">         1</td><td style=\"text-align: right;\">  2013</td><td style=\"text-align: right;\">      6</td><td style=\"text-align: right;\">    4</td></tr>\n",
              "<tr><td style=\"text-align: right;\">   1</td><td style=\"text-align: right;\">          1</td><td>(60, 100] </td><td>(40, 60]  </td><td>(60, 100] </td><td>(55554, 55556]</td><td>(40, 60]      </td><td>(40, 60]     </td><td>(0, 20]   </td><td>(-1, 0]   </td><td>(55554, 55556]</td><td>(-1.0, 0.0]      </td><td>(20, 30]         </td><td>(20, 30]      </td><td>(0, 10]          </td><td>(30, 40]       </td><td>(0, 10]       </td><td style=\"text-align: right;\">         2</td><td style=\"text-align: right;\">  2013</td><td style=\"text-align: right;\">      6</td><td style=\"text-align: right;\">    4</td></tr>\n",
              "<tr><td style=\"text-align: right;\">   2</td><td style=\"text-align: right;\">          1</td><td>(60, 100] </td><td>(40, 60]  </td><td>(60, 100] </td><td>(55554, 55556]</td><td>(40, 60]      </td><td>(40, 60]     </td><td>(0, 20]   </td><td>(-1, 0]   </td><td>(55554, 55556]</td><td>(-1.0, 0.0]      </td><td>(20, 30]         </td><td>(20, 30]      </td><td>(0, 10]          </td><td>(30, 40]       </td><td>(0, 10]       </td><td style=\"text-align: right;\">         3</td><td style=\"text-align: right;\">  2013</td><td style=\"text-align: right;\">      6</td><td style=\"text-align: right;\">    4</td></tr>\n",
              "<tr><td style=\"text-align: right;\">   3</td><td style=\"text-align: right;\">          1</td><td>(60, 100] </td><td>(40, 60]  </td><td>(60, 100] </td><td>(55554, 55556]</td><td>(40, 60]      </td><td>(40, 60]     </td><td>(0, 20]   </td><td>(-1, 0]   </td><td>(55554, 55556]</td><td>(-1.0, 0.0]      </td><td>(20, 30]         </td><td>(20, 30]      </td><td>(0, 10]          </td><td>(30, 40]       </td><td>(0, 10]       </td><td style=\"text-align: right;\">         4</td><td style=\"text-align: right;\">  2013</td><td style=\"text-align: right;\">      6</td><td style=\"text-align: right;\">    4</td></tr>\n",
              "<tr><td style=\"text-align: right;\">   4</td><td style=\"text-align: right;\">          1</td><td>(60, 100] </td><td>(40, 60]  </td><td>(60, 100] </td><td>(55554, 55556]</td><td>(40, 60]      </td><td>(40, 60]     </td><td>(0, 20]   </td><td>(-1, 0]   </td><td>(55554, 55556]</td><td>(-1.0, 0.0]      </td><td>(20, 30]         </td><td>(20, 30]      </td><td>(0, 10]          </td><td>(30, 40]       </td><td>(0, 10]       </td><td style=\"text-align: right;\">         5</td><td style=\"text-align: right;\">  2013</td><td style=\"text-align: right;\">      6</td><td style=\"text-align: right;\">    4</td></tr>\n",
              "<tr><td style=\"text-align: right;\">   5</td><td style=\"text-align: right;\">          1</td><td>(60, 100] </td><td>(40, 60]  </td><td>(60, 100] </td><td>(55554, 55556]</td><td>(40, 60]      </td><td>(40, 60]     </td><td>(0, 20]   </td><td>(-1, 0]   </td><td>(55554, 55556]</td><td>(-1.0, 0.0]      </td><td>(20, 30]         </td><td>(20, 30]      </td><td>(0, 10]          </td><td>(30, 40]       </td><td>(0, 10]       </td><td style=\"text-align: right;\">         6</td><td style=\"text-align: right;\">  2013</td><td style=\"text-align: right;\">      6</td><td style=\"text-align: right;\">    4</td></tr>\n",
              "<tr><td style=\"text-align: right;\">   6</td><td style=\"text-align: right;\">          1</td><td>(60, 100] </td><td>(40, 60]  </td><td>(60, 100] </td><td>(55554, 55556]</td><td>(40, 60]      </td><td>(40, 60]     </td><td>(0, 20]   </td><td>(-1, 0]   </td><td>(55554, 55556]</td><td>(-1.0, 0.0]      </td><td>(20, 30]         </td><td>(20, 30]      </td><td>(0, 10]          </td><td>(30, 40]       </td><td>(0, 10]       </td><td style=\"text-align: right;\">         7</td><td style=\"text-align: right;\">  2013</td><td style=\"text-align: right;\">      6</td><td style=\"text-align: right;\">    4</td></tr>\n",
              "<tr><td style=\"text-align: right;\">   7</td><td style=\"text-align: right;\">          1</td><td>(60, 100] </td><td>(40, 60]  </td><td>(60, 100] </td><td>(55554, 55556]</td><td>(40, 60]      </td><td>(40, 60]     </td><td>(0, 20]   </td><td>(-1, 0]   </td><td>(55554, 55556]</td><td>(-1.0, 0.0]      </td><td>(20, 30]         </td><td>(20, 30]      </td><td>(0, 10]          </td><td>(30, 40]       </td><td>(0, 10]       </td><td style=\"text-align: right;\">         8</td><td style=\"text-align: right;\">  2013</td><td style=\"text-align: right;\">      6</td><td style=\"text-align: right;\">    4</td></tr>\n",
              "<tr><td style=\"text-align: right;\">   8</td><td style=\"text-align: right;\">          1</td><td>(60, 100] </td><td>(40, 60]  </td><td>(60, 100] </td><td>(55554, 55556]</td><td>(40, 60]      </td><td>(40, 60]     </td><td>(0, 20]   </td><td>(-1, 0]   </td><td>(55554, 55556]</td><td>(-1.0, 0.0]      </td><td>(20, 30]         </td><td>(20, 30]      </td><td>(0, 10]          </td><td>(30, 40]       </td><td>(0, 10]       </td><td style=\"text-align: right;\">         9</td><td style=\"text-align: right;\">  2013</td><td style=\"text-align: right;\">      6</td><td style=\"text-align: right;\">    4</td></tr>\n",
              "<tr><td style=\"text-align: right;\">   9</td><td style=\"text-align: right;\">          1</td><td>(60, 100] </td><td>(40, 60]  </td><td>(60, 100] </td><td>(55554, 55556]</td><td>(40, 60]      </td><td>(40, 60]     </td><td>(0, 20]   </td><td>(-1, 0]   </td><td>(55554, 55556]</td><td>(-1.0, 0.0]      </td><td>(20, 30]         </td><td>(20, 30]      </td><td>(0, 10]          </td><td>(30, 40]       </td><td>(0, 10]       </td><td style=\"text-align: right;\">        10</td><td style=\"text-align: right;\">  2013</td><td style=\"text-align: right;\">      6</td><td style=\"text-align: right;\">    4</td></tr>\n",
              "</tbody>\n",
              "</table>"
            ]
          },
          "metadata": {
            "tags": []
          }
        },
        {
          "output_type": "execute_result",
          "data": {
            "text/plain": [
              ""
            ]
          },
          "metadata": {
            "tags": []
          },
          "execution_count": 67
        }
      ]
    },
    {
      "cell_type": "code",
      "metadata": {
        "id": "Ey2R1S3X_IYX",
        "colab_type": "code",
        "colab": {
          "base_uri": "https://localhost:8080/",
          "height": 559
        },
        "outputId": "18b6b5f5-5ce4-47c2-be0f-9c8d7787e60d"
      },
      "source": [
        "y_pred = h2o_gbm.predict(test_data=test2)\n",
        "y_pred"
      ],
      "execution_count": 68,
      "outputs": [
        {
          "output_type": "stream",
          "text": [
            "gbm prediction progress: |████████████████████████████████████████████████| 100%\n"
          ],
          "name": "stdout"
        },
        {
          "output_type": "stream",
          "text": [
            "/usr/local/lib/python3.6/dist-packages/h2o/job.py:70: UserWarning: Test/Validation dataset column 'tmax_bin' has levels not trained on: [(100, 130]]\n",
            "  warnings.warn(w)\n",
            "/usr/local/lib/python3.6/dist-packages/h2o/job.py:70: UserWarning: Test/Validation dataset column 'tavg_bin' has levels not trained on: [(-20, 0]]\n",
            "  warnings.warn(w)\n",
            "/usr/local/lib/python3.6/dist-packages/h2o/job.py:70: UserWarning: Test/Validation dataset column 'depart_bin' has levels not trained on: [(-20, 0], (-40, -20], (0, 20], (20, 40]]\n",
            "  warnings.warn(w)\n",
            "/usr/local/lib/python3.6/dist-packages/h2o/job.py:70: UserWarning: Test/Validation dataset column 'wetbulb_bin' has levels not trained on: [(-10, 0]]\n",
            "  warnings.warn(w)\n",
            "/usr/local/lib/python3.6/dist-packages/h2o/job.py:70: UserWarning: Test/Validation dataset column 'heat_bin' has levels not trained on: [(60, 80]]\n",
            "  warnings.warn(w)\n",
            "/usr/local/lib/python3.6/dist-packages/h2o/job.py:70: UserWarning: Test/Validation dataset column 'snowfall_bin' has levels not trained on: [(-1, 0], (0, 1], (1, 10], (10, 20], (99998, 100000]]\n",
            "  warnings.warn(w)\n",
            "/usr/local/lib/python3.6/dist-packages/h2o/job.py:70: UserWarning: Test/Validation dataset column 'resultspeed_bin' has levels not trained on: [(0.0, 10.0], (10.0, 20.0], (20, 30]]\n",
            "  warnings.warn(w)\n",
            "/usr/local/lib/python3.6/dist-packages/h2o/job.py:70: UserWarning: Test/Validation dataset column 'avgspeed_bin' has levels not trained on: [(20, 30]]\n",
            "  warnings.warn(w)\n"
          ],
          "name": "stderr"
        },
        {
          "output_type": "display_data",
          "data": {
            "text/html": [
              "<table>\n",
              "<thead>\n",
              "<tr><th style=\"text-align: right;\">  predict</th></tr>\n",
              "</thead>\n",
              "<tbody>\n",
              "<tr><td style=\"text-align: right;\"> 0.613252</td></tr>\n",
              "<tr><td style=\"text-align: right;\"> 0.613252</td></tr>\n",
              "<tr><td style=\"text-align: right;\"> 0.613252</td></tr>\n",
              "<tr><td style=\"text-align: right;\"> 0.613252</td></tr>\n",
              "<tr><td style=\"text-align: right;\"> 0.613252</td></tr>\n",
              "<tr><td style=\"text-align: right;\"> 0.613252</td></tr>\n",
              "<tr><td style=\"text-align: right;\"> 0.613252</td></tr>\n",
              "<tr><td style=\"text-align: right;\"> 0.613252</td></tr>\n",
              "<tr><td style=\"text-align: right;\">18.1413  </td></tr>\n",
              "<tr><td style=\"text-align: right;\"> 0.601242</td></tr>\n",
              "</tbody>\n",
              "</table>"
            ]
          },
          "metadata": {
            "tags": []
          }
        },
        {
          "output_type": "execute_result",
          "data": {
            "text/plain": [
              ""
            ]
          },
          "metadata": {
            "tags": []
          },
          "execution_count": 68
        }
      ]
    },
    {
      "cell_type": "markdown",
      "metadata": {
        "id": "iuXdR_DryGNL",
        "colab_type": "text"
      },
      "source": [
        "* y_pred convert into pandas dataframe"
      ]
    },
    {
      "cell_type": "code",
      "metadata": {
        "id": "bIQ5eCWJDrlU",
        "colab_type": "code",
        "colab": {
          "base_uri": "https://localhost:8080/",
          "height": 204
        },
        "outputId": "fd5c141d-25bf-49be-a06e-36b39bed897c"
      },
      "source": [
        "\n",
        "y_pred_pd = y_pred.as_data_frame()\n",
        "y_pred_pd.head()"
      ],
      "execution_count": 69,
      "outputs": [
        {
          "output_type": "execute_result",
          "data": {
            "text/html": [
              "<div>\n",
              "<style scoped>\n",
              "    .dataframe tbody tr th:only-of-type {\n",
              "        vertical-align: middle;\n",
              "    }\n",
              "\n",
              "    .dataframe tbody tr th {\n",
              "        vertical-align: top;\n",
              "    }\n",
              "\n",
              "    .dataframe thead th {\n",
              "        text-align: right;\n",
              "    }\n",
              "</style>\n",
              "<table border=\"1\" class=\"dataframe\">\n",
              "  <thead>\n",
              "    <tr style=\"text-align: right;\">\n",
              "      <th></th>\n",
              "      <th>predict</th>\n",
              "    </tr>\n",
              "  </thead>\n",
              "  <tbody>\n",
              "    <tr>\n",
              "      <th>0</th>\n",
              "      <td>0.613252</td>\n",
              "    </tr>\n",
              "    <tr>\n",
              "      <th>1</th>\n",
              "      <td>0.613252</td>\n",
              "    </tr>\n",
              "    <tr>\n",
              "      <th>2</th>\n",
              "      <td>0.613252</td>\n",
              "    </tr>\n",
              "    <tr>\n",
              "      <th>3</th>\n",
              "      <td>0.613252</td>\n",
              "    </tr>\n",
              "    <tr>\n",
              "      <th>4</th>\n",
              "      <td>0.613252</td>\n",
              "    </tr>\n",
              "  </tbody>\n",
              "</table>\n",
              "</div>"
            ],
            "text/plain": [
              "    predict\n",
              "0  0.613252\n",
              "1  0.613252\n",
              "2  0.613252\n",
              "3  0.613252\n",
              "4  0.613252"
            ]
          },
          "metadata": {
            "tags": []
          },
          "execution_count": 69
        }
      ]
    },
    {
      "cell_type": "code",
      "metadata": {
        "id": "93K5X9BSERys",
        "colab_type": "code",
        "colab": {
          "base_uri": "https://localhost:8080/",
          "height": 34
        },
        "outputId": "cabec43e-0b46-482e-e70a-5b97a88c417d"
      },
      "source": [
        "y_pred_pd.shape"
      ],
      "execution_count": 70,
      "outputs": [
        {
          "output_type": "execute_result",
          "data": {
            "text/plain": [
              "(526917, 1)"
            ]
          },
          "metadata": {
            "tags": []
          },
          "execution_count": 70
        }
      ]
    },
    {
      "cell_type": "code",
      "metadata": {
        "id": "n07Kbf0pCGSj",
        "colab_type": "code",
        "colab": {}
      },
      "source": [
        "import os\n",
        "os.chdir(\"/gdrive/My Drive/Walmart\")"
      ],
      "execution_count": 73,
      "outputs": []
    },
    {
      "cell_type": "markdown",
      "metadata": {
        "id": "Yfk9cCVmyfiD",
        "colab_type": "text"
      },
      "source": [
        "* Import submission.csv file "
      ]
    },
    {
      "cell_type": "code",
      "metadata": {
        "id": "tSuZhnTYB8dS",
        "colab_type": "code",
        "colab": {
          "base_uri": "https://localhost:8080/",
          "height": 204
        },
        "outputId": "e4945e45-23a5-4501-ec43-c19e9cc06aa3"
      },
      "source": [
        "\n",
        "sub=pd.read_csv(\"sampleSubmission.csv\")\n",
        "sub.head()"
      ],
      "execution_count": 74,
      "outputs": [
        {
          "output_type": "execute_result",
          "data": {
            "text/html": [
              "<div>\n",
              "<style scoped>\n",
              "    .dataframe tbody tr th:only-of-type {\n",
              "        vertical-align: middle;\n",
              "    }\n",
              "\n",
              "    .dataframe tbody tr th {\n",
              "        vertical-align: top;\n",
              "    }\n",
              "\n",
              "    .dataframe thead th {\n",
              "        text-align: right;\n",
              "    }\n",
              "</style>\n",
              "<table border=\"1\" class=\"dataframe\">\n",
              "  <thead>\n",
              "    <tr style=\"text-align: right;\">\n",
              "      <th></th>\n",
              "      <th>id</th>\n",
              "      <th>units</th>\n",
              "    </tr>\n",
              "  </thead>\n",
              "  <tbody>\n",
              "    <tr>\n",
              "      <th>0</th>\n",
              "      <td>2_1_2013-04-01</td>\n",
              "      <td>0</td>\n",
              "    </tr>\n",
              "    <tr>\n",
              "      <th>1</th>\n",
              "      <td>2_2_2013-04-01</td>\n",
              "      <td>0</td>\n",
              "    </tr>\n",
              "    <tr>\n",
              "      <th>2</th>\n",
              "      <td>2_3_2013-04-01</td>\n",
              "      <td>0</td>\n",
              "    </tr>\n",
              "    <tr>\n",
              "      <th>3</th>\n",
              "      <td>2_4_2013-04-01</td>\n",
              "      <td>0</td>\n",
              "    </tr>\n",
              "    <tr>\n",
              "      <th>4</th>\n",
              "      <td>2_5_2013-04-01</td>\n",
              "      <td>0</td>\n",
              "    </tr>\n",
              "  </tbody>\n",
              "</table>\n",
              "</div>"
            ],
            "text/plain": [
              "               id  units\n",
              "0  2_1_2013-04-01      0\n",
              "1  2_2_2013-04-01      0\n",
              "2  2_3_2013-04-01      0\n",
              "3  2_4_2013-04-01      0\n",
              "4  2_5_2013-04-01      0"
            ]
          },
          "metadata": {
            "tags": []
          },
          "execution_count": 74
        }
      ]
    },
    {
      "cell_type": "markdown",
      "metadata": {
        "id": "0Kz5QtFRy6aE",
        "colab_type": "text"
      },
      "source": [
        "* y_pred_pd convert datatype into integer "
      ]
    },
    {
      "cell_type": "code",
      "metadata": {
        "id": "QH8C-e5XKkT3",
        "colab_type": "code",
        "colab": {
          "base_uri": "https://localhost:8080/",
          "height": 204
        },
        "outputId": "a0b3b72d-b165-4ca0-9b00-0eba5316397e"
      },
      "source": [
        "y_pred_pd.predict = y_pred_pd.predict.astype(int)\n",
        "y_pred_pd.head()"
      ],
      "execution_count": 75,
      "outputs": [
        {
          "output_type": "execute_result",
          "data": {
            "text/html": [
              "<div>\n",
              "<style scoped>\n",
              "    .dataframe tbody tr th:only-of-type {\n",
              "        vertical-align: middle;\n",
              "    }\n",
              "\n",
              "    .dataframe tbody tr th {\n",
              "        vertical-align: top;\n",
              "    }\n",
              "\n",
              "    .dataframe thead th {\n",
              "        text-align: right;\n",
              "    }\n",
              "</style>\n",
              "<table border=\"1\" class=\"dataframe\">\n",
              "  <thead>\n",
              "    <tr style=\"text-align: right;\">\n",
              "      <th></th>\n",
              "      <th>predict</th>\n",
              "    </tr>\n",
              "  </thead>\n",
              "  <tbody>\n",
              "    <tr>\n",
              "      <th>0</th>\n",
              "      <td>0</td>\n",
              "    </tr>\n",
              "    <tr>\n",
              "      <th>1</th>\n",
              "      <td>0</td>\n",
              "    </tr>\n",
              "    <tr>\n",
              "      <th>2</th>\n",
              "      <td>0</td>\n",
              "    </tr>\n",
              "    <tr>\n",
              "      <th>3</th>\n",
              "      <td>0</td>\n",
              "    </tr>\n",
              "    <tr>\n",
              "      <th>4</th>\n",
              "      <td>0</td>\n",
              "    </tr>\n",
              "  </tbody>\n",
              "</table>\n",
              "</div>"
            ],
            "text/plain": [
              "   predict\n",
              "0        0\n",
              "1        0\n",
              "2        0\n",
              "3        0\n",
              "4        0"
            ]
          },
          "metadata": {
            "tags": []
          },
          "execution_count": 75
        }
      ]
    },
    {
      "cell_type": "markdown",
      "metadata": {
        "id": "v2iDbFjRzgKS",
        "colab_type": "text"
      },
      "source": [
        "* avoid negative values in y_pred_pd \n",
        "* negative values convert into zero "
      ]
    },
    {
      "cell_type": "code",
      "metadata": {
        "id": "u-vVPah2MlRR",
        "colab_type": "code",
        "colab": {
          "base_uri": "https://localhost:8080/",
          "height": 419
        },
        "outputId": "41d7df5e-08d0-4977-d648-927460386097"
      },
      "source": [
        "y_pred_pd[y_pred_pd < 0] = 0\n",
        "y_pred_pd"
      ],
      "execution_count": 76,
      "outputs": [
        {
          "output_type": "execute_result",
          "data": {
            "text/html": [
              "<div>\n",
              "<style scoped>\n",
              "    .dataframe tbody tr th:only-of-type {\n",
              "        vertical-align: middle;\n",
              "    }\n",
              "\n",
              "    .dataframe tbody tr th {\n",
              "        vertical-align: top;\n",
              "    }\n",
              "\n",
              "    .dataframe thead th {\n",
              "        text-align: right;\n",
              "    }\n",
              "</style>\n",
              "<table border=\"1\" class=\"dataframe\">\n",
              "  <thead>\n",
              "    <tr style=\"text-align: right;\">\n",
              "      <th></th>\n",
              "      <th>predict</th>\n",
              "    </tr>\n",
              "  </thead>\n",
              "  <tbody>\n",
              "    <tr>\n",
              "      <th>0</th>\n",
              "      <td>0</td>\n",
              "    </tr>\n",
              "    <tr>\n",
              "      <th>1</th>\n",
              "      <td>0</td>\n",
              "    </tr>\n",
              "    <tr>\n",
              "      <th>2</th>\n",
              "      <td>0</td>\n",
              "    </tr>\n",
              "    <tr>\n",
              "      <th>3</th>\n",
              "      <td>0</td>\n",
              "    </tr>\n",
              "    <tr>\n",
              "      <th>4</th>\n",
              "      <td>0</td>\n",
              "    </tr>\n",
              "    <tr>\n",
              "      <th>...</th>\n",
              "      <td>...</td>\n",
              "    </tr>\n",
              "    <tr>\n",
              "      <th>526912</th>\n",
              "      <td>0</td>\n",
              "    </tr>\n",
              "    <tr>\n",
              "      <th>526913</th>\n",
              "      <td>0</td>\n",
              "    </tr>\n",
              "    <tr>\n",
              "      <th>526914</th>\n",
              "      <td>0</td>\n",
              "    </tr>\n",
              "    <tr>\n",
              "      <th>526915</th>\n",
              "      <td>0</td>\n",
              "    </tr>\n",
              "    <tr>\n",
              "      <th>526916</th>\n",
              "      <td>0</td>\n",
              "    </tr>\n",
              "  </tbody>\n",
              "</table>\n",
              "<p>526917 rows × 1 columns</p>\n",
              "</div>"
            ],
            "text/plain": [
              "        predict\n",
              "0             0\n",
              "1             0\n",
              "2             0\n",
              "3             0\n",
              "4             0\n",
              "...         ...\n",
              "526912        0\n",
              "526913        0\n",
              "526914        0\n",
              "526915        0\n",
              "526916        0\n",
              "\n",
              "[526917 rows x 1 columns]"
            ]
          },
          "metadata": {
            "tags": []
          },
          "execution_count": 76
        }
      ]
    },
    {
      "cell_type": "markdown",
      "metadata": {
        "id": "PaMkSziIz67J",
        "colab_type": "text"
      },
      "source": [
        "* Creat final submission dataframe"
      ]
    },
    {
      "cell_type": "code",
      "metadata": {
        "id": "Fx9_UuKyF8jj",
        "colab_type": "code",
        "colab": {
          "base_uri": "https://localhost:8080/",
          "height": 204
        },
        "outputId": "6266fd5a-776f-4b6f-d491-fd7a641f7603"
      },
      "source": [
        "id = sub['id']\n",
        "units = y_pred_pd['predict']\n",
        "import pandas as pd\n",
        "submit = pd.DataFrame({'id':id, 'units':units})\n",
        "submit.head()"
      ],
      "execution_count": 77,
      "outputs": [
        {
          "output_type": "execute_result",
          "data": {
            "text/html": [
              "<div>\n",
              "<style scoped>\n",
              "    .dataframe tbody tr th:only-of-type {\n",
              "        vertical-align: middle;\n",
              "    }\n",
              "\n",
              "    .dataframe tbody tr th {\n",
              "        vertical-align: top;\n",
              "    }\n",
              "\n",
              "    .dataframe thead th {\n",
              "        text-align: right;\n",
              "    }\n",
              "</style>\n",
              "<table border=\"1\" class=\"dataframe\">\n",
              "  <thead>\n",
              "    <tr style=\"text-align: right;\">\n",
              "      <th></th>\n",
              "      <th>id</th>\n",
              "      <th>units</th>\n",
              "    </tr>\n",
              "  </thead>\n",
              "  <tbody>\n",
              "    <tr>\n",
              "      <th>0</th>\n",
              "      <td>2_1_2013-04-01</td>\n",
              "      <td>0</td>\n",
              "    </tr>\n",
              "    <tr>\n",
              "      <th>1</th>\n",
              "      <td>2_2_2013-04-01</td>\n",
              "      <td>0</td>\n",
              "    </tr>\n",
              "    <tr>\n",
              "      <th>2</th>\n",
              "      <td>2_3_2013-04-01</td>\n",
              "      <td>0</td>\n",
              "    </tr>\n",
              "    <tr>\n",
              "      <th>3</th>\n",
              "      <td>2_4_2013-04-01</td>\n",
              "      <td>0</td>\n",
              "    </tr>\n",
              "    <tr>\n",
              "      <th>4</th>\n",
              "      <td>2_5_2013-04-01</td>\n",
              "      <td>0</td>\n",
              "    </tr>\n",
              "  </tbody>\n",
              "</table>\n",
              "</div>"
            ],
            "text/plain": [
              "               id  units\n",
              "0  2_1_2013-04-01      0\n",
              "1  2_2_2013-04-01      0\n",
              "2  2_3_2013-04-01      0\n",
              "3  2_4_2013-04-01      0\n",
              "4  2_5_2013-04-01      0"
            ]
          },
          "metadata": {
            "tags": []
          },
          "execution_count": 77
        }
      ]
    },
    {
      "cell_type": "code",
      "metadata": {
        "id": "Ia8UWte4IWOI",
        "colab_type": "code",
        "colab": {}
      },
      "source": [
        "submit.to_csv(\"Walmart_gbm.csv\",index=False)"
      ],
      "execution_count": null,
      "outputs": []
    },
    {
      "cell_type": "code",
      "metadata": {
        "id": "sNu7efvv_rUP",
        "colab_type": "code",
        "colab": {}
      },
      "source": [
        "\n",
        "\n"
      ],
      "execution_count": null,
      "outputs": []
    },
    {
      "cell_type": "markdown",
      "metadata": {
        "id": "PfAIz5gS0MeC",
        "colab_type": "text"
      },
      "source": [
        " * H2OGridSearch"
      ]
    },
    {
      "cell_type": "code",
      "metadata": {
        "id": "2faXD89_VQFv",
        "colab_type": "code",
        "colab": {
          "base_uri": "https://localhost:8080/",
          "height": 34
        },
        "outputId": "6cb1d8ad-f156-43dd-bcdc-f8015e1ffdf2"
      },
      "source": [
        "\n",
        "\n",
        "\n",
        "\n",
        "from h2o.grid.grid_search import H2OGridSearch\n",
        "\n",
        "gbm_params1 = {'learn_rate': [0.01, 0.1,0.2,0.3],\n",
        "                'max_depth': [50, 100, 150],\n",
        "                'sample_rate': [0.8, 1.0],\n",
        "                'col_sample_rate': [0.2, 0.5, 1.0]}\n",
        "\n",
        "\n",
        "gbm_grid1 = H2OGridSearch(model=H2OGradientBoostingEstimator,\n",
        "                          grid_id='gbm_grid1',\n",
        "                          hyper_params=gbm_params1)\n",
        "gbm_grid1.train(x=x, y=y,\n",
        "                training_frame=train,\n",
        "                validation_frame=test,\n",
        "                ntrees=100,\n",
        "                seed=1)\n",
        "\n"
      ],
      "execution_count": 78,
      "outputs": [
        {
          "output_type": "stream",
          "text": [
            "gbm Grid Build progress: |████████████████████████████████████████████████| 100%\n"
          ],
          "name": "stdout"
        }
      ]
    },
    {
      "cell_type": "markdown",
      "metadata": {
        "id": "eNrlu-P50TMY",
        "colab_type": "text"
      },
      "source": [
        "* Get the grid results, sorted by validation mse"
      ]
    },
    {
      "cell_type": "code",
      "metadata": {
        "id": "tGCAodEceOo3",
        "colab_type": "code",
        "colab": {
          "base_uri": "https://localhost:8080/",
          "height": 1000
        },
        "outputId": "6c013b11-6257-44eb-a7f2-c0a0cb067fe5"
      },
      "source": [
        "\n",
        "gbm_gridperf1 = gbm_grid1.get_grid(sort_by=\"mse\",decreasing=True)\n",
        "gbm_gridperf1.mse()\n",
        "\n"
      ],
      "execution_count": 79,
      "outputs": [
        {
          "output_type": "execute_result",
          "data": {
            "text/plain": [
              "{'gbm_grid1_model_1': 7.416738391342848,\n",
              " 'gbm_grid1_model_10': 1.9902590906292819,\n",
              " 'gbm_grid1_model_100': 3.2512435241981983,\n",
              " 'gbm_grid1_model_101': 1.0263241911966954,\n",
              " 'gbm_grid1_model_102': 0.6496412455624351,\n",
              " 'gbm_grid1_model_103': 2.6825230905920154,\n",
              " 'gbm_grid1_model_104': 1.215344426413411,\n",
              " 'gbm_grid1_model_105': 0.46986523476516556,\n",
              " 'gbm_grid1_model_106': 2.156133084324674,\n",
              " 'gbm_grid1_model_107': 0.44737420126166694,\n",
              " 'gbm_grid1_model_108': 0.4369232389947507,\n",
              " 'gbm_grid1_model_109': 7.823175907249852,\n",
              " 'gbm_grid1_model_11': 0.7995143320439793,\n",
              " 'gbm_grid1_model_110': 4.574416706436894,\n",
              " 'gbm_grid1_model_111': 4.270003973749756,\n",
              " 'gbm_grid1_model_112': 3.061796415605712,\n",
              " 'gbm_grid1_model_113': 1.2289435267157334,\n",
              " 'gbm_grid1_model_114': 0.9391390520637293,\n",
              " 'gbm_grid1_model_115': 2.393719708178998,\n",
              " 'gbm_grid1_model_116': 1.2589885523823563,\n",
              " 'gbm_grid1_model_117': 1.0401986836724118,\n",
              " 'gbm_grid1_model_118': 2.1220447964407416,\n",
              " 'gbm_grid1_model_119': 1.098262491462461,\n",
              " 'gbm_grid1_model_12': 0.5213566477788766,\n",
              " 'gbm_grid1_model_120': 1.1000801118504033,\n",
              " 'gbm_grid1_model_121': 7.823175907249852,\n",
              " 'gbm_grid1_model_122': 4.574416706436894,\n",
              " 'gbm_grid1_model_123': 4.270003973749756,\n",
              " 'gbm_grid1_model_124': 3.061796415605712,\n",
              " 'gbm_grid1_model_125': 1.1633397273301416,\n",
              " 'gbm_grid1_model_126': 0.9391390520637289,\n",
              " 'gbm_grid1_model_127': 2.393719708178998,\n",
              " 'gbm_grid1_model_128': 1.2589885523823563,\n",
              " 'gbm_grid1_model_129': 1.0401986836724118,\n",
              " 'gbm_grid1_model_13': 7.416738391342848,\n",
              " 'gbm_grid1_model_130': 2.1220447964407416,\n",
              " 'gbm_grid1_model_131': 1.0982624914620684,\n",
              " 'gbm_grid1_model_132': 1.1000801118504033,\n",
              " 'gbm_grid1_model_133': 7.823175907249852,\n",
              " 'gbm_grid1_model_134': 4.574416706436894,\n",
              " 'gbm_grid1_model_135': 4.270003973749756,\n",
              " 'gbm_grid1_model_136': 3.061796415605712,\n",
              " 'gbm_grid1_model_137': 1.1633397273301416,\n",
              " 'gbm_grid1_model_138': 0.9391390520637289,\n",
              " 'gbm_grid1_model_139': 2.393719708178998,\n",
              " 'gbm_grid1_model_14': 4.572016770701844,\n",
              " 'gbm_grid1_model_140': 1.2589885523823563,\n",
              " 'gbm_grid1_model_141': 1.0401986836724118,\n",
              " 'gbm_grid1_model_142': 2.1220447964407416,\n",
              " 'gbm_grid1_model_143': 1.0982624914620684,\n",
              " 'gbm_grid1_model_144': 1.1000801118504033,\n",
              " 'gbm_grid1_model_15': 4.278457220759333,\n",
              " 'gbm_grid1_model_16': 2.9461301551979564,\n",
              " 'gbm_grid1_model_17': 1.1388737981705621,\n",
              " 'gbm_grid1_model_18': 0.7596683455850548,\n",
              " 'gbm_grid1_model_19': 2.286011691822931,\n",
              " 'gbm_grid1_model_2': 4.572016770701844,\n",
              " 'gbm_grid1_model_20': 1.080869907995956,\n",
              " 'gbm_grid1_model_21': 0.45734501745987227,\n",
              " 'gbm_grid1_model_22': 1.9902590906292819,\n",
              " 'gbm_grid1_model_23': 0.7994831433727408,\n",
              " 'gbm_grid1_model_24': 0.5213566477788766,\n",
              " 'gbm_grid1_model_25': 7.416738391342848,\n",
              " 'gbm_grid1_model_26': 4.572016770701844,\n",
              " 'gbm_grid1_model_27': 4.278457220759333,\n",
              " 'gbm_grid1_model_28': 2.9461301551979564,\n",
              " 'gbm_grid1_model_29': 1.1388737981705621,\n",
              " 'gbm_grid1_model_3': 4.278457220759333,\n",
              " 'gbm_grid1_model_30': 0.7596683455850548,\n",
              " 'gbm_grid1_model_31': 2.286011691822931,\n",
              " 'gbm_grid1_model_32': 1.080869907995956,\n",
              " 'gbm_grid1_model_33': 0.45734501745987227,\n",
              " 'gbm_grid1_model_34': 1.9902590906292819,\n",
              " 'gbm_grid1_model_35': 0.7994831433727408,\n",
              " 'gbm_grid1_model_36': 0.5213566477788766,\n",
              " 'gbm_grid1_model_37': 7.324362826643876,\n",
              " 'gbm_grid1_model_38': 4.331550946847988,\n",
              " 'gbm_grid1_model_39': 4.178084360434593,\n",
              " 'gbm_grid1_model_4': 2.9461301551979564,\n",
              " 'gbm_grid1_model_40': 2.8301967976726825,\n",
              " 'gbm_grid1_model_41': 1.1824071510337881,\n",
              " 'gbm_grid1_model_42': 0.867486741204227,\n",
              " 'gbm_grid1_model_43': 2.3409280399483796,\n",
              " 'gbm_grid1_model_44': 1.260427868874759,\n",
              " 'gbm_grid1_model_45': 0.9384457196804938,\n",
              " 'gbm_grid1_model_46': 2.147959950506741,\n",
              " 'gbm_grid1_model_47': 1.2358113906052368,\n",
              " 'gbm_grid1_model_48': 0.8684375068093964,\n",
              " 'gbm_grid1_model_49': 7.324362826643876,\n",
              " 'gbm_grid1_model_5': 1.1388737981705621,\n",
              " 'gbm_grid1_model_50': 4.331550946847988,\n",
              " 'gbm_grid1_model_51': 4.178084360434593,\n",
              " 'gbm_grid1_model_52': 2.8301967976726825,\n",
              " 'gbm_grid1_model_53': 1.1824071510337881,\n",
              " 'gbm_grid1_model_54': 0.8674867412042214,\n",
              " 'gbm_grid1_model_55': 2.3409280399483796,\n",
              " 'gbm_grid1_model_56': 1.260427868874759,\n",
              " 'gbm_grid1_model_57': 0.9384457196804938,\n",
              " 'gbm_grid1_model_58': 2.147959950506741,\n",
              " 'gbm_grid1_model_59': 1.2358113906052368,\n",
              " 'gbm_grid1_model_6': 0.7508721234228733,\n",
              " 'gbm_grid1_model_60': 0.8684375068093964,\n",
              " 'gbm_grid1_model_61': 7.324362826643876,\n",
              " 'gbm_grid1_model_62': 4.331550946847988,\n",
              " 'gbm_grid1_model_63': 4.178084360434593,\n",
              " 'gbm_grid1_model_64': 2.8301967976726825,\n",
              " 'gbm_grid1_model_65': 1.1824071510337881,\n",
              " 'gbm_grid1_model_66': 0.8674867412042214,\n",
              " 'gbm_grid1_model_67': 2.3409280399483796,\n",
              " 'gbm_grid1_model_68': 1.260427868874759,\n",
              " 'gbm_grid1_model_69': 0.9384457196804938,\n",
              " 'gbm_grid1_model_7': 2.286011691822931,\n",
              " 'gbm_grid1_model_70': 2.147959950506741,\n",
              " 'gbm_grid1_model_71': 1.2358113906052368,\n",
              " 'gbm_grid1_model_72': 0.8684375068093964,\n",
              " 'gbm_grid1_model_73': 8.009183317493456,\n",
              " 'gbm_grid1_model_74': 4.8477271014079095,\n",
              " 'gbm_grid1_model_75': 4.4430492260971395,\n",
              " 'gbm_grid1_model_76': 3.2512435241981983,\n",
              " 'gbm_grid1_model_77': 0.9986081045504127,\n",
              " 'gbm_grid1_model_78': 0.6543177433271706,\n",
              " 'gbm_grid1_model_79': 2.6825230905920154,\n",
              " 'gbm_grid1_model_8': 1.080869907995956,\n",
              " 'gbm_grid1_model_80': 1.215344426413411,\n",
              " 'gbm_grid1_model_81': 0.46986523476516556,\n",
              " 'gbm_grid1_model_82': 2.156133084324674,\n",
              " 'gbm_grid1_model_83': 0.44737420126166694,\n",
              " 'gbm_grid1_model_84': 0.4369232389947507,\n",
              " 'gbm_grid1_model_85': 8.009183317493456,\n",
              " 'gbm_grid1_model_86': 4.8477271014079095,\n",
              " 'gbm_grid1_model_87': 4.4430492260971395,\n",
              " 'gbm_grid1_model_88': 3.2512435241981983,\n",
              " 'gbm_grid1_model_89': 1.0263241911966954,\n",
              " 'gbm_grid1_model_9': 0.45734501745987227,\n",
              " 'gbm_grid1_model_90': 0.6496412455624351,\n",
              " 'gbm_grid1_model_91': 2.6825230905920154,\n",
              " 'gbm_grid1_model_92': 1.215344426413411,\n",
              " 'gbm_grid1_model_93': 0.46986523476516556,\n",
              " 'gbm_grid1_model_94': 2.156133084324674,\n",
              " 'gbm_grid1_model_95': 0.44737420126166694,\n",
              " 'gbm_grid1_model_96': 0.4369232389947507,\n",
              " 'gbm_grid1_model_97': 8.009183317493456,\n",
              " 'gbm_grid1_model_98': 4.8477271014079095,\n",
              " 'gbm_grid1_model_99': 4.4430492260971395}"
            ]
          },
          "metadata": {
            "tags": []
          },
          "execution_count": 79
        }
      ]
    },
    {
      "cell_type": "markdown",
      "metadata": {
        "id": "qUtmX1fb0Yiw",
        "colab_type": "text"
      },
      "source": [
        "* Grab the top GBM model, chosen by validation MSE"
      ]
    },
    {
      "cell_type": "code",
      "metadata": {
        "id": "kVgb1fLKjE6p",
        "colab_type": "code",
        "colab": {
          "base_uri": "https://localhost:8080/",
          "height": 1000
        },
        "outputId": "497b618f-fcab-4fa6-f402-06e15ea3ed3c"
      },
      "source": [
        " \n",
        "best_gbm1 = gbm_gridperf1.models[0]\n",
        "best_gbm1\n",
        "\n",
        "\n"
      ],
      "execution_count": 80,
      "outputs": [
        {
          "output_type": "stream",
          "text": [
            "Model Details\n",
            "=============\n",
            "H2OGradientBoostingEstimator :  Gradient Boosting Machine\n",
            "Model Key:  gbm_grid1_model_37\n",
            "\n",
            "\n",
            "Model Summary: \n"
          ],
          "name": "stdout"
        },
        {
          "output_type": "display_data",
          "data": {
            "text/html": [
              "<div>\n",
              "<style scoped>\n",
              "    .dataframe tbody tr th:only-of-type {\n",
              "        vertical-align: middle;\n",
              "    }\n",
              "\n",
              "    .dataframe tbody tr th {\n",
              "        vertical-align: top;\n",
              "    }\n",
              "\n",
              "    .dataframe thead th {\n",
              "        text-align: right;\n",
              "    }\n",
              "</style>\n",
              "<table border=\"1\" class=\"dataframe\">\n",
              "  <thead>\n",
              "    <tr style=\"text-align: right;\">\n",
              "      <th></th>\n",
              "      <th></th>\n",
              "      <th>number_of_trees</th>\n",
              "      <th>number_of_internal_trees</th>\n",
              "      <th>model_size_in_bytes</th>\n",
              "      <th>min_depth</th>\n",
              "      <th>max_depth</th>\n",
              "      <th>mean_depth</th>\n",
              "      <th>min_leaves</th>\n",
              "      <th>max_leaves</th>\n",
              "      <th>mean_leaves</th>\n",
              "    </tr>\n",
              "  </thead>\n",
              "  <tbody>\n",
              "    <tr>\n",
              "      <th>0</th>\n",
              "      <td></td>\n",
              "      <td>100.0</td>\n",
              "      <td>100.0</td>\n",
              "      <td>2345088.0</td>\n",
              "      <td>22.0</td>\n",
              "      <td>34.0</td>\n",
              "      <td>27.06</td>\n",
              "      <td>733.0</td>\n",
              "      <td>2813.0</td>\n",
              "      <td>1864.39</td>\n",
              "    </tr>\n",
              "  </tbody>\n",
              "</table>\n",
              "</div>"
            ],
            "text/plain": [
              "     number_of_trees  ...  max_leaves  mean_leaves\n",
              "0              100.0  ...      2813.0      1864.39\n",
              "\n",
              "[1 rows x 10 columns]"
            ]
          },
          "metadata": {
            "tags": []
          }
        },
        {
          "output_type": "stream",
          "text": [
            "\n",
            "\n",
            "ModelMetricsRegression: gbm\n",
            "** Reported on train data. **\n",
            "\n",
            "MSE: 7.324362826643876\n",
            "RMSE: 2.7063560051559876\n",
            "MAE: 0.4969268721799401\n",
            "RMSLE: 0.3076817388411115\n",
            "Mean Residual Deviance: 7.324362826643876\n",
            "\n",
            "ModelMetricsRegression: gbm\n",
            "** Reported on validation data. **\n",
            "\n",
            "MSE: 9.127220494296111\n",
            "RMSE: 3.021129009872983\n",
            "MAE: 0.516108547151509\n",
            "RMSLE: 0.3278534681514446\n",
            "Mean Residual Deviance: 9.127220494296111\n",
            "\n",
            "Scoring History: \n"
          ],
          "name": "stdout"
        },
        {
          "output_type": "display_data",
          "data": {
            "text/html": [
              "<div>\n",
              "<style scoped>\n",
              "    .dataframe tbody tr th:only-of-type {\n",
              "        vertical-align: middle;\n",
              "    }\n",
              "\n",
              "    .dataframe tbody tr th {\n",
              "        vertical-align: top;\n",
              "    }\n",
              "\n",
              "    .dataframe thead th {\n",
              "        text-align: right;\n",
              "    }\n",
              "</style>\n",
              "<table border=\"1\" class=\"dataframe\">\n",
              "  <thead>\n",
              "    <tr style=\"text-align: right;\">\n",
              "      <th></th>\n",
              "      <th></th>\n",
              "      <th>timestamp</th>\n",
              "      <th>duration</th>\n",
              "      <th>number_of_trees</th>\n",
              "      <th>training_rmse</th>\n",
              "      <th>training_mae</th>\n",
              "      <th>training_deviance</th>\n",
              "      <th>validation_rmse</th>\n",
              "      <th>validation_mae</th>\n",
              "      <th>validation_deviance</th>\n",
              "    </tr>\n",
              "  </thead>\n",
              "  <tbody>\n",
              "    <tr>\n",
              "      <th>0</th>\n",
              "      <td></td>\n",
              "      <td>2020-08-10 06:52:09</td>\n",
              "      <td>14 min  9.137 sec</td>\n",
              "      <td>0.0</td>\n",
              "      <td>3.664860</td>\n",
              "      <td>0.716385</td>\n",
              "      <td>13.431199</td>\n",
              "      <td>3.739489</td>\n",
              "      <td>0.711280</td>\n",
              "      <td>13.983776</td>\n",
              "    </tr>\n",
              "    <tr>\n",
              "      <th>1</th>\n",
              "      <td></td>\n",
              "      <td>2020-08-10 06:52:09</td>\n",
              "      <td>14 min  9.326 sec</td>\n",
              "      <td>1.0</td>\n",
              "      <td>3.654068</td>\n",
              "      <td>0.714042</td>\n",
              "      <td>13.352214</td>\n",
              "      <td>3.731903</td>\n",
              "      <td>0.709324</td>\n",
              "      <td>13.927097</td>\n",
              "    </tr>\n",
              "    <tr>\n",
              "      <th>2</th>\n",
              "      <td></td>\n",
              "      <td>2020-08-10 06:52:10</td>\n",
              "      <td>14 min  9.545 sec</td>\n",
              "      <td>2.0</td>\n",
              "      <td>3.631381</td>\n",
              "      <td>0.709062</td>\n",
              "      <td>13.186926</td>\n",
              "      <td>3.713598</td>\n",
              "      <td>0.704707</td>\n",
              "      <td>13.790813</td>\n",
              "    </tr>\n",
              "    <tr>\n",
              "      <th>3</th>\n",
              "      <td></td>\n",
              "      <td>2020-08-10 06:52:10</td>\n",
              "      <td>14 min  9.761 sec</td>\n",
              "      <td>3.0</td>\n",
              "      <td>3.622614</td>\n",
              "      <td>0.707149</td>\n",
              "      <td>13.123332</td>\n",
              "      <td>3.706667</td>\n",
              "      <td>0.703273</td>\n",
              "      <td>13.739381</td>\n",
              "    </tr>\n",
              "    <tr>\n",
              "      <th>4</th>\n",
              "      <td></td>\n",
              "      <td>2020-08-10 06:52:10</td>\n",
              "      <td>14 min  9.968 sec</td>\n",
              "      <td>4.0</td>\n",
              "      <td>3.609821</td>\n",
              "      <td>0.704297</td>\n",
              "      <td>13.030807</td>\n",
              "      <td>3.696641</td>\n",
              "      <td>0.700783</td>\n",
              "      <td>13.665152</td>\n",
              "    </tr>\n",
              "    <tr>\n",
              "      <th>5</th>\n",
              "      <td></td>\n",
              "      <td>2020-08-10 06:52:10</td>\n",
              "      <td>14 min 10.165 sec</td>\n",
              "      <td>5.0</td>\n",
              "      <td>3.601265</td>\n",
              "      <td>0.702380</td>\n",
              "      <td>12.969110</td>\n",
              "      <td>3.689959</td>\n",
              "      <td>0.699029</td>\n",
              "      <td>13.615798</td>\n",
              "    </tr>\n",
              "    <tr>\n",
              "      <th>6</th>\n",
              "      <td></td>\n",
              "      <td>2020-08-10 06:52:10</td>\n",
              "      <td>14 min 10.387 sec</td>\n",
              "      <td>6.0</td>\n",
              "      <td>3.589372</td>\n",
              "      <td>0.699678</td>\n",
              "      <td>12.883595</td>\n",
              "      <td>3.679870</td>\n",
              "      <td>0.696545</td>\n",
              "      <td>13.541442</td>\n",
              "    </tr>\n",
              "    <tr>\n",
              "      <th>7</th>\n",
              "      <td></td>\n",
              "      <td>2020-08-10 06:52:11</td>\n",
              "      <td>14 min 10.605 sec</td>\n",
              "      <td>7.0</td>\n",
              "      <td>3.580425</td>\n",
              "      <td>0.697724</td>\n",
              "      <td>12.819440</td>\n",
              "      <td>3.672339</td>\n",
              "      <td>0.694720</td>\n",
              "      <td>13.486076</td>\n",
              "    </tr>\n",
              "    <tr>\n",
              "      <th>8</th>\n",
              "      <td></td>\n",
              "      <td>2020-08-10 06:52:11</td>\n",
              "      <td>14 min 10.848 sec</td>\n",
              "      <td>8.0</td>\n",
              "      <td>3.560343</td>\n",
              "      <td>0.692588</td>\n",
              "      <td>12.676045</td>\n",
              "      <td>3.653637</td>\n",
              "      <td>0.689672</td>\n",
              "      <td>13.349064</td>\n",
              "    </tr>\n",
              "    <tr>\n",
              "      <th>9</th>\n",
              "      <td></td>\n",
              "      <td>2020-08-10 06:52:11</td>\n",
              "      <td>14 min 11.034 sec</td>\n",
              "      <td>9.0</td>\n",
              "      <td>3.556926</td>\n",
              "      <td>0.691880</td>\n",
              "      <td>12.651721</td>\n",
              "      <td>3.651727</td>\n",
              "      <td>0.689230</td>\n",
              "      <td>13.335108</td>\n",
              "    </tr>\n",
              "    <tr>\n",
              "      <th>10</th>\n",
              "      <td></td>\n",
              "      <td>2020-08-10 06:52:11</td>\n",
              "      <td>14 min 11.251 sec</td>\n",
              "      <td>10.0</td>\n",
              "      <td>3.553115</td>\n",
              "      <td>0.690630</td>\n",
              "      <td>12.624626</td>\n",
              "      <td>3.649222</td>\n",
              "      <td>0.688141</td>\n",
              "      <td>13.316821</td>\n",
              "    </tr>\n",
              "    <tr>\n",
              "      <th>11</th>\n",
              "      <td></td>\n",
              "      <td>2020-08-10 06:52:12</td>\n",
              "      <td>14 min 11.454 sec</td>\n",
              "      <td>11.0</td>\n",
              "      <td>3.546682</td>\n",
              "      <td>0.689208</td>\n",
              "      <td>12.578951</td>\n",
              "      <td>3.645532</td>\n",
              "      <td>0.687108</td>\n",
              "      <td>13.289902</td>\n",
              "    </tr>\n",
              "    <tr>\n",
              "      <th>12</th>\n",
              "      <td></td>\n",
              "      <td>2020-08-10 06:52:12</td>\n",
              "      <td>14 min 11.656 sec</td>\n",
              "      <td>12.0</td>\n",
              "      <td>3.539505</td>\n",
              "      <td>0.687731</td>\n",
              "      <td>12.528096</td>\n",
              "      <td>3.641281</td>\n",
              "      <td>0.686147</td>\n",
              "      <td>13.258929</td>\n",
              "    </tr>\n",
              "    <tr>\n",
              "      <th>13</th>\n",
              "      <td></td>\n",
              "      <td>2020-08-10 06:52:12</td>\n",
              "      <td>14 min 12.045 sec</td>\n",
              "      <td>13.0</td>\n",
              "      <td>3.529926</td>\n",
              "      <td>0.685463</td>\n",
              "      <td>12.460381</td>\n",
              "      <td>3.634702</td>\n",
              "      <td>0.684431</td>\n",
              "      <td>13.211060</td>\n",
              "    </tr>\n",
              "    <tr>\n",
              "      <th>14</th>\n",
              "      <td></td>\n",
              "      <td>2020-08-10 06:52:12</td>\n",
              "      <td>14 min 12.367 sec</td>\n",
              "      <td>14.0</td>\n",
              "      <td>3.516431</td>\n",
              "      <td>0.682458</td>\n",
              "      <td>12.365285</td>\n",
              "      <td>3.623758</td>\n",
              "      <td>0.681609</td>\n",
              "      <td>13.131621</td>\n",
              "    </tr>\n",
              "    <tr>\n",
              "      <th>15</th>\n",
              "      <td></td>\n",
              "      <td>2020-08-10 06:52:13</td>\n",
              "      <td>14 min 12.617 sec</td>\n",
              "      <td>15.0</td>\n",
              "      <td>3.496565</td>\n",
              "      <td>0.677967</td>\n",
              "      <td>12.225970</td>\n",
              "      <td>3.607019</td>\n",
              "      <td>0.677432</td>\n",
              "      <td>13.010587</td>\n",
              "    </tr>\n",
              "    <tr>\n",
              "      <th>16</th>\n",
              "      <td></td>\n",
              "      <td>2020-08-10 06:52:13</td>\n",
              "      <td>14 min 12.803 sec</td>\n",
              "      <td>16.0</td>\n",
              "      <td>3.483525</td>\n",
              "      <td>0.675041</td>\n",
              "      <td>12.134949</td>\n",
              "      <td>3.598157</td>\n",
              "      <td>0.674763</td>\n",
              "      <td>12.946734</td>\n",
              "    </tr>\n",
              "    <tr>\n",
              "      <th>17</th>\n",
              "      <td></td>\n",
              "      <td>2020-08-10 06:52:13</td>\n",
              "      <td>14 min 13.046 sec</td>\n",
              "      <td>17.0</td>\n",
              "      <td>3.463800</td>\n",
              "      <td>0.670641</td>\n",
              "      <td>11.997909</td>\n",
              "      <td>3.581931</td>\n",
              "      <td>0.670693</td>\n",
              "      <td>12.830228</td>\n",
              "    </tr>\n",
              "    <tr>\n",
              "      <th>18</th>\n",
              "      <td></td>\n",
              "      <td>2020-08-10 06:52:17</td>\n",
              "      <td>14 min 17.081 sec</td>\n",
              "      <td>38.0</td>\n",
              "      <td>3.267947</td>\n",
              "      <td>0.625506</td>\n",
              "      <td>10.679478</td>\n",
              "      <td>3.437023</td>\n",
              "      <td>0.632128</td>\n",
              "      <td>11.813126</td>\n",
              "    </tr>\n",
              "    <tr>\n",
              "      <th>19</th>\n",
              "      <td></td>\n",
              "      <td>2020-08-10 06:52:21</td>\n",
              "      <td>14 min 21.239 sec</td>\n",
              "      <td>59.0</td>\n",
              "      <td>3.020064</td>\n",
              "      <td>0.567685</td>\n",
              "      <td>9.120784</td>\n",
              "      <td>3.240989</td>\n",
              "      <td>0.578816</td>\n",
              "      <td>10.504008</td>\n",
              "    </tr>\n",
              "  </tbody>\n",
              "</table>\n",
              "</div>"
            ],
            "text/plain": [
              "                timestamp  ... validation_mae  validation_deviance\n",
              "0     2020-08-10 06:52:09  ...       0.711280            13.983776\n",
              "1     2020-08-10 06:52:09  ...       0.709324            13.927097\n",
              "2     2020-08-10 06:52:10  ...       0.704707            13.790813\n",
              "3     2020-08-10 06:52:10  ...       0.703273            13.739381\n",
              "4     2020-08-10 06:52:10  ...       0.700783            13.665152\n",
              "5     2020-08-10 06:52:10  ...       0.699029            13.615798\n",
              "6     2020-08-10 06:52:10  ...       0.696545            13.541442\n",
              "7     2020-08-10 06:52:11  ...       0.694720            13.486076\n",
              "8     2020-08-10 06:52:11  ...       0.689672            13.349064\n",
              "9     2020-08-10 06:52:11  ...       0.689230            13.335108\n",
              "10    2020-08-10 06:52:11  ...       0.688141            13.316821\n",
              "11    2020-08-10 06:52:12  ...       0.687108            13.289902\n",
              "12    2020-08-10 06:52:12  ...       0.686147            13.258929\n",
              "13    2020-08-10 06:52:12  ...       0.684431            13.211060\n",
              "14    2020-08-10 06:52:12  ...       0.681609            13.131621\n",
              "15    2020-08-10 06:52:13  ...       0.677432            13.010587\n",
              "16    2020-08-10 06:52:13  ...       0.674763            12.946734\n",
              "17    2020-08-10 06:52:13  ...       0.670693            12.830228\n",
              "18    2020-08-10 06:52:17  ...       0.632128            11.813126\n",
              "19    2020-08-10 06:52:21  ...       0.578816            10.504008\n",
              "\n",
              "[20 rows x 10 columns]"
            ]
          },
          "metadata": {
            "tags": []
          }
        },
        {
          "output_type": "stream",
          "text": [
            "\n",
            "See the whole table with table.as_data_frame()\n",
            "\n",
            "Variable Importances: \n"
          ],
          "name": "stdout"
        },
        {
          "output_type": "display_data",
          "data": {
            "text/html": [
              "<div>\n",
              "<style scoped>\n",
              "    .dataframe tbody tr th:only-of-type {\n",
              "        vertical-align: middle;\n",
              "    }\n",
              "\n",
              "    .dataframe tbody tr th {\n",
              "        vertical-align: top;\n",
              "    }\n",
              "\n",
              "    .dataframe thead th {\n",
              "        text-align: right;\n",
              "    }\n",
              "</style>\n",
              "<table border=\"1\" class=\"dataframe\">\n",
              "  <thead>\n",
              "    <tr style=\"text-align: right;\">\n",
              "      <th></th>\n",
              "      <th>variable</th>\n",
              "      <th>relative_importance</th>\n",
              "      <th>scaled_importance</th>\n",
              "      <th>percentage</th>\n",
              "    </tr>\n",
              "  </thead>\n",
              "  <tbody>\n",
              "    <tr>\n",
              "      <th>0</th>\n",
              "      <td>item_nbr</td>\n",
              "      <td>2.002935e+07</td>\n",
              "      <td>1.000000</td>\n",
              "      <td>0.903389</td>\n",
              "    </tr>\n",
              "    <tr>\n",
              "      <th>1</th>\n",
              "      <td>day</td>\n",
              "      <td>4.231958e+05</td>\n",
              "      <td>0.021129</td>\n",
              "      <td>0.019088</td>\n",
              "    </tr>\n",
              "    <tr>\n",
              "      <th>2</th>\n",
              "      <td>C1</td>\n",
              "      <td>3.756204e+05</td>\n",
              "      <td>0.018753</td>\n",
              "      <td>0.016942</td>\n",
              "    </tr>\n",
              "    <tr>\n",
              "      <th>3</th>\n",
              "      <td>month</td>\n",
              "      <td>2.322187e+05</td>\n",
              "      <td>0.011594</td>\n",
              "      <td>0.010474</td>\n",
              "    </tr>\n",
              "    <tr>\n",
              "      <th>4</th>\n",
              "      <td>resultdir_bin</td>\n",
              "      <td>1.599646e+05</td>\n",
              "      <td>0.007987</td>\n",
              "      <td>0.007215</td>\n",
              "    </tr>\n",
              "    <tr>\n",
              "      <th>5</th>\n",
              "      <td>preciptotal_bin</td>\n",
              "      <td>1.216457e+05</td>\n",
              "      <td>0.006073</td>\n",
              "      <td>0.005487</td>\n",
              "    </tr>\n",
              "    <tr>\n",
              "      <th>6</th>\n",
              "      <td>tmax_bin</td>\n",
              "      <td>1.123008e+05</td>\n",
              "      <td>0.005607</td>\n",
              "      <td>0.005065</td>\n",
              "    </tr>\n",
              "    <tr>\n",
              "      <th>7</th>\n",
              "      <td>tavg_bin</td>\n",
              "      <td>9.426116e+04</td>\n",
              "      <td>0.004706</td>\n",
              "      <td>0.004251</td>\n",
              "    </tr>\n",
              "    <tr>\n",
              "      <th>8</th>\n",
              "      <td>year</td>\n",
              "      <td>9.281978e+04</td>\n",
              "      <td>0.004634</td>\n",
              "      <td>0.004186</td>\n",
              "    </tr>\n",
              "    <tr>\n",
              "      <th>9</th>\n",
              "      <td>wetbulb_bin</td>\n",
              "      <td>8.931229e+04</td>\n",
              "      <td>0.004459</td>\n",
              "      <td>0.004028</td>\n",
              "    </tr>\n",
              "    <tr>\n",
              "      <th>10</th>\n",
              "      <td>sealevel_bin</td>\n",
              "      <td>8.704811e+04</td>\n",
              "      <td>0.004346</td>\n",
              "      <td>0.003926</td>\n",
              "    </tr>\n",
              "    <tr>\n",
              "      <th>11</th>\n",
              "      <td>dewpoint_bin</td>\n",
              "      <td>8.440568e+04</td>\n",
              "      <td>0.004214</td>\n",
              "      <td>0.003807</td>\n",
              "    </tr>\n",
              "    <tr>\n",
              "      <th>12</th>\n",
              "      <td>tmin_bin</td>\n",
              "      <td>6.147623e+04</td>\n",
              "      <td>0.003069</td>\n",
              "      <td>0.002773</td>\n",
              "    </tr>\n",
              "    <tr>\n",
              "      <th>13</th>\n",
              "      <td>heat_bin</td>\n",
              "      <td>4.755516e+04</td>\n",
              "      <td>0.002374</td>\n",
              "      <td>0.002145</td>\n",
              "    </tr>\n",
              "    <tr>\n",
              "      <th>14</th>\n",
              "      <td>stnpressure_bin</td>\n",
              "      <td>4.642732e+04</td>\n",
              "      <td>0.002318</td>\n",
              "      <td>0.002094</td>\n",
              "    </tr>\n",
              "    <tr>\n",
              "      <th>15</th>\n",
              "      <td>avgspeed_bin</td>\n",
              "      <td>4.147045e+04</td>\n",
              "      <td>0.002070</td>\n",
              "      <td>0.001870</td>\n",
              "    </tr>\n",
              "    <tr>\n",
              "      <th>16</th>\n",
              "      <td>cool_bin</td>\n",
              "      <td>4.010637e+04</td>\n",
              "      <td>0.002002</td>\n",
              "      <td>0.001809</td>\n",
              "    </tr>\n",
              "    <tr>\n",
              "      <th>17</th>\n",
              "      <td>resultspeed_bin</td>\n",
              "      <td>3.217420e+04</td>\n",
              "      <td>0.001606</td>\n",
              "      <td>0.001451</td>\n",
              "    </tr>\n",
              "  </tbody>\n",
              "</table>\n",
              "</div>"
            ],
            "text/plain": [
              "           variable  relative_importance  scaled_importance  percentage\n",
              "0          item_nbr         2.002935e+07           1.000000    0.903389\n",
              "1               day         4.231958e+05           0.021129    0.019088\n",
              "2                C1         3.756204e+05           0.018753    0.016942\n",
              "3             month         2.322187e+05           0.011594    0.010474\n",
              "4     resultdir_bin         1.599646e+05           0.007987    0.007215\n",
              "5   preciptotal_bin         1.216457e+05           0.006073    0.005487\n",
              "6          tmax_bin         1.123008e+05           0.005607    0.005065\n",
              "7          tavg_bin         9.426116e+04           0.004706    0.004251\n",
              "8              year         9.281978e+04           0.004634    0.004186\n",
              "9       wetbulb_bin         8.931229e+04           0.004459    0.004028\n",
              "10     sealevel_bin         8.704811e+04           0.004346    0.003926\n",
              "11     dewpoint_bin         8.440568e+04           0.004214    0.003807\n",
              "12         tmin_bin         6.147623e+04           0.003069    0.002773\n",
              "13         heat_bin         4.755516e+04           0.002374    0.002145\n",
              "14  stnpressure_bin         4.642732e+04           0.002318    0.002094\n",
              "15     avgspeed_bin         4.147045e+04           0.002070    0.001870\n",
              "16         cool_bin         4.010637e+04           0.002002    0.001809\n",
              "17  resultspeed_bin         3.217420e+04           0.001606    0.001451"
            ]
          },
          "metadata": {
            "tags": []
          }
        },
        {
          "output_type": "execute_result",
          "data": {
            "text/plain": [
              ""
            ]
          },
          "metadata": {
            "tags": []
          },
          "execution_count": 80
        }
      ]
    },
    {
      "cell_type": "markdown",
      "metadata": {
        "id": "m0PTyo3c0idQ",
        "colab_type": "text"
      },
      "source": [
        "* Now let's evaluate the model performance on a test set\n",
        " * so we get an honest estimate of top model performance"
      ]
    },
    {
      "cell_type": "code",
      "metadata": {
        "id": "ND5m4Y2Qj_VQ",
        "colab_type": "code",
        "colab": {
          "base_uri": "https://localhost:8080/",
          "height": 170
        },
        "outputId": "8dfdc6be-8dcc-4e9f-f868-38b488beaede"
      },
      "source": [
        "\n",
        "best_gbm_perf1 = best_gbm1.model_performance(test)\n",
        "\n",
        "best_gbm_perf1"
      ],
      "execution_count": 81,
      "outputs": [
        {
          "output_type": "stream",
          "text": [
            "\n",
            "ModelMetricsRegression: gbm\n",
            "** Reported on test data. **\n",
            "\n",
            "MSE: 6.823312582617743\n",
            "RMSE: 2.612147121166368\n",
            "MAE: 0.503220366613518\n",
            "RMSLE: 0.3138955859858924\n",
            "Mean Residual Deviance: 6.823312582617743\n"
          ],
          "name": "stdout"
        },
        {
          "output_type": "execute_result",
          "data": {
            "text/plain": [
              ""
            ]
          },
          "metadata": {
            "tags": []
          },
          "execution_count": 81
        }
      ]
    },
    {
      "cell_type": "markdown",
      "metadata": {
        "id": "XhN6aaKh1TdF",
        "colab_type": "text"
      },
      "source": [
        "* plot 'variable_importances' graph"
      ]
    },
    {
      "cell_type": "code",
      "metadata": {
        "id": "YlPvzf6l9A43",
        "colab_type": "code",
        "colab": {
          "base_uri": "https://localhost:8080/",
          "height": 472
        },
        "outputId": "ecaea7eb-2fd2-4156-fd03-bb99d76547c9"
      },
      "source": [
        "import matplotlib.pyplot as plt\n",
        "plt.rcdefaults()\n",
        "fig, ax = plt.subplots()\n",
        "variables = best_gbm1._model_json['output']['variable_importances']['variable']\n",
        "y_pos = np.arange(len(variables))\n",
        "scaled_importance = best_gbm1._model_json['output']['variable_importances']['scaled_importance']\n",
        "ax.barh(y_pos, scaled_importance, align='center', color='green', ecolor='black')\n",
        "ax.set_yticks(y_pos)\n",
        "ax.set_yticklabels(variables)\n",
        "ax.invert_yaxis()\n",
        "ax.set_xlabel('Scaled Importance')\n",
        "ax.set_title('Variable Importance')\n",
        "plt.show()  "
      ],
      "execution_count": 82,
      "outputs": [
        {
          "output_type": "display_data",
          "data": {
            "image/png": "[encoded data removed]",
            "text/plain": [
              "<Figure size 640x480 with 1 Axes>"
            ]
          },
          "metadata": {
            "tags": []
          }
        }
      ]
    },
    {
      "cell_type": "markdown",
      "metadata": {
        "id": "EHFszBK51hua",
        "colab_type": "text"
      },
      "source": [
        "* On  'variable_importances' graph 'item_nbr' column is  importance"
      ]
    }
  ]
}