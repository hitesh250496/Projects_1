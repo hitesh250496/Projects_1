{
  "nbformat": 4,
  "nbformat_minor": 0,
  "metadata": {
    "colab": {
      "name": "Santander project.ipynb",
      "provenance": [],
      "collapsed_sections": []
    },
    "kernelspec": {
      "name": "python3",
      "display_name": "Python 3"
    },
    "accelerator": "TPU"
  },
  "cells": [
    {
      "cell_type": "markdown",
      "metadata": {
        "id": "DYL1jjsm-FPk",
        "colab_type": "text"
      },
      "source": [
        "* Import google drive"
      ]
    },
    {
      "cell_type": "code",
      "metadata": {
        "id": "t5yur1LjoPG4",
        "colab_type": "code",
        "colab": {
          "base_uri": "https://localhost:8080/",
          "height": 122
        },
        "outputId": "4522554d-6668-4296-cfb7-ac3afffaec37"
      },
      "source": [
        "\n",
        "from google.colab import drive\n",
        "drive.mount('/gdrive')\n"
      ],
      "execution_count": 2,
      "outputs": [
        {
          "output_type": "stream",
          "text": [
            "Go to this URL in a browser: https://accounts.google.com/o/oauth2/auth?client_id=947318989803-6bn6qk8qdgf4n4g3pfee6491hc0brc4i.apps.googleusercontent.com&redirect_uri=urn%3aietf%3awg%3aoauth%3a2.0%3aoob&scope=email%20https%3a%2f%2fwww.googleapis.com%2fauth%2fdocs.test%20https%3a%2f%2fwww.googleapis.com%2fauth%2fdrive%20https%3a%2f%2fwww.googleapis.com%2fauth%2fdrive.photos.readonly%20https%3a%2f%2fwww.googleapis.com%2fauth%2fpeopleapi.readonly&response_type=code\n",
            "\n",
            "Enter your authorization code:\n",
            "··········\n",
            "Mounted at /gdrive\n"
          ],
          "name": "stdout"
        }
      ]
    },
    {
      "cell_type": "markdown",
      "metadata": {
        "id": "Sc6sC2139sEX",
        "colab_type": "text"
      },
      "source": [
        "* Import Santander folder from my drive"
      ]
    },
    {
      "cell_type": "code",
      "metadata": {
        "id": "jHr7xNARGvCj",
        "colab_type": "code",
        "colab": {}
      },
      "source": [
        "\n",
        "import os\n",
        "os.chdir(\"/gdrive/My Drive/santander\")"
      ],
      "execution_count": 3,
      "outputs": []
    },
    {
      "cell_type": "code",
      "metadata": {
        "id": "uAlUZK_ipC8u",
        "colab_type": "code",
        "colab": {
          "base_uri": "https://localhost:8080/",
          "height": 34
        },
        "outputId": "aca9a1c0-fcb6-47cb-94b7-0a81d7a39cba"
      },
      "source": [
        "import pandas as pd\n",
        "train = pd.read_csv(\"train.csv\",index_col=0)\n",
        "test = pd.read_csv(\"test.csv\",index_col=0)\n",
        "train.shape\n",
        "\n",
        "trainDropNA = train.dropna()\n",
        "\n",
        "trainDropNA.shape\n"
      ],
      "execution_count": 6,
      "outputs": [
        {
          "output_type": "execute_result",
          "data": {
            "text/plain": [
              "(200000, 201)"
            ]
          },
          "metadata": {
            "tags": []
          },
          "execution_count": 6
        }
      ]
    },
    {
      "cell_type": "markdown",
      "metadata": {
        "id": "pclDseVt-W2u",
        "colab_type": "text"
      },
      "source": [
        "* Using dropna() function drop all NA values"
      ]
    },
    {
      "cell_type": "code",
      "metadata": {
        "id": "M41S826YkxZQ",
        "colab_type": "code",
        "colab": {
          "base_uri": "https://localhost:8080/",
          "height": 238
        },
        "outputId": "327c13da-8dbe-4061-e907-e52ca1b74717"
      },
      "source": [
        "\n",
        "test.shape\n",
        "\n",
        "testDropNA = test.dropna()\n",
        "\n",
        "testDropNA.shape\n",
        "\n",
        "X=train.iloc[:,1:]\n",
        "X.head\n",
        "y=train.iloc[:,0]\n",
        "y.head"
      ],
      "execution_count": 7,
      "outputs": [
        {
          "output_type": "execute_result",
          "data": {
            "text/plain": [
              "<bound method NDFrame.head of ID_code\n",
              "train_0         0\n",
              "train_1         0\n",
              "train_2         0\n",
              "train_3         0\n",
              "train_4         0\n",
              "               ..\n",
              "train_199995    0\n",
              "train_199996    0\n",
              "train_199997    0\n",
              "train_199998    0\n",
              "train_199999    0\n",
              "Name: target, Length: 200000, dtype: int64>"
            ]
          },
          "metadata": {
            "tags": []
          },
          "execution_count": 7
        }
      ]
    },
    {
      "cell_type": "markdown",
      "metadata": {
        "id": "lDyGIaBG_HJE",
        "colab_type": "text"
      },
      "source": [
        "* Import the necessary modules"
      ]
    },
    {
      "cell_type": "code",
      "metadata": {
        "id": "B7nXejZykyo2",
        "colab_type": "code",
        "colab": {}
      },
      "source": [
        "from sklearn.model_selection import train_test_split \n",
        "from sklearn.metrics import confusion_matrix, classification_report\n",
        "from sklearn.metrics import accuracy_score\n",
        "\n",
        "\n",
        "\n",
        "X_train, X_test, y_train, y_test = train_test_split(X, y, test_size = 0.3, \n",
        "                                                    random_state=2020)"
      ],
      "execution_count": 8,
      "outputs": []
    },
    {
      "cell_type": "markdown",
      "metadata": {
        "id": "2mo7GFD3_gtk",
        "colab_type": "text"
      },
      "source": [
        "# Stochastic gradient descent (SGD Classifier)\n",
        " * Stochastic gradient method optimized by the rate of convergence .\n",
        " * the gradient of the loss is estimated each sample at a time ."
      ]
    },
    {
      "cell_type": "code",
      "metadata": {
        "id": "hdBe7wtykyme",
        "colab_type": "code",
        "colab": {
          "base_uri": "https://localhost:8080/",
          "height": 221
        },
        "outputId": "c268b01a-953e-43a6-a5a3-c8c5cd91414f"
      },
      "source": [
        "\n",
        "from sklearn.linear_model import SGDClassifier\n",
        "sgdClass = SGDClassifier(loss='log',random_state=2020)\n",
        "sgdClass.fit(X_train,y_train)\n",
        "y_pred = sgdClass.predict(X_test)\n",
        "print(confusion_matrix(y_test, y_pred))\n",
        "print(classification_report(y_test, y_pred))\n",
        "print(accuracy_score(y_test,y_pred))\n"
      ],
      "execution_count": 9,
      "outputs": [
        {
          "output_type": "stream",
          "text": [
            "[[53454   540]\n",
            " [ 4790  1216]]\n",
            "              precision    recall  f1-score   support\n",
            "\n",
            "           0       0.92      0.99      0.95     53994\n",
            "           1       0.69      0.20      0.31      6006\n",
            "\n",
            "    accuracy                           0.91     60000\n",
            "   macro avg       0.81      0.60      0.63     60000\n",
            "weighted avg       0.90      0.91      0.89     60000\n",
            "\n",
            "0.9111666666666667\n"
          ],
          "name": "stdout"
        }
      ]
    },
    {
      "cell_type": "markdown",
      "metadata": {
        "id": "s9_5rLVS_wO8",
        "colab_type": "text"
      },
      "source": [
        "*  Plot ROC curve"
      ]
    },
    {
      "cell_type": "code",
      "metadata": {
        "id": "7miWvEqUSCns",
        "colab_type": "code",
        "colab": {}
      },
      "source": [
        "from sklearn.metrics import roc_curve, roc_auc_score\n",
        "\n",
        "y_pred_prob = sgdClass.predict_proba(X_test)[:,1]\n",
        "\n",
        "\n",
        "fpr, tpr, thresholds = roc_curve(y_test, y_pred_prob)"
      ],
      "execution_count": 10,
      "outputs": []
    },
    {
      "cell_type": "code",
      "metadata": {
        "id": "1_ALHufmkyj_",
        "colab_type": "code",
        "colab": {
          "base_uri": "https://localhost:8080/",
          "height": 312
        },
        "outputId": "cbc73c79-6d0c-461b-f016-beb24e8250fb"
      },
      "source": [
        "\n",
        "\n",
        "import matplotlib.pyplot as plt\n",
        "plt.plot([0, 1], [0, 1], 'k--')\n",
        "plt.plot(fpr, tpr)\n",
        "plt.xlabel('False Positive Rate')\n",
        "plt.ylabel('True Positive Rate')\n",
        "plt.title('ROC Curve')\n",
        "plt.show()\n",
        "roc_auc_score(y_test, y_pred_prob)"
      ],
      "execution_count": 11,
      "outputs": [
        {
          "output_type": "display_data",
          "data": {
            "image/png": "[encoded data removed]",
            "text/plain": [
              "<Figure size 432x288 with 1 Axes>"
            ]
          },
          "metadata": {
            "tags": [],
            "needs_background": "light"
          }
        },
        {
          "output_type": "execute_result",
          "data": {
            "text/plain": [
              "0.8420125052806463"
            ]
          },
          "metadata": {
            "tags": []
          },
          "execution_count": 11
        }
      ]
    },
    {
      "cell_type": "markdown",
      "metadata": {
        "id": "j7_y3ZZEAbYS",
        "colab_type": "text"
      },
      "source": [
        "# SGD Classifier model tunning \n",
        " * Table of Grid Search CV Results\n",
        " * performing hyper parameter tunning in order to determine the optimal values for given mode.\n",
        " * This is significant as the performnace of the entire model is based on the hyper parameter value specified."
      ]
    },
    {
      "cell_type": "code",
      "metadata": {
        "id": "EeHt5gSgkyhg",
        "colab_type": "code",
        "colab": {
          "base_uri": "https://localhost:8080/",
          "height": 51
        },
        "outputId": "09aa0530-d247-4e5d-e787-89a298084633"
      },
      "source": [
        "import numpy as np\n",
        "\n",
        "from sklearn.model_selection import GridSearchCV\n",
        "\n",
        "eta_range = np.linspace(0.001,1.2)\n",
        "\n",
        "sgdClass = SGDClassifier(loss='log',learning_rate='constant',\n",
        "                         eta0=0.00001,random_state=2019)\n",
        "parameters = dict( eta0 = eta_range )\n",
        "svmGrid = GridSearchCV(sgdClass, param_grid=parameters, cv=5,\n",
        "                       scoring='roc_auc')\n",
        "svmGrid.fit(X, y)\n",
        "\n",
        "y_pred_probGrid1=svmGrid.predict_proba(test)[:,1]\n",
        "\n",
        "\n",
        "submit_dict = {'ID_code':list(test.index)  ,'target':y_pred_probGrid1}\n",
        "submit = pd.DataFrame.from_dict(submit_dict)\n",
        "\n",
        "submit.to_csv(\"submit_sgdgrid.csv\",index=False)\n",
        "\n",
        "\n",
        "print(svmGrid.best_params_)\n",
        "\n",
        "print(svmGrid.best_score_)"
      ],
      "execution_count": 13,
      "outputs": [
        {
          "output_type": "stream",
          "text": [
            "{'eta0': 0.001}\n",
            "0.8159084888604236\n"
          ],
          "name": "stdout"
        }
      ]
    },
    {
      "cell_type": "markdown",
      "metadata": {
        "id": "wQo8k3qdA4Mt",
        "colab_type": "text"
      },
      "source": [
        "# Gaussian Naive Bayes\n",
        " * Describe that probability of an event based on prior knowledge of conditions be related of conditions to the event. "
      ]
    },
    {
      "cell_type": "code",
      "metadata": {
        "id": "xTSrPzWPkyfJ",
        "colab_type": "code",
        "colab": {
          "base_uri": "https://localhost:8080/",
          "height": 221
        },
        "outputId": "07ba012f-f02c-4dde-8ebc-22c38ce33704"
      },
      "source": [
        "\n",
        "\n",
        "from sklearn.model_selection import train_test_split \n",
        "from sklearn.metrics import confusion_matrix, classification_report\n",
        "from sklearn.metrics import accuracy_score\n",
        "from sklearn.naive_bayes import GaussianNB\n",
        "\n",
        "gaussian=GaussianNB()\n",
        "gaussian.fit(X_train,y_train)\n",
        "y_pred=gaussian.predict(X_test)\n",
        "\n",
        "print(confusion_matrix(y_test,y_pred))\n",
        "print(classification_report(y_test,y_pred))\n",
        "print(accuracy_score(y_test,y_pred))\n"
      ],
      "execution_count": 14,
      "outputs": [
        {
          "output_type": "stream",
          "text": [
            "[[53087   907]\n",
            " [ 3764  2242]]\n",
            "              precision    recall  f1-score   support\n",
            "\n",
            "           0       0.93      0.98      0.96     53994\n",
            "           1       0.71      0.37      0.49      6006\n",
            "\n",
            "    accuracy                           0.92     60000\n",
            "   macro avg       0.82      0.68      0.72     60000\n",
            "weighted avg       0.91      0.92      0.91     60000\n",
            "\n",
            "0.92215\n"
          ],
          "name": "stdout"
        }
      ]
    },
    {
      "cell_type": "code",
      "metadata": {
        "id": "wFc4DHaSkycm",
        "colab_type": "code",
        "colab": {}
      },
      "source": [
        "#######\n",
        "\n",
        "gaussian=GaussianNB()\n",
        "gaussian.fit(X,y)\n",
        "y_pred_prob=gaussian.predict_proba(test)[:,1]\n",
        "\n",
        "submit_dict = {'ID_code':list(test.index)  ,'target':y_pred_prob}\n",
        "submit = pd.DataFrame.from_dict(submit_dict)\n",
        "\n",
        "submit.to_csv(\"submit_gaussianNB.csv\",index=False)"
      ],
      "execution_count": 15,
      "outputs": []
    },
    {
      "cell_type": "markdown",
      "metadata": {
        "id": "_6QkdZ1CXZx4",
        "colab_type": "text"
      },
      "source": [
        "# DECISION TREE CLASSIFIER \n",
        " * The goal of DECISION TREE CLASSIFIER is to split data into groups such as every element in one group belong to the same category.\n",
        " * DECISION TREE CLASSIFIER create a set of binary split on the predictor variables."
      ]
    },
    {
      "cell_type": "code",
      "metadata": {
        "id": "EpX8j6VfkyZ_",
        "colab_type": "code",
        "colab": {
          "base_uri": "https://localhost:8080/",
          "height": 221
        },
        "outputId": "40a1ddbb-1c7f-4c3e-8098-2adcf8382118"
      },
      "source": [
        "\n",
        "\n",
        "from sklearn.model_selection import train_test_split \n",
        "from sklearn.metrics import confusion_matrix, classification_report\n",
        "from sklearn.metrics import accuracy_score\n",
        "from sklearn.tree import DecisionTreeClassifier\n",
        "\n",
        "clf=DecisionTreeClassifier(random_state=2020)\n",
        "clf=clf.fit(X_train,y_train)\n",
        "\n",
        "y_pred=clf.predict(X_test)\n",
        "print(confusion_matrix(y_test, y_pred))\n",
        "print(classification_report(y_test, y_pred))\n",
        "print(accuracy_score(y_test,y_pred))"
      ],
      "execution_count": 16,
      "outputs": [
        {
          "output_type": "stream",
          "text": [
            "[[48614  5380]\n",
            " [ 4694  1312]]\n",
            "              precision    recall  f1-score   support\n",
            "\n",
            "           0       0.91      0.90      0.91     53994\n",
            "           1       0.20      0.22      0.21      6006\n",
            "\n",
            "    accuracy                           0.83     60000\n",
            "   macro avg       0.55      0.56      0.56     60000\n",
            "weighted avg       0.84      0.83      0.84     60000\n",
            "\n",
            "0.8321\n"
          ],
          "name": "stdout"
        }
      ]
    },
    {
      "cell_type": "code",
      "metadata": {
        "id": "Dg19n2iNkyXX",
        "colab_type": "code",
        "colab": {}
      },
      "source": [
        "##########\n",
        "clf=DecisionTreeClassifier(random_state=2020)\n",
        "clf=clf.fit(X,y)\n",
        "y_pred_prob5=clf.predict_proba(test)[:,1]\n",
        "\n",
        "submit_dict = {'ID_code':list(test.index)  ,'target':y_pred_prob5}\n",
        "submit = pd.DataFrame.from_dict(submit_dict)\n",
        "\n",
        "submit.to_csv(\"submit_dectreeclf.csv\",index=False)"
      ],
      "execution_count": 17,
      "outputs": []
    },
    {
      "cell_type": "markdown",
      "metadata": {
        "id": "DD4aKJJaZsQm",
        "colab_type": "text"
      },
      "source": [
        "# RANDOM FOREST \n",
        " * RANDOM FOREST is an ensembled learning approach multiple productive models are developed and result are aggreated to improve precision .\n",
        " * Ouecomes is considered as per majority in different trees.\n",
        " * Creats a set of Decision Trees from randomly selected subset of training set\n",
        " * It then aggreagates the votes from different desicion trees to descrete final class of test object. "
      ]
    },
    {
      "cell_type": "code",
      "metadata": {
        "id": "2euQrznpkyUu",
        "colab_type": "code",
        "colab": {
          "base_uri": "https://localhost:8080/",
          "height": 221
        },
        "outputId": "f06e1e23-d190-4532-b46e-e1d80fd3bd03"
      },
      "source": [
        "\n",
        "\n",
        "from sklearn import datasets\n",
        "from sklearn.ensemble import RandomForestClassifier\n",
        "clf=RandomForestClassifier(n_estimators=100)\n",
        "clf.fit(X_train,y_train)\n",
        "\n",
        "y_pred=clf.predict(X_test)\n",
        " \n",
        "print(confusion_matrix(y_test, y_pred))\n",
        "print(classification_report(y_test, y_pred))\n",
        "print(accuracy_score(y_test,y_pred))\n"
      ],
      "execution_count": 18,
      "outputs": [
        {
          "output_type": "stream",
          "text": [
            "[[53994     0]\n",
            " [ 6004     2]]\n",
            "              precision    recall  f1-score   support\n",
            "\n",
            "           0       0.90      1.00      0.95     53994\n",
            "           1       1.00      0.00      0.00      6006\n",
            "\n",
            "    accuracy                           0.90     60000\n",
            "   macro avg       0.95      0.50      0.47     60000\n",
            "weighted avg       0.91      0.90      0.85     60000\n",
            "\n",
            "0.8999333333333334\n"
          ],
          "name": "stdout"
        }
      ]
    },
    {
      "cell_type": "code",
      "metadata": {
        "id": "45CApczUkyR3",
        "colab_type": "code",
        "colab": {}
      },
      "source": [
        "#############\n",
        "\n",
        "random=RandomForestClassifier(n_estimators=10)\n",
        "random.fit(X,y)\n",
        "\n",
        "y_pred_prob1=random.predict_proba(test)[:,1]\n",
        "\n",
        "submit_dict = {'ID_code':list(test.index)  ,'target':y_pred_prob1}\n",
        "submit = pd.DataFrame.from_dict(submit_dict)\n",
        "\n",
        "submit.to_csv(\"submit_randomF.csv\",index=False)"
      ],
      "execution_count": null,
      "outputs": []
    },
    {
      "cell_type": "markdown",
      "metadata": {
        "id": "dfn3SErLme2j",
        "colab_type": "text"
      },
      "source": [
        "# XGBOOST Classifier\n",
        "* Boosting refers to a family of algorithm which converts weak learner to strong learner.\n",
        "* Weak learner is less prececision and Strong learner is more precision."
      ]
    },
    {
      "cell_type": "code",
      "metadata": {
        "id": "THx21_PDkyL2",
        "colab_type": "code",
        "colab": {
          "base_uri": "https://localhost:8080/",
          "height": 221
        },
        "outputId": "ac68e006-1d71-4519-c395-0d0c7e810b40"
      },
      "source": [
        "from xgboost import XGBClassifier\n",
        "\n",
        "clf = XGBClassifier(random_state=2000)\n",
        "clf.fit(X_train,y_train)\n",
        "\n",
        "y_pred = clf.predict(X_test)\n",
        "print(confusion_matrix(y_test, y_pred))\n",
        "print(classification_report(y_test, y_pred))\n",
        "print(accuracy_score(y_test,y_pred))\n",
        "\n"
      ],
      "execution_count": 19,
      "outputs": [
        {
          "output_type": "stream",
          "text": [
            "[[53987     7]\n",
            " [ 5902   104]]\n",
            "              precision    recall  f1-score   support\n",
            "\n",
            "           0       0.90      1.00      0.95     53994\n",
            "           1       0.94      0.02      0.03      6006\n",
            "\n",
            "    accuracy                           0.90     60000\n",
            "   macro avg       0.92      0.51      0.49     60000\n",
            "weighted avg       0.91      0.90      0.86     60000\n",
            "\n",
            "0.9015166666666666\n"
          ],
          "name": "stdout"
        }
      ]
    },
    {
      "cell_type": "markdown",
      "metadata": {
        "id": "eZ3_z-75ntbl",
        "colab_type": "text"
      },
      "source": [
        "\n",
        "# Plot ROC curve"
      ]
    },
    {
      "cell_type": "code",
      "metadata": {
        "id": "rGvcpRxjnqLE",
        "colab_type": "code",
        "colab": {
          "base_uri": "https://localhost:8080/",
          "height": 312
        },
        "outputId": "259c064a-2d0e-41c1-93a8-631fa889727e"
      },
      "source": [
        "from sklearn.metrics import roc_curve, roc_auc_score\n",
        "\n",
        "\n",
        "y_pred_prob = clf.predict_proba(X_test)[:,1]\n",
        "\n",
        "fpr, tpr, thresholds = roc_curve(y_test, y_pred_prob)\n",
        "\n",
        "# Plot ROC curve\n",
        "import matplotlib.pyplot as plt\n",
        "plt.plot([0, 1], [0, 1], 'k--')\n",
        "plt.plot(fpr, tpr)\n",
        "plt.xlabel('False Positive Rate')\n",
        "plt.ylabel('True Positive Rate')\n",
        "plt.title('ROC Curve')\n",
        "plt.show()\n",
        "roc_auc_score(y_test, y_pred_prob)"
      ],
      "execution_count": 20,
      "outputs": [
        {
          "output_type": "display_data",
          "data": {
            "image/png": "[encoded data removed]",
            "text/plain": [
              "<Figure size 432x288 with 1 Axes>"
            ]
          },
          "metadata": {
            "tags": [],
            "needs_background": "light"
          }
        },
        {
          "output_type": "execute_result",
          "data": {
            "text/plain": [
              "0.8361238840180945"
            ]
          },
          "metadata": {
            "tags": []
          },
          "execution_count": 20
        }
      ]
    },
    {
      "cell_type": "code",
      "metadata": {
        "id": "VSnZDbGvkx5W",
        "colab_type": "code",
        "colab": {}
      },
      "source": [
        "\n",
        "\n",
        "\n",
        "clf = XGBClassifier(random_state=2000)\n",
        "clf.fit(X,y)\n",
        "y_pred_prob2=clf.predict_proba(test)[:,1]\n",
        "\n",
        "submit_dict = {'ID_code':list(test.index)  ,'target':y_pred_prob2}\n",
        "submit = pd.DataFrame.from_dict(submit_dict)\n",
        "\n",
        "submit.to_csv(\"submit_xgboost.csv\",index=False)"
      ],
      "execution_count": 21,
      "outputs": []
    },
    {
      "cell_type": "markdown",
      "metadata": {
        "id": "QsK_FMgxoWE2",
        "colab_type": "text"
      },
      "source": [
        " # MLP CLASSIFIER (Multilayer Perceptron )\n",
        " * Neural network with input layer ,one or more hidden layer and one output layer is called MLP .\n",
        " * Neural network is constructed from a number of interconnected nodes called neutrons.\n",
        " *neutrons are arranged into input layer,hidden layer and output layer."
      ]
    },
    {
      "cell_type": "code",
      "metadata": {
        "id": "-LQ-j6JWmIrt",
        "colab_type": "code",
        "colab": {
          "base_uri": "https://localhost:8080/",
          "height": 275
        },
        "outputId": "451c2e1a-9ca8-43dc-bbf5-fde5c9a9944f"
      },
      "source": [
        "\n",
        "\n",
        "from sklearn.neural_network import MLPClassifier\n",
        "\n",
        "mlp = MLPClassifier(hidden_layer_sizes=(3,3,2),activation='tanh',\n",
        "                    random_state=2018)\n",
        "mlp.fit( X_train , y_train )\n",
        "y_pred = mlp.predict(X_test)\n",
        "\n",
        "print(confusion_matrix(y_test, y_pred))\n",
        "print(classification_report(y_test, y_pred))\n",
        "print(accuracy_score(y_test, y_pred))"
      ],
      "execution_count": 42,
      "outputs": [
        {
          "output_type": "stream",
          "text": [
            "[[53994     0]\n",
            " [ 6006     0]]\n",
            "              precision    recall  f1-score   support\n",
            "\n",
            "           0       0.90      1.00      0.95     53994\n",
            "           1       0.00      0.00      0.00      6006\n",
            "\n",
            "    accuracy                           0.90     60000\n",
            "   macro avg       0.45      0.50      0.47     60000\n",
            "weighted avg       0.81      0.90      0.85     60000\n",
            "\n",
            "0.8999\n"
          ],
          "name": "stdout"
        },
        {
          "output_type": "stream",
          "text": [
            "/usr/local/lib/python3.6/dist-packages/sklearn/metrics/_classification.py:1272: UndefinedMetricWarning: Precision and F-score are ill-defined and being set to 0.0 in labels with no predicted samples. Use `zero_division` parameter to control this behavior.\n",
            "  _warn_prf(average, modifier, msg_start, len(result))\n"
          ],
          "name": "stderr"
        }
      ]
    },
    {
      "cell_type": "code",
      "metadata": {
        "id": "pXjdfQDmmI3e",
        "colab_type": "code",
        "colab": {}
      },
      "source": [
        "\n",
        "mlp = MLPClassifier(hidden_layer_sizes=(3,3,2),activation='tanh',\n",
        "                    random_state=2018)\n",
        "mlp.fit( X, y )\n",
        "y_pred_prob3=mlp.predict_proba(test)[:,1]\n",
        "\n",
        "submit_dict = {'ID_code':list(test.index)  ,'target':y_pred_prob3}\n",
        "submit = pd.DataFrame.from_dict(submit_dict)\n",
        "\n",
        "submit.to_csv(\"submit_mlp.csv\",index=False)"
      ],
      "execution_count": 43,
      "outputs": []
    },
    {
      "cell_type": "markdown",
      "metadata": {
        "id": "Gld5TMUqpvRw",
        "colab_type": "text"
      },
      "source": [
        "# VOTING CLASSIFIER\n",
        "* Voting is one of the simplest way of combining the predictions from multiple machine learning algorithms. Voting classifier isn’t an actual classifier but a wrapper for set of different ones that are trained and valuated in parallel in order to exploit the different peculiarities of each algorithm."
      ]
    },
    {
      "cell_type": "code",
      "metadata": {
        "id": "LmDeysrhmI8t",
        "colab_type": "code",
        "colab": {
          "base_uri": "https://localhost:8080/",
          "height": 238
        },
        "outputId": "b278c2a0-f76b-4bf7-a630-46096aa346bf"
      },
      "source": [
        "\n",
        "\n",
        "from sklearn.ensemble import VotingClassifier\n",
        "\n",
        "from sklearn.tree import DecisionTreeClassifier\n",
        "from sklearn.neural_network import MLPClassifier\n",
        "from xgboost import XGBClassifier\n",
        "from sklearn.naive_bayes import GaussianNB\n",
        "from sklearn.ensemble import RandomForestClassifier\n",
        "\n",
        "dtc = DecisionTreeClassifier(random_state=2019)\n",
        "\n",
        "mlp = MLPClassifier(hidden_layer_sizes=(3,3,2),activation='tanh',\n",
        "                    random_state=2018)\n",
        "\n",
        "clf = XGBClassifier(random_state=2000)\n",
        "\n",
        "gaus=GaussianNB()\n",
        "\n",
        "rdmf=RandomForestClassifier(n_estimators=100)\n",
        "\n",
        "Voting = VotingClassifier(estimators=[('DT',dtc),('ML',mlp),\n",
        "                             ('XG',clf),('GU',gaus)],voting='soft')\n",
        "\n",
        "\n",
        "Voting.fit(X,y)\n",
        "y_pred_vot1 = Voting.predict(X_test)\n",
        "\n",
        "print(confusion_matrix(y_test, y_pred_vot1))\n",
        "print(classification_report(y_test, y_pred_vot1))\n",
        "print(accuracy_score(y_test,y_pred_vot1))\n",
        "y_pred_probvot = Voting.predict_proba(X_test)[:,1]\n",
        "print(roc_auc_score(y_test, y_pred_probvot))\n"
      ],
      "execution_count": 44,
      "outputs": [
        {
          "output_type": "stream",
          "text": [
            "[[53993     1]\n",
            " [ 3551  2455]]\n",
            "              precision    recall  f1-score   support\n",
            "\n",
            "           0       0.94      1.00      0.97     53994\n",
            "           1       1.00      0.41      0.58      6006\n",
            "\n",
            "    accuracy                           0.94     60000\n",
            "   macro avg       0.97      0.70      0.77     60000\n",
            "weighted avg       0.94      0.94      0.93     60000\n",
            "\n",
            "0.9408\n",
            "0.9970209656008078\n"
          ],
          "name": "stdout"
        }
      ]
    },
    {
      "cell_type": "code",
      "metadata": {
        "id": "WVrIova_VwWM",
        "colab_type": "code",
        "colab": {}
      },
      "source": [
        "submit_dict = {'ID_code':list(test.index)  ,'target':y_pred_probvot}\n",
        "submit = pd.DataFrame.from_dict(submit_dict,encoding='utf-8')\n",
        "\n",
        "submit.to_csv(\"submit_vot.csv\",index=False)\n"
      ],
      "execution_count": null,
      "outputs": []
    },
    {
      "cell_type": "markdown",
      "metadata": {
        "id": "gGf3CYk3hgv3",
        "colab_type": "text"
      },
      "source": [
        "\n",
        "# Multiple acc in one Graph"
      ]
    },
    {
      "cell_type": "code",
      "metadata": {
        "id": "Zt5zp_sufM7G",
        "colab_type": "code",
        "colab": {}
      },
      "source": [
        "from sklearn.tree import DecisionTreeClassifier\n",
        "from sklearn.neural_network import MLPClassifier\n",
        "from xgboost import XGBClassifier\n",
        "from sklearn.naive_bayes import GaussianNB\n",
        "from sklearn.ensemble import RandomForestClassifier\n",
        "from sklearn.linear_model import SGDClassifier"
      ],
      "execution_count": 48,
      "outputs": []
    },
    {
      "cell_type": "code",
      "metadata": {
        "id": "z-Y-gfrkpD6O",
        "colab_type": "code",
        "colab": {}
      },
      "source": [
        "\n",
        "classifiers=[RandomForestClassifier(random_state=2020),GaussianNB(),\n",
        "            DecisionTreeClassifier(random_state=2020),MLPClassifier(hidden_layer_sizes=(3,3,2),activation='tanh',\n",
        "                    random_state=2020),SGDClassifier(loss='log',random_state=2020), XGBClassifier(random_state=2020)]"
      ],
      "execution_count": 49,
      "outputs": []
    },
    {
      "cell_type": "markdown",
      "metadata": {
        "id": "sq3wSEaHhqT3",
        "colab_type": "text"
      },
      "source": [
        "* Define a result table as a DataFrame"
      ]
    },
    {
      "cell_type": "code",
      "metadata": {
        "id": "c4m4y93ERa-K",
        "colab_type": "code",
        "colab": {}
      },
      "source": [
        "\n",
        "result_table = pd.DataFrame(columns=['classifiers', 'fpr','tpr','auc'])\n",
        "\n"
      ],
      "execution_count": 50,
      "outputs": []
    },
    {
      "cell_type": "markdown",
      "metadata": {
        "id": "OqtjaTnSh1qm",
        "colab_type": "text"
      },
      "source": [
        "* Train the models and record the results"
      ]
    },
    {
      "cell_type": "code",
      "metadata": {
        "id": "vPXaoL63hz4H",
        "colab_type": "code",
        "colab": {}
      },
      "source": [
        "\n",
        "for cls in classifiers:\n",
        "    model = cls.fit(X_train, y_train)\n",
        "    yproba = model.predict_proba(X_test)[::,1]\n",
        "    \n",
        "    fpr, tpr, _ = roc_curve(y_test,  yproba)\n",
        "    auc = roc_auc_score(y_test, yproba)\n",
        "    \n",
        "    result_table = result_table.append({'classifiers':cls.__class__.__name__,\n",
        "                                        'fpr':fpr, \n",
        "                                        'tpr':tpr, \n",
        "                                        'auc':auc}, ignore_index=True)"
      ],
      "execution_count": 51,
      "outputs": []
    },
    {
      "cell_type": "markdown",
      "metadata": {
        "id": "y_ANK2Cvh7EG",
        "colab_type": "text"
      },
      "source": [
        "* Set name of the classifiers as index labels"
      ]
    },
    {
      "cell_type": "code",
      "metadata": {
        "id": "fFRhV-9Qh5RO",
        "colab_type": "code",
        "colab": {}
      },
      "source": [
        "\n",
        "result_table.set_index('classifiers', inplace=True)"
      ],
      "execution_count": 52,
      "outputs": []
    },
    {
      "cell_type": "markdown",
      "metadata": {
        "id": "SUOo3M3GiB8Y",
        "colab_type": "text"
      },
      "source": [
        "# Plot the figure"
      ]
    },
    {
      "cell_type": "code",
      "metadata": {
        "id": "BQ4kI38ZpD9j",
        "colab_type": "code",
        "colab": {
          "base_uri": "https://localhost:8080/",
          "height": 411
        },
        "outputId": "11696cd8-595d-4f97-a1d1-2fbd7baefb1f"
      },
      "source": [
        "\n",
        "fig = plt.figure(figsize=(8,6))\n",
        "\n",
        "for i in result_table.index:\n",
        "    plt.plot(result_table.loc[i]['fpr'], \n",
        "             result_table.loc[i]['tpr'], \n",
        "             label=\"{}, AUC={:.3f}\".format(i, result_table.loc[i]['auc']))\n",
        "    \n",
        "plt.plot([0,1], [0,1], color='orange', linestyle='--')\n",
        "\n",
        "plt.xticks(np.arange(0.0, 1.1, step=0.1))\n",
        "plt.xlabel(\"Flase Positive Rate\", fontsize=15)\n",
        "\n",
        "plt.yticks(np.arange(0.0, 1.1, step=0.1))\n",
        "plt.ylabel(\"True Positive Rate\", fontsize=15)\n",
        "\n",
        "plt.title('ROC Curve Analysis', fontweight='bold', fontsize=15)\n",
        "plt.legend(prop={'size':13}, loc='lower right')\n",
        "\n",
        "plt.show()"
      ],
      "execution_count": 53,
      "outputs": [
        {
          "output_type": "display_data",
          "data": {
            "image/png": "[encoded data removed]",
            "text/plain": [
              "<Figure size 576x432 with 1 Axes>"
            ]
          },
          "metadata": {
            "tags": [],
            "needs_background": "light"
          }
        }
      ]
    },
    {
      "cell_type": "markdown",
      "metadata": {
        "id": "miPeiV3ugfrQ",
        "colab_type": "text"
      },
      "source": [
        "* From above ROC curve we found Gaussian Navie bayes has highest accuracy. Hence we can say its a best model for our data."
      ]
    }
  ]
}